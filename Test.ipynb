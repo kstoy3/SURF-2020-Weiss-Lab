{
  "nbformat": 4,
  "nbformat_minor": 0,
  "metadata": {
    "colab": {
      "name": "Test.ipynb",
      "provenance": [],
      "authorship_tag": "ABX9TyOb+M0x16Ur3bjmJgaN6xYT",
      "include_colab_link": true
    },
    "kernelspec": {
      "name": "python3",
      "display_name": "Python 3"
    }
  },
  "cells": [
    {
      "cell_type": "markdown",
      "metadata": {
        "id": "view-in-github",
        "colab_type": "text"
      },
      "source": [
        "<a href=\"https://colab.research.google.com/github/kstoy3/SURF-2020-Weiss-Lab/blob/master/Test.ipynb\" target=\"_parent\"><img src=\"https://colab.research.google.com/assets/colab-badge.svg\" alt=\"Open In Colab\"/></a>"
      ]
    },
    {
      "cell_type": "markdown",
      "metadata": {
        "id": "HQDyZKoj3vaf",
        "colab_type": "text"
      },
      "source": [
        "This is Test 1 for github\n"
      ]
    },
    {
      "cell_type": "markdown",
      "metadata": {
        "id": "7tfIN8sE6dyd",
        "colab_type": "text"
      },
      "source": [
        "This is Test 2 for github"
      ]
    }
  ]
}