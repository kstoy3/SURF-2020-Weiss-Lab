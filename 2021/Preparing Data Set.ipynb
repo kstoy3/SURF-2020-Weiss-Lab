{
 "cells": [
  {
   "cell_type": "code",
   "execution_count": 1,
   "metadata": {},
   "outputs": [],
   "source": [
    "from Bio import SeqIO\n",
    "from Bio.Seq import Seq\n",
    "from Bio.SeqRecord import SeqRecord\n",
    "from collections import defaultdict\n",
    "import numpy as np\n",
    "import pandas as pd\n",
    "# read names and postions from bed file\n",
    "positions = defaultdict(list)\n",
    "extra = []\n",
    "with open('../../Data/Seq_indexes.bed') as f:\n",
    "    for line in f:\n",
    "        name, start, stop, label = line.split()\n",
    "        extra.append(label)\n",
    "        positions[name].append((int(start), int(stop), label))\n",
    "\n",
    "# parse faste file and turn into dictionary\n",
    "records = SeqIO.to_dict(SeqIO.parse(open('../../Data/chr1.fa'), 'fasta'))"
   ]
  },
  {
   "cell_type": "code",
   "execution_count": 2,
   "metadata": {},
   "outputs": [],
   "source": [
    "import matplotlib.pyplot as plt\n",
    "import numpy as np"
   ]
  },
  {
   "cell_type": "markdown",
   "metadata": {},
   "source": [
    "Extracting Fasta to tabular\n",
    "https://stackoverflow.com/questions/30503543/python-extract-dna-sequence-from-fasta-file-using-bed-file\n",
    "https://biopython.org/wiki/SeqIO"
   ]
  },
  {
   "cell_type": "code",
   "execution_count": 3,
   "metadata": {},
   "outputs": [
    {
     "name": "stdout",
     "output_type": "stream",
     "text": [
      "['chr1', 'chr2', 'chr3', 'chr4', 'chr5', 'chr6', 'chr7', 'chr8', 'chr9', 'chr10', 'chr11', 'chr12', 'chr13', 'chr14', 'chr15', 'chr16', 'chr17', 'chr18', 'chr19', 'chr20', 'chr21', 'chr22', 'chrX']\n",
      "(10000, 10600, '21_Het')\n"
     ]
    }
   ],
   "source": [
    "chromosomes = []\n",
    "for i in range(1, 23):\n",
    "    chromosomes.append('chr' + str(i))\n",
    "chromosomes.append('chrX')\n",
    "print(chromosomes)\n",
    "\n",
    "print(positions[chromosomes[0]][0])"
   ]
  },
  {
   "cell_type": "code",
   "execution_count": 4,
   "metadata": {},
   "outputs": [
    {
     "ename": "NameError",
     "evalue": "name 'df' is not defined",
     "output_type": "error",
     "traceback": [
      "\u001b[1;31m---------------------------------------------------------------------------\u001b[0m",
      "\u001b[1;31mNameError\u001b[0m                                 Traceback (most recent call last)",
      "\u001b[1;32m<ipython-input-4-614ee6202519>\u001b[0m in \u001b[0;36m<module>\u001b[1;34m\u001b[0m\n\u001b[0;32m      1\u001b[0m \u001b[1;31m# The Letters in the Sequences\u001b[0m\u001b[1;33m\u001b[0m\u001b[1;33m\u001b[0m\u001b[1;33m\u001b[0m\u001b[0m\n\u001b[0;32m      2\u001b[0m \u001b[0mletters\u001b[0m \u001b[1;33m=\u001b[0m \u001b[1;33m{\u001b[0m\u001b[1;33m}\u001b[0m\u001b[1;33m\u001b[0m\u001b[1;33m\u001b[0m\u001b[0m\n\u001b[1;32m----> 3\u001b[1;33m \u001b[1;32mfor\u001b[0m \u001b[0mseq\u001b[0m \u001b[1;32min\u001b[0m \u001b[0mdf\u001b[0m\u001b[1;33m[\u001b[0m\u001b[1;34m'seq'\u001b[0m\u001b[1;33m]\u001b[0m\u001b[1;33m.\u001b[0m\u001b[0mvalues\u001b[0m\u001b[1;33m:\u001b[0m\u001b[1;33m\u001b[0m\u001b[1;33m\u001b[0m\u001b[0m\n\u001b[0m\u001b[0;32m      4\u001b[0m     \u001b[1;32mif\u001b[0m \u001b[0mlen\u001b[0m\u001b[1;33m(\u001b[0m\u001b[0mseq\u001b[0m\u001b[1;33m)\u001b[0m \u001b[1;33m<\u001b[0m \u001b[1;36m1000\u001b[0m\u001b[1;33m:\u001b[0m\u001b[1;33m\u001b[0m\u001b[1;33m\u001b[0m\u001b[0m\n\u001b[0;32m      5\u001b[0m         \u001b[1;32mfor\u001b[0m \u001b[0mletter\u001b[0m \u001b[1;32min\u001b[0m \u001b[0mseq\u001b[0m\u001b[1;33m:\u001b[0m\u001b[1;33m\u001b[0m\u001b[1;33m\u001b[0m\u001b[0m\n",
      "\u001b[1;31mNameError\u001b[0m: name 'df' is not defined"
     ]
    }
   ],
   "source": [
    "# The Letters in the Sequences\n",
    "letters = {}\n",
    "for seq in df['seq'].values:\n",
    "    if len(seq) < 1000:\n",
    "        for letter in seq:\n",
    "            if letter not in letters:\n",
    "                letters[letter] = 1\n",
    "print(letters) "
   ]
  },
  {
   "cell_type": "code",
   "execution_count": 49,
   "metadata": {},
   "outputs": [
    {
     "name": "stdout",
     "output_type": "stream",
     "text": [
      "       chrom                                                seq     label\n",
      "0       chr1  Ntaaccctaaccctaaccctaaccctaaccctaaccctaaccctaa...    21_Het\n",
      "1       chr1  tgaggagaacgcaactccgccgttgcaaaggcgcgccgcgccggcg...  25_Quies\n",
      "2       chr1  ATCTTATCTTTATATGATTCCCTTGCTGCCTGGAGATTGACATTTC...  25_Quies\n",
      "3       chr1  ATTAAGTACACATCTTATTTTCCAGTGATAATGCTACCGGCAAATT...  25_Quies\n",
      "4       chr1  GCCTGATTCATGGCTgaaatcacgtttgaccagctatgtgtgtctc...  25_Quies\n",
      "...      ...                                                ...       ...\n",
      "751504  chrX  ATCTCTCTCAAATTGACCTAATTGGTTTCATTCTCAGCAAAATGAC...    21_Het\n",
      "751505  chrX  CCCCTGTTCACCTCAGCCCTGCACCCTTTCACCCTCCTGTAAGCCC...  25_Quies\n",
      "751506  chrX  gtgtgtgtatgtctgtgtgtgtgtgtttatgtgtgtgtgtctgtgt...    21_Het\n",
      "751507  chrX  tttgtgtgtgtgtgtctcgtgtgtgtgtgtctgtgtgtatctgtgt...  25_Quies\n",
      "751508  chrX  ttggggttggggttggggttagggtttgggtttagggttggggtag...    21_Het\n",
      "\n",
      "[751509 rows x 3 columns]\n"
     ]
    }
   ],
   "source": [
    "d = {}\n",
    "count = 0\n",
    "\n",
    "for chrom in chromosomes:\n",
    "    records = SeqIO.to_dict(SeqIO.parse(open('../../Data/' + (chrom) + '.fa'), 'fasta'))\n",
    "    long_seq_record = records[chrom]\n",
    "    long_seq = long_seq_record.seq\n",
    "    chrom_seq = str(long_seq)\n",
    "    for (start, stop, label) in positions[chrom]:\n",
    "        d[count] = {\"chrom\": chrom, \"seq\": chrom_seq[start-1:stop], \"label\": label}\n",
    "        count += 1\n",
    "df = df.from_dict(d, \"index\")\n",
    "print(df)"
   ]
  },
  {
   "cell_type": "code",
   "execution_count": 51,
   "metadata": {},
   "outputs": [],
   "source": [
    "df.to_csv('output_123.csv.gz'\n",
    "         , sep='|'\n",
    "         , header=True\n",
    "         , index=False\n",
    "         , chunksize=100000\n",
    "         , compression='gzip'\n",
    "         , encoding='utf-8')"
   ]
  },
  {
   "cell_type": "code",
   "execution_count": 112,
   "metadata": {},
   "outputs": [
    {
     "name": "stdout",
     "output_type": "stream",
     "text": [
      "       chrom                                                seq     label\n",
      "0       chr1  ntaaccctaaccctaaccctaaccctaaccctaaccctaaccctaa...    21_Het\n",
      "1       chr1  tgaggagaacgcaactccgccgttgcaaaggcgcgccgcgccggcg...  25_Quies\n",
      "2       chr1  atcttatctttatatgattcccttgctgcctggagattgacatttc...  25_Quies\n",
      "3       chr1  attaagtacacatcttattttccagtgataatgctaccggcaaatt...  25_Quies\n",
      "4       chr1  gcctgattcatggctgaaatcacgtttgaccagctatgtgtgtctc...  25_Quies\n",
      "...      ...                                                ...       ...\n",
      "751504  chrX  ATCTCTCTCAAATTGACCTAATTGGTTTCATTCTCAGCAAAATGAC...    21_Het\n",
      "751505  chrX  CCCCTGTTCACCTCAGCCCTGCACCCTTTCACCCTCCTGTAAGCCC...  25_Quies\n",
      "751506  chrX  gtgtgtgtatgtctgtgtgtgtgtgtttatgtgtgtgtgtctgtgt...    21_Het\n",
      "751507  chrX  tttgtgtgtgtgtgtctcgtgtgtgtgtgtctgtgtgtatctgtgt...  25_Quies\n",
      "751508  chrX  ttggggttggggttggggttagggtttgggtttagggttggggtag...    21_Het\n",
      "\n",
      "[751509 rows x 3 columns]\n",
      "atcttatctttatatgattcccttgctgcctggagattgacatttccttggggataatctggtcataggattggtgaaggtggaagggaggcaacctccaaaggtggggccctctgctcacctgggacagggagggcctgaggtaggtgtctgtgtgggctggggaggaggatgggagcagtgcttctagatgtttccact\n",
      "       chrom                                                seq     label\n",
      "0       chr1  ntaaccctaaccctaaccctaaccctaaccctaaccctaaccctaa...    21_Het\n",
      "1       chr1  tgaggagaacgcaactccgccgttgcaaaggcgcgccgcgccggcg...  25_Quies\n",
      "2       chr1  atcttatctttatatgattcccttgctgcctggagattgacatttc...  25_Quies\n",
      "3       chr1  attaagtacacatcttattttccagtgataatgctaccggcaaatt...  25_Quies\n",
      "4       chr1  gcctgattcatggctgaaatcacgtttgaccagctatgtgtgtctc...  25_Quies\n",
      "...      ...                                                ...       ...\n",
      "751504  chrX  atctctctcaaattgacctaattggtttcattctcagcaaaatgac...    21_Het\n",
      "751505  chrX  cccctgttcacctcagccctgcaccctttcaccctcctgtaagccc...  25_Quies\n",
      "751506  chrX  gtgtgtgtatgtctgtgtgtgtgtgtttatgtgtgtgtgtctgtgt...    21_Het\n",
      "751507  chrX  tttgtgtgtgtgtgtctcgtgtgtgtgtgtctgtgtgtatctgtgt...  25_Quies\n",
      "751508  chrX  ttggggttggggttggggttagggtttgggtttagggttggggtag...    21_Het\n",
      "\n",
      "[751509 rows x 3 columns]\n"
     ]
    }
   ],
   "source": [
    "print(df)\n",
    "count = 0\n",
    "for i in range(len(df['seq'].values)):\n",
    "    if i == 2:\n",
    "        print(df['seq'][i])\n",
    "    df['seq'][i] = df['seq'][i].lower()\n",
    "    count += 1\n",
    "    \n",
    "print(df)"
   ]
  },
  {
   "cell_type": "code",
   "execution_count": 114,
   "metadata": {},
   "outputs": [],
   "source": [
    "df.to_csv('genome_lower.csv.gz'\n",
    "         , sep='|'\n",
    "         , header=True\n",
    "         , index=False\n",
    "         , chunksize=100000\n",
    "         , compression='gzip'\n",
    "         , encoding='utf-8')"
   ]
  },
  {
   "cell_type": "code",
   "execution_count": 13,
   "metadata": {},
   "outputs": [],
   "source": [
    "df = pd.read_csv('../../Data/genome_lower.csv.gz', compression='gzip', sep =\"|\")"
   ]
  },
  {
   "cell_type": "code",
   "execution_count": 14,
   "metadata": {},
   "outputs": [
    {
     "name": "stdout",
     "output_type": "stream",
     "text": [
      "       chrom                                                seq     label\n",
      "0       chr1  ntaaccctaaccctaaccctaaccctaaccctaaccctaaccctaa...    21_Het\n",
      "1       chr1  tgaggagaacgcaactccgccgttgcaaaggcgcgccgcgccggcg...  25_Quies\n",
      "2       chr1  atcttatctttatatgattcccttgctgcctggagattgacatttc...  25_Quies\n",
      "3       chr1  attaagtacacatcttattttccagtgataatgctaccggcaaatt...  25_Quies\n",
      "4       chr1  gcctgattcatggctgaaatcacgtttgaccagctatgtgtgtctc...  25_Quies\n",
      "...      ...                                                ...       ...\n",
      "751504  chrX  atctctctcaaattgacctaattggtttcattctcagcaaaatgac...    21_Het\n",
      "751505  chrX  cccctgttcacctcagccctgcaccctttcaccctcctgtaagccc...  25_Quies\n",
      "751506  chrX  gtgtgtgtatgtctgtgtgtgtgtgtttatgtgtgtgtgtctgtgt...    21_Het\n",
      "751507  chrX  tttgtgtgtgtgtgtctcgtgtgtgtgtgtctgtgtgtatctgtgt...  25_Quies\n",
      "751508  chrX  ttggggttggggttggggttagggtttgggtttagggttggggtag...    21_Het\n",
      "\n",
      "[751509 rows x 3 columns]\n"
     ]
    }
   ],
   "source": [
    "print(df)"
   ]
  },
  {
   "cell_type": "code",
   "execution_count": 15,
   "metadata": {},
   "outputs": [
    {
     "name": "stdout",
     "output_type": "stream",
     "text": [
      "25\n",
      "[21, 25, 25, 25, 25, 19, 25, 25, 25, 19]\n"
     ]
    }
   ],
   "source": [
    "labels_25 = {'1_TssA': 1, '2_PromU': 2, '3_PromD1':3, '4_PromD2':4, \"5_Tx5'\":5, '6_Tx':6, \\\n",
    "          \"7_Tx3'\":7, '8_TxWk':8, '9_TxReg':9, \"10_TxEnh5'\":10, \"11_TxEnh3'\":11, '12_TxEnhW':12, \\\n",
    "          '13_EnhA1':13, '14_EnhA2':14, '15_EnhAF':15, '16_EnhW1':16, '17_EnhW2':17, '18_EnhAc':18,\\\n",
    "          '19_DNase':19, '20_ZNF/Rpts':20, '21_Het':21, '22_PromP':22, '23_PromBiv':23, \\\n",
    "          '24_ReprPC':24, '25_Quies':25}\n",
    "print(len(labels_25))\n",
    "from sklearn import preprocessing\n",
    "labels = df['label'].values.tolist()\n",
    "for i, label in enumerate(labels):\n",
    "    labels[i] = labels_25[label]\n",
    "print(labels[0:10])"
   ]
  },
  {
   "cell_type": "code",
   "execution_count": 16,
   "metadata": {},
   "outputs": [
    {
     "name": "stdout",
     "output_type": "stream",
     "text": [
      "       chrom                                                seq     label\n",
      "0       chr1  ntaaccctaaccctaaccctaaccctaaccctaaccctaaccctaa...    21_Het\n",
      "1       chr1  tgaggagaacgcaactccgccgttgcaaaggcgcgccgcgccggcg...  25_Quies\n",
      "2       chr1  atcttatctttatatgattcccttgctgcctggagattgacatttc...  25_Quies\n",
      "3       chr1  attaagtacacatcttattttccagtgataatgctaccggcaaatt...  25_Quies\n",
      "4       chr1  gcctgattcatggctgaaatcacgtttgaccagctatgtgtgtctc...  25_Quies\n",
      "...      ...                                                ...       ...\n",
      "751504  chrX  atctctctcaaattgacctaattggtttcattctcagcaaaatgac...    21_Het\n",
      "751505  chrX  cccctgttcacctcagccctgcaccctttcaccctcctgtaagccc...  25_Quies\n",
      "751506  chrX  gtgtgtgtatgtctgtgtgtgtgtgtttatgtgtgtgtgtctgtgt...    21_Het\n",
      "751507  chrX  tttgtgtgtgtgtgtctcgtgtgtgtgtgtctgtgtgtatctgtgt...  25_Quies\n",
      "751508  chrX  ttggggttggggttggggttagggtttgggtttagggttggggtag...    21_Het\n",
      "\n",
      "[751509 rows x 3 columns]\n",
      "       chrom                                                seq  labels\n",
      "0       chr1  ntaaccctaaccctaaccctaaccctaaccctaaccctaaccctaa...      21\n",
      "1       chr1  tgaggagaacgcaactccgccgttgcaaaggcgcgccgcgccggcg...      25\n",
      "2       chr1  atcttatctttatatgattcccttgctgcctggagattgacatttc...      25\n",
      "3       chr1  attaagtacacatcttattttccagtgataatgctaccggcaaatt...      25\n",
      "4       chr1  gcctgattcatggctgaaatcacgtttgaccagctatgtgtgtctc...      25\n",
      "...      ...                                                ...     ...\n",
      "751504  chrX  atctctctcaaattgacctaattggtttcattctcagcaaaatgac...      21\n",
      "751505  chrX  cccctgttcacctcagccctgcaccctttcaccctcctgtaagccc...      25\n",
      "751506  chrX  gtgtgtgtatgtctgtgtgtgtgtgtttatgtgtgtgtgtctgtgt...      21\n",
      "751507  chrX  tttgtgtgtgtgtgtctcgtgtgtgtgtgtctgtgtgtatctgtgt...      25\n",
      "751508  chrX  ttggggttggggttggggttagggtttgggtttagggttggggtag...      21\n",
      "\n",
      "[751509 rows x 3 columns]\n"
     ]
    }
   ],
   "source": [
    "df_data = df.copy(deep=True)\n",
    "print(df_data)\n",
    "df_data.insert(loc=3, column='labels', value=labels)\n",
    "df_data = df_data.drop(columns=['label'])\n",
    "print(df_data)"
   ]
  },
  {
   "cell_type": "code",
   "execution_count": 17,
   "metadata": {},
   "outputs": [
    {
     "name": "stdout",
     "output_type": "stream",
     "text": [
      "       chrom                                                seq  labels\n",
      "0       chr1  ntaaccctaaccctaaccctaaccctaaccctaaccctaaccctaa...      21\n",
      "5       chr1  ccccaagggcatcttctcaaagttggatgtgtgcattttcctgaga...      19\n",
      "9       chr1  cgcactctcccctgaactctacacaacatattttgtcaccaagacc...      19\n",
      "11      chr1  aggctggggtgcagtggtgtgatcttggcccagtgcaacctctgcc...      22\n",
      "12      chr1  cgcctcggcctcccaaagtgttgggattacaggtgtcagccactga...       4\n",
      "...      ...                                                ...     ...\n",
      "751500  chrX  gcttacctgctgtctgcagatctgagctttcttcttggacacctta...      21\n",
      "751502  chrX  cctgttgctccgattatatcaatgattttcttggataagggggtga...      21\n",
      "751504  chrX  atctctctcaaattgacctaattggtttcattctcagcaaaatgac...      21\n",
      "751506  chrX  gtgtgtgtatgtctgtgtgtgtgtgtttatgtgtgtgtgtctgtgt...      21\n",
      "751508  chrX  ttggggttggggttggggttagggtttgggtttagggttggggtag...      21\n",
      "\n",
      "[583429 rows x 3 columns]\n"
     ]
    }
   ],
   "source": [
    "df_data.drop(df_data.loc[df_data['labels']==25].index, inplace=True)\n",
    "print(df_data)"
   ]
  },
  {
   "cell_type": "code",
   "execution_count": 18,
   "metadata": {},
   "outputs": [
    {
     "name": "stdout",
     "output_type": "stream",
     "text": [
      "       chrom                                                seq  labels\n",
      "0       chr1  ntaaccctaaccctaaccctaaccctaaccctaaccctaaccctaa...      21\n",
      "5       chr1  ccccaagggcatcttctcaaagttggatgtgtgcattttcctgaga...      19\n",
      "9       chr1  cgcactctcccctgaactctacacaacatattttgtcaccaagacc...      19\n",
      "11      chr1  aggctggggtgcagtggtgtgatcttggcccagtgcaacctctgcc...      22\n",
      "12      chr1  cgcctcggcctcccaaagtgttgggattacaggtgtcagccactga...       4\n",
      "...      ...                                                ...     ...\n",
      "751500  chrX  gcttacctgctgtctgcagatctgagctttcttcttggacacctta...      21\n",
      "751502  chrX  cctgttgctccgattatatcaatgattttcttggataagggggtga...      21\n",
      "751504  chrX  atctctctcaaattgacctaattggtttcattctcagcaaaatgac...      21\n",
      "751506  chrX  gtgtgtgtatgtctgtgtgtgtgtgtttatgtgtgtgtgtctgtgt...      21\n",
      "751508  chrX  ttggggttggggttggggttagggtttgggtttagggttggggtag...      21\n",
      "\n",
      "[477070 rows x 3 columns]\n"
     ]
    }
   ],
   "source": [
    "df_data.drop(df_data.loc[df_data['labels']==17].index, inplace=True)\n",
    "print(df_data)"
   ]
  },
  {
   "cell_type": "code",
   "execution_count": 19,
   "metadata": {},
   "outputs": [
    {
     "data": {
      "text/html": [
       "<div>\n",
       "<style scoped>\n",
       "    .dataframe tbody tr th:only-of-type {\n",
       "        vertical-align: middle;\n",
       "    }\n",
       "\n",
       "    .dataframe tbody tr th {\n",
       "        vertical-align: top;\n",
       "    }\n",
       "\n",
       "    .dataframe thead th {\n",
       "        text-align: right;\n",
       "    }\n",
       "</style>\n",
       "<table border=\"1\" class=\"dataframe\">\n",
       "  <thead>\n",
       "    <tr style=\"text-align: right;\">\n",
       "      <th></th>\n",
       "      <th>chrom</th>\n",
       "      <th>seq</th>\n",
       "      <th>labels</th>\n",
       "    </tr>\n",
       "  </thead>\n",
       "  <tbody>\n",
       "    <tr>\n",
       "      <th>0</th>\n",
       "      <td>chr1</td>\n",
       "      <td>ntaaccctaaccctaaccctaaccctaaccctaaccctaaccctaa...</td>\n",
       "      <td>21</td>\n",
       "    </tr>\n",
       "    <tr>\n",
       "      <th>5</th>\n",
       "      <td>chr1</td>\n",
       "      <td>ccccaagggcatcttctcaaagttggatgtgtgcattttcctgaga...</td>\n",
       "      <td>19</td>\n",
       "    </tr>\n",
       "    <tr>\n",
       "      <th>9</th>\n",
       "      <td>chr1</td>\n",
       "      <td>cgcactctcccctgaactctacacaacatattttgtcaccaagacc...</td>\n",
       "      <td>19</td>\n",
       "    </tr>\n",
       "    <tr>\n",
       "      <th>11</th>\n",
       "      <td>chr1</td>\n",
       "      <td>aggctggggtgcagtggtgtgatcttggcccagtgcaacctctgcc...</td>\n",
       "      <td>22</td>\n",
       "    </tr>\n",
       "    <tr>\n",
       "      <th>12</th>\n",
       "      <td>chr1</td>\n",
       "      <td>cgcctcggcctcccaaagtgttgggattacaggtgtcagccactga...</td>\n",
       "      <td>4</td>\n",
       "    </tr>\n",
       "    <tr>\n",
       "      <th>...</th>\n",
       "      <td>...</td>\n",
       "      <td>...</td>\n",
       "      <td>...</td>\n",
       "    </tr>\n",
       "    <tr>\n",
       "      <th>77463</th>\n",
       "      <td>chr2</td>\n",
       "      <td>gcttgtagaagtccctgcagagccctgctgtctgctcacccctgtt...</td>\n",
       "      <td>19</td>\n",
       "    </tr>\n",
       "    <tr>\n",
       "      <th>77467</th>\n",
       "      <td>chr2</td>\n",
       "      <td>ctgacctcatgatccgcctacctcagcctcccaaagtgctgggatt...</td>\n",
       "      <td>21</td>\n",
       "    </tr>\n",
       "    <tr>\n",
       "      <th>77471</th>\n",
       "      <td>chr2</td>\n",
       "      <td>cctaacgcccagtactgcagaatgtgaccttatttggaatagggtc...</td>\n",
       "      <td>24</td>\n",
       "    </tr>\n",
       "    <tr>\n",
       "      <th>77472</th>\n",
       "      <td>chr2</td>\n",
       "      <td>caaccctgttgggtgctgcaggcagaggctactggcagaggtggcc...</td>\n",
       "      <td>23</td>\n",
       "    </tr>\n",
       "    <tr>\n",
       "      <th>77473</th>\n",
       "      <td>chr2</td>\n",
       "      <td>cagtcacaagaaagaggaacagaccgatgtggtggaaccggaacag...</td>\n",
       "      <td>2</td>\n",
       "    </tr>\n",
       "  </tbody>\n",
       "</table>\n",
       "<p>50000 rows × 3 columns</p>\n",
       "</div>"
      ],
      "text/plain": [
       "      chrom                                                seq  labels\n",
       "0      chr1  ntaaccctaaccctaaccctaaccctaaccctaaccctaaccctaa...      21\n",
       "5      chr1  ccccaagggcatcttctcaaagttggatgtgtgcattttcctgaga...      19\n",
       "9      chr1  cgcactctcccctgaactctacacaacatattttgtcaccaagacc...      19\n",
       "11     chr1  aggctggggtgcagtggtgtgatcttggcccagtgcaacctctgcc...      22\n",
       "12     chr1  cgcctcggcctcccaaagtgttgggattacaggtgtcagccactga...       4\n",
       "...     ...                                                ...     ...\n",
       "77463  chr2  gcttgtagaagtccctgcagagccctgctgtctgctcacccctgtt...      19\n",
       "77467  chr2  ctgacctcatgatccgcctacctcagcctcccaaagtgctgggatt...      21\n",
       "77471  chr2  cctaacgcccagtactgcagaatgtgaccttatttggaatagggtc...      24\n",
       "77472  chr2  caaccctgttgggtgctgcaggcagaggctactggcagaggtggcc...      23\n",
       "77473  chr2  cagtcacaagaaagaggaacagaccgatgtggtggaaccggaacag...       2\n",
       "\n",
       "[50000 rows x 3 columns]"
      ]
     },
     "execution_count": 19,
     "metadata": {},
     "output_type": "execute_result"
    }
   ],
   "source": [
    "df_data = df_data.head(n=50000)\n",
    "df_data"
   ]
  },
  {
   "cell_type": "code",
   "execution_count": 20,
   "metadata": {},
   "outputs": [
    {
     "name": "stdout",
     "output_type": "stream",
     "text": [
      "[8, 7, 19, 5, 15, 21, 12, 16, 24, 2, 6, 1, 23, 3, 4, 22, 14, 13, 10, 11, 20, 18, 9]\n",
      "[8593, 5399, 4071, 3482, 3205, 3130, 2444, 2397, 2304, 2158, 1716, 1641, 1608, 1554, 1262, 1021, 910, 841, 695, 444, 411, 397, 317]\n",
      "[1, 2, 3, 4, 5, 6, 7, 8, 9, 10, 11, 12, 13, 14, 15, 16, 18, 19, 20, 21, 22, 23, 24]\n",
      "[1641, 2158, 1554, 1262, 3482, 1716, 5399, 8593, 317, 695, 444, 2444, 841, 910, 3205, 2397, 397, 4071, 411, 3130, 1021, 1608, 2304]\n"
     ]
    },
    {
     "data": {
      "image/png": "[encoded data removed]",
      "text/plain": [
       "<Figure size 432x288 with 1 Axes>"
      ]
     },
     "metadata": {
      "needs_background": "light"
     },
     "output_type": "display_data"
    },
    {
     "name": "stdout",
     "output_type": "stream",
     "text": [
      "Total Num Seq: 50000\n"
     ]
    }
   ],
   "source": [
    "labels = df_data['labels'].value_counts()\n",
    "labels_num = (labels.index).tolist()\n",
    "labels_freq = labels.tolist()\n",
    "print(labels_num)\n",
    "print(labels_freq)\n",
    "count = 0\n",
    "for x, y in sorted(zip(labels_num, labels_freq)):\n",
    "    labels_num[count] = x\n",
    "    labels_freq[count] = y \n",
    "    count += 1\n",
    "print(labels_num)\n",
    "print(labels_freq)\n",
    "\n",
    "labels = labels_num\n",
    "\n",
    "plt.bar(labels_num,labels_freq, align = 'center')\n",
    "plt.ylabel('Freq')\n",
    "plt.xlabel('HMM Model Labels')\n",
    "plt.title('Freq of Each Category of DNA Labels')\n",
    "plt.show()\n",
    "print(\"Total Num Seq: \" + str(sum(labels_freq)))"
   ]
  },
  {
   "cell_type": "markdown",
   "metadata": {},
   "source": [
    "K-mers Created\n",
    "https://github.com/krishnaik06/DNA-Sequencing-Classifier/blob/master/DNA%20Sequencing%20and%20applying%20Classifier.ipynb"
   ]
  },
  {
   "cell_type": "code",
   "execution_count": 21,
   "metadata": {},
   "outputs": [],
   "source": [
    "def getKmers(sequence, size=6):\n",
    "    return [sequence[x:x+size].lower() for x in range(len(sequence) - size + 1)]"
   ]
  },
  {
   "cell_type": "code",
   "execution_count": 22,
   "metadata": {},
   "outputs": [],
   "source": [
    "df_kmers = df_data\n",
    "df_kmers['words'] = df_data.apply(lambda x: getKmers(x['seq']), axis=1)\n",
    "df_kmers = df_kmers.drop('seq', axis=1)"
   ]
  },
  {
   "cell_type": "code",
   "execution_count": 23,
   "metadata": {},
   "outputs": [
    {
     "data": {
      "text/html": [
       "<div>\n",
       "<style scoped>\n",
       "    .dataframe tbody tr th:only-of-type {\n",
       "        vertical-align: middle;\n",
       "    }\n",
       "\n",
       "    .dataframe tbody tr th {\n",
       "        vertical-align: top;\n",
       "    }\n",
       "\n",
       "    .dataframe thead th {\n",
       "        text-align: right;\n",
       "    }\n",
       "</style>\n",
       "<table border=\"1\" class=\"dataframe\">\n",
       "  <thead>\n",
       "    <tr style=\"text-align: right;\">\n",
       "      <th></th>\n",
       "      <th>chrom</th>\n",
       "      <th>labels</th>\n",
       "      <th>words</th>\n",
       "    </tr>\n",
       "  </thead>\n",
       "  <tbody>\n",
       "    <tr>\n",
       "      <th>0</th>\n",
       "      <td>chr1</td>\n",
       "      <td>21</td>\n",
       "      <td>[ntaacc, taaccc, aaccct, acccta, ccctaa, cctaa...</td>\n",
       "    </tr>\n",
       "    <tr>\n",
       "      <th>5</th>\n",
       "      <td>chr1</td>\n",
       "      <td>19</td>\n",
       "      <td>[ccccaa, cccaag, ccaagg, caaggg, aagggc, agggc...</td>\n",
       "    </tr>\n",
       "    <tr>\n",
       "      <th>9</th>\n",
       "      <td>chr1</td>\n",
       "      <td>19</td>\n",
       "      <td>[cgcact, gcactc, cactct, actctc, ctctcc, tctcc...</td>\n",
       "    </tr>\n",
       "    <tr>\n",
       "      <th>11</th>\n",
       "      <td>chr1</td>\n",
       "      <td>22</td>\n",
       "      <td>[aggctg, ggctgg, gctggg, ctgggg, tggggt, ggggt...</td>\n",
       "    </tr>\n",
       "    <tr>\n",
       "      <th>12</th>\n",
       "      <td>chr1</td>\n",
       "      <td>4</td>\n",
       "      <td>[cgcctc, gcctcg, cctcgg, ctcggc, tcggcc, cggcc...</td>\n",
       "    </tr>\n",
       "  </tbody>\n",
       "</table>\n",
       "</div>"
      ],
      "text/plain": [
       "   chrom  labels                                              words\n",
       "0   chr1      21  [ntaacc, taaccc, aaccct, acccta, ccctaa, cctaa...\n",
       "5   chr1      19  [ccccaa, cccaag, ccaagg, caaggg, aagggc, agggc...\n",
       "9   chr1      19  [cgcact, gcactc, cactct, actctc, ctctcc, tctcc...\n",
       "11  chr1      22  [aggctg, ggctgg, gctggg, ctgggg, tggggt, ggggt...\n",
       "12  chr1       4  [cgcctc, gcctcg, cctcgg, ctcggc, tcggcc, cggcc..."
      ]
     },
     "execution_count": 23,
     "metadata": {},
     "output_type": "execute_result"
    }
   ],
   "source": [
    "df_kmers.head()"
   ]
  },
  {
   "cell_type": "code",
   "execution_count": 25,
   "metadata": {},
   "outputs": [
    {
     "name": "stdout",
     "output_type": "stream",
     "text": [
      "cgcact gcactc cactct actctc ctctcc tctccc ctcccc tcccct cccctg ccctga cctgaa ctgaac tgaact gaactc aactct actcta ctctac tctaca ctacac tacaca acacaa cacaac acaaca caacat aacata acatat catatt atattt tatttt attttg ttttgt tttgtc ttgtca tgtcac gtcacc tcacca caccaa accaag ccaaga caagac aagacc agaccc gaccct acccta ccctac cctact ctactt tacttc acttct cttctg ttctga tctgac ctgacc tgacct gacctc acctcc cctccc ctccct tccctg ccctgt cctgtt ctgttc tgttct gttctt ttctta tcttat cttatg ttatga tatgaa atgaat tgaatt gaattc aattcg attcga ttcgaa tcgaac cgaaca gaacag aacagc acagca cagcat agcata gcatac catacc ataccc tacccc accccc cccccg ccccga cccgat ccgatt cgattc gattcc attccg ttccgc tccgct ccgcta cgctac gctacg ctacga tacgac acgacc cgacca gaccaa accaac ccaact caactc aactca actcat ctcata tcatac cataca atacac tacacc acacct cacctc acctcc cctcct ctccta tcctat cctatg ctatga tatgaa atgaaa tgaaaa gaaaaa aaaaaa aaaaac aaaact aaactt aacttc acttcc cttcct ttccta tcctac cctacc ctacca taccac accact ccactc cactca actcac ctcacc tcaccc caccct acccta ccctag cctagc ctagca tagcat agcatt gcatta cattac attact ttactt tactta acttat cttata ttatat tatatg atatga tatgat atgata tgatat gatatg atatgt tatgtc atgtct tgtctc gtctcc tctcca ctccat tccata ccatac catacc ataccc taccca acccat cccatt ccatta cattac attaca ttacaa tacaat acaatc caatct aatctc atctcc tctcca ctccag tccagc ccagca cagcat agcatt gcattc cattcc attccc ttcccc tccccc ccccct cccctc ccctca cctcaa ctcaaa tcaaac caaacc aaacct aaccta acctaa cctaag ctaaga taagaa aagaaa agaaat gaaata aaatat aatatg atatgt tatgtc atgtct tgtctg gtctga tctgat ctgata tgataa gataaa ataaaa taaaag aaaaga aaagag aagagt agagtt gagtta agttac gttact ttactt tacttt actttg ctttga tttgat ttgata tgatag gataga atagag tagagt agagta gagtaa agtaaa gtaaat taaata aaataa aataat ataata taatag aatagg atagga taggag aggagt ggagtt gagttt agttta gtttaa tttaaa ttaaat taaatc aaatcc aatccc atcccc tcccct cccctt ccctta ccttat cttatt ttattt tatttc atttct tttcta ttctag tctagg ctagga taggac aggact ggacta gactat actatg ctatga tatgag atgaga tgagaa gagaat agaatc gaatcg aatcga atcgaa tcgaac cgaacc gaaccc aaccca acccat cccatc ccatcc catccc atccct tccctg ccctga cctgag ctgaga tgagaa gagaat agaatc gaatcc aatcca atccaa tccaaa ccaaaa caaaat aaaatt aaattc aattct attctc ttctcc tctccg ctccgt tccgtg ccgtgc cgtgcc gtgcca tgccac gccacc ccacct caccta acctat cctatc ctatca tatcac atcaca tcacac cacacc acaccc cacccc acccca ccccat cccatc ccatcc catcct atccta tcctaa cctaaa ctaaag taaagt aaagta aagtaa agtaag gtaagg taaggt aaggtc aggtca ggtcag gtcagc tcagct cagcta agctaa gctaaa ctaaat taaata aaataa aataag ataagc taagct aagcta agctat gctatc ctatcg tatcgg atcggg tcgggc cgggcc gggccc ggccca gcccat cccata ccatac catacc ataccc tacccc accccg ccccga cccgaa ccgaaa cgaaaa gaaaat aaaatg aaatgt aatgtt atgttg tgttgg gttggt ttggtt tggtta ggttat gttata ttatat tatatc atatcc tatcct atcctt tccttc ccttcc cttccc ttcccg tcccgt cccgta ccgtac cgtact gtacta tactaa actaat ctaatt taatta aattaa attaat ttaatc taatcc aatccc atcccc tcccct cccctg ccctgg cctggc ctggcc tggccc ggccca gcccaa cccaac ccaacc caaccc aacccg acccgt cccgtc ccgtca cgtcat gtcatc tcatct catcta atctac tctact ctactc tactct actcta ctctac tctacc ctacca taccat accatc ccatct catctt atcttt tctttg ctttgc tttgca ttgcag tgcagg gcaggc caggca aggcac ggcaca gcacac cacact acactc cactca actcat ctcatc tcatca catcac atcaca tcacag cacagc acagcg cagcgc agcgct gcgcta cgctaa gctaag ctaagc taagct aagctc agctcg gctcgc ctcgca tcgcac cgcact gcactg cactga actgat ctgatt tgattt gatttt attttt tttttt ttttta ttttac tttacc ttacct tacctg acctga cctgag ctgagt tgagta gagtag agtagg gtaggc taggcc aggcct ggccta gcctag cctaga ctagaa tagaaa agaaat gaaata aaataa aataaa ataaac taaaca aaacat aacatg acatgc catgct atgcta tgctag gctagc ctagct tagctt agcttt gctttt ctttta ttttat tttatt ttattc tattcc attcca ttccag tccagt ccagtt cagttc agttct gttcta ttctaa tctaac ctaacc taacca aaccaa accaaa ccaaaa caaaaa aaaaaa aaaaaa aaaaat aaaata aaataa aataaa ataaac taaacc aaaccc aaccct accctc ccctcg cctcgt ctcgtt tcgttc cgttcc gttcca ttccac tccaca ccacag cacaga acagaa cagaag agaagc gaagct aagctg agctgc gctgcc ctgcca tgccat gccatc ccatca catcaa atcaag tcaagt caagta aagtat agtatt gtattt tatttc atttcc tttcct ttcctc tcctca cctcac ctcacg tcacgc cacgca acgcaa cgcaag gcaagc caagca aagcaa agcaac gcaacc caaccg aaccgc accgca ccgcat cgcatc gcatcc catcca atccat tccata ccataa cataat ataatc taatcc aatcct atcctt tccttc ccttct cttcta ttctaa tctaat ctaata taatag aatagc atagct tagcta agctat gctatc ctatcc tatcct atcctc tcctct cctctt ctcttc tcttca cttcaa ttcaac tcaaca caacaa aacaat acaata caatat aatata atatac tatact atactc tactct actctc ctctcc tctccg ctccgg tccgga ccggac cggaca ggacaa gacaat acaatg caatga aatgaa atgaac tgaacc gaacca aaccat accata ccataa cataac ataacc taacca aaccaa accaat ccaata caatac aatacc atacca taccac accacc ccacca caccaa accaat ccaatc caatca aatcaa atcaat tcaata caatac aatact atactc tactca actcat ctcatc tcatca catcat atcatt tcatta cattaa attaat ttaata taataa aataat ataatc taatca aatcat atcata tcataa cataat ataatg taatgg aatggc atggct tggcta ggctat gctata ctatag tatagc atagca tagcaa agcaat gcaata caataa aataaa ataaaa taaaac aaaact aaacta aactag actagg ctagga taggaa aggaat ggaata gaatag aatagc atagcc tagccc agcccc gccccc ccccct cccctt cccttt cctttc ctttca tttcac ttcact tcactt cacttc acttct cttctg ttctga tctgag ctgagt tgagtc gagtcc agtccc gtccca tcccag cccaga ccagag cagagg agaggt gaggtt aggtta ggttac gttacc ttaccc taccca acccaa cccaag ccaagg caaggc aaggca aggcac ggcacc gcaccc cacccc acccct cccctc ccctct cctctg ctctga tctgac ctgaca tgacat gacatc acatcc catccg atccgg tccggc ccggcc cggcct ggcctg gcctgc cctgct ctgctc tgctcc gctcct ctcctt tccttc ccttct cttctc ttctca tctcac ctcaca tcacat cacatg acatga catgac atgaca tgacaa gacaaa acaaaa caaaaa aaaaac aaaact aaacta aactag actagc ctagcc tagccc agcccc gccccc ccccca ccccat cccatc ccatct catctc atctca tctcaa ctcaat tcaatc caatca aatcat atcata tcatat catata atatac tatacc atacca taccaa accaaa ccaaat caaatt aaattt aatttc atttct tttctc ttctcc tctccc ctccct tccctc ccctca cctcat ctcatt tcatta cattaa attaaa ttaaac taaacg aaacgt aacgta acgtaa cgtaag gtaagc taagcc aagcct agcctt gccttc ccttct cttctc ttctcc tctcct ctcctc tcctca cctcac ctcact tcactc cactct actctt ctcttt tctttc ctttca tttcaa ttcaat tcaatc caatct aatctt atctta tcttat cttatc ttatcc tatcca atccat tccatc ccatca catcat atcatg tcatgg catggc atggca tggcag ggcagg gcaggc caggca aggcag ggcagt gcagtt cagttg agttga gttgag ttgagg tgaggt gaggtg aggtgg ggtgga gtggat tggatt ggatta gattaa attaaa ttaaac taaacc aaacca aaccaa accaaa ccaaac caaacc aaaccc aaccca acccaa cccaac ccaact caacta aactac actacg ctacgc tacgca acgcaa cgcaaa gcaaaa caaaat aaaatc aaatct aatctt atctta tcttag cttagc ttagca tagcat agcata gcatac catact atactc tactcc actcct ctcctc tcctca cctcaa ctcaat tcaatt caatta aattac attacc ttaccc taccca acccac cccaca ccacat cacata acatag catagg atagga taggat aggatg ggatga gatgaa atgaat tgaata gaataa aataac ataaca taacag aacagc acagca cagcag agcagt gcagtt cagttc agttct gttcta ttctac tctacc ctaccg taccgt accgta ccgtac cgtaca gtacaa tacaac acaacc caaccc aaccct acccta ccctaa cctaac ctaaca taacat aacata acataa cataac ataacc taacca aaccat accatt ccattc cattct attctt ttctta tcttaa cttaat ttaatt taattt aattta atttaa tttaac ttaact taacta aactat actatt ctattt tattta atttat tttata ttatat tatatt atatta tattat attatc ttatcc tatcct atccta tcctaa cctaac ctaact taacta aactac actact ctacta tactac actacc ctaccg taccgc accgca ccgcat cgcatt gcattc cattcc attcct ttccta tcctac cctact ctacta tactac actact ctactc tactca actcaa ctcaac tcaact caactt aactta acttaa cttaaa ttaaac taaact aaactc aactcc actcca ctccag tccagc ccagca cagcac agcacc gcacca caccac accaca ccacaa cacaac acaacc caaccc aaccct acccta ccctac cctact ctacta tactac actact ctacta tactat actatc ctatct tatctc atctcg tctcgc ctcgca tcgcac cgcacc gcacct cacctg acctga cctgaa ctgaaa tgaaac gaaaca aaacaa aacaag acaagc caagct aagcta agctaa gctaac ctaaca taacat aacatg acatga catgac atgact tgacta gactaa actaac ctaaca taacac aacacc acaccc caccct accctt ccctta ccttaa cttaat ttaatt taattc aattcc attcca ttccat tccatc ccatcc catcca atccac tccacc ccaccc caccct accctc ccctcc cctcct ctcctc tcctct cctctc ctctcc tctccc ctccct tcccta ccctag cctagg ctagga taggag aggagg ggaggc gaggcc aggcct ggcctg gcctgc cctgcc ctgccc tgcccc gccccc cccccg ccccgc cccgct ccgcta cgctaa gctaac ctaacc taaccg aaccgg accggc ccggct cggctt ggcttt gctttt cttttt tttttg ttttgc tttgcc ttgccc tgccca gcccaa cccaaa ccaaat caaatg aaatgg aatggg atgggc tgggcc gggcca ggccat gccatt ccatta cattat attatc ttatcg tatcga atcgaa tcgaag cgaaga gaagaa aagaat agaatt gaattc aattca attcac ttcaca tcacaa cacaaa acaaaa caaaaa aaaaaa aaaaac aaaaca aaacaa aacaat acaata caatag aatagc atagcc tagcct agcctc gcctca cctcat ctcatc tcatca catcat atcatc tcatcc catccc atcccc tcccca ccccac cccacc ccacca caccat accatc ccatca catcat atcata tcatag catagc atagcc tagcca agccat gccatc ccatca catcat atcatc tcatca catcac atcacc tcaccc caccct accctc ccctcc cctcct ctcctt tcctta ccttaa cttaac ttaacc taacct aacctc acctct cctcta ctctac tctact ctactt tacttc acttct cttcta ttctac tctacc ctacct tacctg acctgc cctgcg ctgcgc tgcgcc gcgcct cgccta gcctaa cctaat ctaatc taatct aatcta atctac tctact ctactc tactcc actcca ctccac tccacc ccacct cacctc acctca cctcaa ctcaat tcaatc caatca aatcac atcaca tcacac cacact acacta cactac actact ctactc tactcc actccc ctccct tcccta ccctat cctata ctatat tatatc atatct tatcta atctaa tctaac ctaaca taacaa aacaac acaacg caacgt aacgta acgtaa cgtaaa gtaaaa taaaaa aaaaat aaaata aaataa aataaa ataaaa taaaat aaaatg aaatga aatgac atgaca tgacag gacagt acagtt cagttt agtttg gtttga tttgaa ttgaac tgaaca gaacac aacaca acacac cacaca acacaa cacaaa acaaaa caaaac aaaacc aaaccc aaccca acccac cccacc ccaccc cacccc acccca ccccat cccatt ccattc cattcc attcct ttcctc tcctcc cctccc ctcccc tcccca ccccac cccaca ccacac cacact acactc cactca actcat ctcatc tcatcg catcgc atcgcc tcgccc cgccct gccctt ccctta ccttac cttacc ttacca taccac accaca ccacac cacact acactg cactgc actgct ctgctc tgctcc gctcct ctccta tcctac cctacc ctacct taccta acctat cctatc ctatct tatctc atctcc tctccc ctcccc tcccct cccctt cccttt cctttt ctttta ttttat tttatg ttatgc tatgct atgcta tgctaa gctaat ctaata taataa aataat ataatc taatct aatctt atctta tcttat cttata ttatag tataga atagaa tagaaa agaaat gaaatt aaattt aattta atttag tttagg ttaggt taggtt aggtta ggttaa gttaaa ttaaat taaata aaatac aataca atacag tacaga acagac cagacc agacca gaccaa accaag ccaaga caagag aagagc agagcc gagcct agcctt gccttc ccttca cttcaa ttcaaa tcaaag caaagc aaagcc aagccc agccct gccctc ccctca cctcag ctcagt tcagta cagtaa agtaag gtaagt taagtt aagttg agttgc gttgca ttgcaa tgcaat gcaata caatac aatact atactt tactta acttaa cttaat ttaatt taattt aatttc atttct tttctg ttctgc tctgca ctgcaa tgcaac gcaaca caacag aacagc acagct cagcta agctaa gctaag ctaagg taagga aaggac aggact ggactg gactgc actgca ctgcaa tgcaaa gcaaaa caaaac aaaacc aaaccc aacccc acccca ccccac cccact ccactc cactct actctg ctctgc tctgca ctgcat tgcatc gcatca catcaa atcaac tcaact caactg aactga actgaa ctgaac tgaacg gaacgc aacgca acgcaa cgcaaa gcaaat caaatc aaatca aatcag atcagc tcagcc cagcca agccac gccact ccactt cacttt acttta ctttaa tttaat ttaatt taatta aattaa attaag ttaagc taagct aagcta agctaa gctaag ctaagc taagcc aagccc agccct gccctt ccctta ccttac cttact ttacta tactag actaga ctagac tagacc agacca gaccaa accaat ccaatg caatgg aatggg atggga tgggac gggact ggactt gactta acttaa cttaaa ttaaac taaacc aaaccc aaccca acccac cccaca ccacaa cacaaa acaaac caaaca aaacac aacact acactt cactta acttag cttagt ttagtt tagtta agttaa gttaac ttaaca taacag aacagc acagct cagcta agctaa gctaag ctaagc taagca aagcac agcacc gcaccc caccct acccta ccctaa cctaat ctaatc taatca aatcaa atcaac tcaact caactg aactgg actggc ctggct tggctt ggcttc gcttca cttcaa ttcaat tcaatc caatct aatcta atctac tctact ctactt tacttc acttct cttctc ttctcc tctccc ctcccg tcccgc cccgcc ccgccg cgccgc gccgcc ccgccg cgccgg gccggg ccggga cgggaa gggaaa ggaaaa gaaaaa aaaaaa aaaaag aaaagg aaaggc aaggcg aggcgg ggcggg gcggga cgggag gggaga ggagaa gagaag agaagc gaagcc aagccc agcccc gccccg ccccgg cccggc ccggca cggcag ggcagg gcaggt caggtt aggttt ggtttg gtttga tttgaa ttgaag tgaagc gaagct aagctg agctgc gctgct ctgctt tgcttc gcttct cttctt ttcttc tcttcg cttcga ttcgaa tcgaat cgaatt gaattt aatttg atttgc tttgca ttgcaa tgcaat gcaatt caattc aattca attcaa ttcaat tcaata caatat aatatg atatga tatgaa atgaaa tgaaaa gaaaat aaaatc aaatca aatcac atcacc tcacct cacctc acctca cctcag ctcaga tcagag cagagc agagct gagctg agctgg gctggt ctggta tggtaa ggtaaa gtaaaa taaaaa aaaaag aaaaga aaagag aagagg agaggc gaggct aggctt ggctta gcttaa cttaac ttaacc taaccc aacccc acccct cccctg ccctgt cctgtc ctgtct tgtctt gtcttt tcttta ctttag tttaga ttagat tagatt agattt gattta atttac tttaca ttacag tacagt acagtc cagtcc agtcca gtccaa tccaat ccaatg caatgc aatgct atgctt tgcttc gcttca cttcac ttcact tcactc cactca actcag ctcagc tcagcc cagcca agccat gccatt ccattt catttt atttta ttttac tttacc ttacct tacctc acctca cctcac ctcacc tcaccc cacccc accccc ccccca ccccac cccact ccactg cactga actgat ctgatg tgatgt gatgtt atgttc tgttcg gttcgc ttcgcc tcgccg cgccga gccgac ccgacc cgaccg gaccgt accgtt ccgttg cgttga gttgac ttgact tgacta gactat actatt ctattc tattct attctc ttctct tctcta ctctac tctaca ctacaa tacaaa acaaac caaacc aaacca aaccac accaca ccacaa cacaaa acaaag caaaga aaagac aagaca agacat gacatt acattg cattgg attgga ttggaa tggaac ggaaca gaacac aacact acacta cactat actata ctatac tatacc atacct taccta acctat cctatt ctatta tattat attatt ttattc tattcg attcgg ttcggc tcggcg cggcgc ggcgca gcgcat cgcatg gcatga catgag atgagc tgagct gagctg agctgg gctgga ctggag tggagt ggagtc gagtcc agtcct gtccta tcctag cctagg ctaggc taggca aggcac ggcaca gcacag cacagc acagct cagctc agctct gctcta ctctaa tctaag ctaagc taagcc aagcct agcctc gcctcc cctcct ctcctt tcctta ccttat cttatt ttattc tattcg attcga ttcgag tcgagc cgagcc gagccg agccga gccgaa ccgaac cgaact gaactg aactgg actggg ctgggc tgggcc gggcca ggccag gccagc ccagcc cagcca agccag gccagg ccaggc caggca aggcaa ggcaac gcaacc caacct aacctt accttc ccttct cttcta ttctag tctagg ctaggt taggta aggtaa ggtaac gtaacg taacga aacgac acgacc cgacca gaccac accaca ccacat cacatc acatct catcta atctac tctaca ctacaa tacaac acaacg caacgt aacgtt acgtta cgttat gttatc ttatcg tatcgt atcgtc tcgtca cgtcac gtcaca tcacag cacagc acagcc cagccc agccca gcccat cccatg ccatgc catgca atgcat tgcatt gcattt catttg atttgt tttgta ttgtaa tgtaat gtaata taataa aataat ataatc taatct aatctt atcttc tcttct cttctt ttcttc tcttca cttcat ttcata tcatag catagt atagta tagtaa agtaat gtaata taatac aatacc ataccc taccca acccat cccatc ccatca catcat atcata tcataa cataat ataatc taatcg aatcgg atcgga tcggag cggagg ggaggc gaggct aggctt ggcttt gctttg ctttgg tttggc ttggca tggcaa ggcaac gcaact caactg aactga actgac ctgact tgacta gactag actagt ctagtt tagttc agttcc gttccc ttcccc tcccct ccccta ccctaa cctaat ctaata taataa aataat ataatc taatcg aatcgg atcggt tcggtg cggtgc ggtgcc gtgccc tgcccc gccccc cccccg ccccga cccgat ccgata cgatat gatatg atatgg tatggc atggcg tggcgt ggcgtt gcgttt cgtttc gtttcc tttccc ttcccc tccccg ccccgc cccgca ccgcat cgcata gcataa cataaa ataaac taaaca aaacaa aacaac acaaca caacat aacata acataa cataag ataagc taagct aagctt agcttc gcttct cttctg ttctga tctgac ctgact tgactc gactct actctt ctctta tcttac cttacc ttaccc tacccc accccc cccccc ccccct cccctc ccctct cctctc ctctct tctctc ctctcc tctcct ctccta tcctac cctact ctactc tactcc actcct ctcctg tcctgc cctgct ctgctt tgcttg gcttgc cttgca ttgcat tgcatc gcatct catctg atctgc tctgct ctgcta tgctat gctata ctatag tatagt atagtg tagtgg agtgga gtggag tggagg ggaggc gaggcc aggccg ggccgg gccggc ccggcg cggcgc ggcgca gcgcag cgcagg gcagga caggaa aggaac ggaaca gaacag aacagg acaggt caggtt aggttg ggttga gttgaa ttgaac tgaaca gaacag aacagt acagtc cagtct agtcta gtctac tctacc ctaccc taccct accctc ccctcc cctccc ctccct tccctt cccttg ccttgg cttggc ttggca tggcag ggcagg gcaggg caggga agggaa gggaac ggaact gaacta aactac actact ctactc tactcc actccc ctccca tcccac cccacc ccaccc caccct accctg ccctgg cctgga ctggag tggagc ggagcc gagcct agcctc gcctcc cctccg ctccgt tccgta ccgtag cgtaga gtagac tagacc agacct gaccta acctaa cctaac ctaacc taacca aaccat accatc ccatct catctt atcttc tcttct cttctc ttctcc tctcct ctcctt tcctta ccttac cttaca ttacac tacacc acacct caccta acctag cctagc ctagca tagcag agcagg gcaggt caggta aggtat ggtatc gtatct tatctc atctcc tctcct ctcctc tcctct cctcta ctctat tctatc ctatct tatctt atctta tcttag cttagg ttagga taggag aggagc ggagcc gagcca agccat gccatc ccatca catcaa atcaat tcaatt caattt aatttc atttca tttcat ttcatc tcatca catcac atcaca tcacaa cacaac acaaca caacaa aacaat acaatt caatta aattat attatt ttatta tattaa attaat ttaata taatat aatata atataa tataaa ataaaa taaaac aaaacc aaaccc aacccc accccc ccccct cccctg ccctgc cctgcc ctgcca tgccat gccata ccataa cataac ataacc taaccc aaccca acccaa cccaat ccaata caatac aatacc atacca taccaa accaaa ccaaac caaacg aaacgc aacgcc acgccc cgcccc gcccct cccctt cccttt cctttt cttttc ttttcg tttcgt ttcgtc tcgtct cgtctg gtctga tctgat ctgatc tgatcc gatccg atccgt tccgtc ccgtcc cgtcct gtccta tcctaa cctaat ctaatc taatca aatcac atcaca tcacag cacagc acagca cagcag agcagt gcagtc cagtct agtctt gtctta tcttac cttact ttactt tacttc acttct cttctc ttctcc tctcct ctccta tcctat cctatc ctatct tatctc atctct tctctc ctctcc tctccc ctccca tcccag cccagt ccagtc cagtcc agtcct gtccta tcctag cctagc ctagcc tagccg agccgc gccgct ccgctg cgctgg gctggc ctggca tggcat ggcatc gcatca catcac atcact tcacta cactat actata ctatac tatact atacta tactac actact ctacta tactaa actaac ctaaca taacag aacaga acagac cagacc agaccg gaccgt accgta ccgtaa cgtaac gtaacc taacct aacctc acctca cctcaa ctcaac tcaaca caacac aacacc acacca caccac accacc ccacct cacctt accttc ccttct cttctt ttcttc tcttcg cttcga ttcgac tcgacc cgaccc gaccca acccag cccagc ccagcc cagccg agccgg gccgga ccggag cggagg ggagga gaggag aggagg ggagga gaggag aggaga ggagac gagacc agaccc gacccc acccca ccccat cccatt ccattc cattct attcta ttctat tctata ctatac tatacc atacca taccaa accaac ccaaca caacac aacacc acacct caccta acctat cctatt ctattc tattct attctg ttctga tctgat ctgatt tgattt gatttt attttt tttttc ttttcg tttcgg ttcggt tcggtc cggtca ggtcac gtcacc tcaccc caccct accctg ccctga cctgaa ctgaag tgaagt gaagtt aagttt agttta gtttat tttata ttatat tatatt atattc tattct attctc ttctca tctcat ctcatc tcatcc catcct atccta tcctac cctacc ctacca taccag accagg ccaggc caggct aggctt ggcttc gcttcg cttcgg ttcgga tcggaa cggaat ggaata gaataa aataat ataatc taatct aatctc atctcc tctccc ctccca tcccat cccata ccatat catatt atattg tattgt attgta ttgtaa tgtaac gtaact taactt aactta acttac cttact ttacta tactac actact ctactc tactcc actccg ctccgg tccggg ccggga cgggaa gggaaa ggaaaa gaaaaa aaaaaa aaaaaa aaaaag aaaaga aaagaa aagaac agaacc gaacca aaccat accatt ccattt catttg atttgg tttgga ttggat tggata ggatac gataca atacat tacata acatag catagg ataggt taggta aggtat ggtatg gtatgg tatggt atggtc tggtct ggtctg gtctga tctgag ctgagc tgagct gagcta agctat gctatg ctatga tatgat atgata tgatat gatatc atatca tatcaa atcaat tcaatt caattg aattgg attggc ttggct tggctt ggcttc gcttcc cttcct ttccta tcctag cctagg ctaggg tagggt agggtt gggttt ggttta gtttat tttatc ttatcg tatcgt atcgtg tcgtgt cgtgtg gtgtga tgtgag gtgagc tgagca gagcac agcaca gcacac cacacc acacca caccat accata ccatat catata atatat tatatt atattt tattta atttac tttaca ttacag tacagt acagta cagtag agtagg gtagga taggaa aggaat ggaata gaatag aataga atagac tagacg agacgt gacgta acgtag cgtaga gtagac tagaca agacac gacaca acacac cacacg acacga cacgag acgagc cgagca gagcat agcata gcatat catatt atattt tatttc atttca tttcac ttcacc tcacct cacctc acctcc cctccg ctccgc tccgct ccgcta cgctac gctacc ctacca taccat accata ccataa cataat ataatc taatca aatcat atcatc tcatcg catcgc atcgct tcgcta cgctat gctatc ctatcc tatccc atcccc tcccca ccccac cccacc ccaccg caccgg accggc ccggcg cggcgt ggcgtc gcgtca cgtcaa gtcaaa tcaaag caaagt aaagta aagtat agtatt gtattt tattta atttag tttagc ttagct tagctg agctga gctgac ctgact tgactc gactcg actcgc ctcgcc tcgcca cgccac gccaca ccacac cacact acactc cactcc actcca ctccac tccacg ccacgg cacgga acggaa cggaag ggaagc gaagca aagcaa agcaat gcaata caatat aatatg atatga tatgaa atgaaa tgaaat gaaatg aaatga aatgat atgatc tgatct gatctg atctgc tctgct ctgctg tgctgc gctgca ctgcag tgcagt gcagtg cagtgc agtgct gtgctc tgctct gctctg ctctga tctgag ctgagc tgagcc gagccc agccct gcccta ccctag cctagg ctagga taggat aggatt ggattt gattta atttat tttatt ttattt tatttt attttt tttttc ttttct tttctt ttcttt tctttt cttttc ttttca tttcac ttcacc tcaccg caccgt accgta ccgtag cgtagg gtaggt taggtg aggtgg ggtggc gtggcc tggcct ggcctg gcctga cctgac ctgact tgactg gactgg actggc ctggca tggcat ggcatt gcattg cattgt attgta ttgtat tgtatt gtatta tattag attagc ttagca tagcaa agcaaa gcaaac caaact aaactc aactca actcat ctcatc tcatca catcac atcact tcacta cactag actaga ctagac tagaca agacat gacatc acatcg catcgt atcgta tcgtac cgtact gtacta tactac actaca ctacac tacacg acacga cacgac acgaca cgacac gacacg acacgt cacgta acgtac cgtact gtacta tactac actacg ctacgt tacgtt acgttg cgttgt gttgta ttgtag tgtagc gtagcc tagccc agccca gcccac cccact ccactt cacttc acttcc cttcca ttccac tccact ccacta cactat actatg ctatgt tatgtc atgtcc tgtcct gtccta tcctat cctatc ctatca tatcaa atcaat tcaata caatag aatagg atagga taggag aggagc ggagct gagctg agctgt gctgta ctgtat tgtatt gtattt tatttg atttgc tttgcc ttgcca tgccat gccatc ccatca catcat atcata tcatag catagg atagga taggag aggagg ggaggc gaggct aggctt ggcttc gcttca cttcat ttcatt tcattc cattca attcac ttcact tcactg cactga actgat ctgatt tgattt gatttc atttcc tttccc ttcccc tcccct ccccta ccctat cctatt ctattc tattct attctc ttctca tctcag ctcagg tcaggc caggct aggcta ggctac gctaca ctacac tacacc acaccc caccct acccta ccctag cctaga ctagac tagacc agacca gaccaa accaaa ccaaac caaacc aaacct aaccta acctac cctacg ctacgc tacgcc acgcca cgccaa gccaaa ccaaaa caaaat aaaatc aaatcc aatcca atccat tccatt ccattt catttc atttcg tttcgc ttcgct tcgcta cgctat gctatc ctatca tatcat atcata tcatat catatt atattc tattca attcat ttcatc tcatcg catcgg atcggc tcggcg cggcgt ggcgta gcgtaa cgtaaa gtaaat taaatc aaatct aatcta atctaa tctaac ctaact taactt aacttt actttc ctttct tttctt ttcttc tcttcc cttccc ttccca tcccac cccaca ccacaa cacaac acaaca caacac aacact acactt cacttt actttc ctttct tttctc ttctcg tctcgg ctcggc tcggcc cggcct ggccta gcctat cctatc ctatcc tatccg atccgg tccgga ccggaa cggaat ggaatg gaatgc aatgcc atgccc tgcccc gccccg ccccga cccgac ccgacg cgacgt gacgtt acgtta cgttac gttact ttactc tactcg actcgg ctcgga tcggac cggact ggacta gactat actatc ctatcc tatccc atcccg tcccga cccgat ccgatg cgatgc gatgca atgcat tgcata gcatac cataca atacac tacacc acacca caccac accaca ccacat cacatg acatga catgaa atgaaa tgaaat gaaata aaatat aatatc atatcc tatcct atccta tcctat cctatc ctatca tatcat atcatc tcatct catctg atctgt tctgta ctgtag tgtagg gtaggc taggct aggctc ggctca gctcat ctcatt tcattc cattca attcat ttcatt tcattt catttc atttct tttctc ttctct tctcta ctctaa tctaac ctaaca taacag aacagc acagca cagcag agcagt gcagta cagtaa agtaat gtaata taatat aatatt atatta tattaa attaat ttaata taataa aataat ataatt taattt aatttt attttc ttttca tttcat ttcata tcataa cataat ataatt taattt aatttg atttga tttgag ttgaga tgagaa gagaag agaagc gaagcc aagcct agcctt gccttc ccttcg cttcgc ttcgct tcgctt cgcttc gcttcg cttcga ttcgaa tcgaag cgaagc gaagcg aagcga agcgaa gcgaaa cgaaaa gaaaag aaaagt aaagtc aagtcc agtcct gtccta tcctaa cctaat ctaata taatag aatagt atagta tagtag agtaga gtagaa tagaag agaaga gaagaa aagaac agaacc gaaccc aaccct accctc ccctcc cctcca ctccat tccata ccataa cataaa ataaac taaacc aaacct aacctg acctgg cctgga ctggag tggagt ggagtg gagtga agtgac gtgact tgacta gactat actata ctatat tatatg atatgg tatgga atggat tggatg ggatgc gatgcc atgccc tgcccc gccccc cccccc ccccca ccccac cccacc ccaccc caccct acccta ccctac cctacc ctacca taccac accaca ccacac cacaca acacat cacatt acattc cattcg attcga ttcgaa tcgaag cgaaga gaagaa aagaac agaacc gaaccc aacccg acccgt cccgta ccgtat cgtata gtatac tataca atacat tacata acataa cataaa ataaaa taaaat aaaatc aaatct aatcta atctag tctaga ctagac tagaca agacaa gacaaa acaaaa caaaaa aaaaaa aaaaag aaaagg aaagga aaggaa aggaag ggaagg gaagga aaggaa aggaat ggaatc gaatcg aatcga atcgaa tcgaac cgaacc gaaccc aacccc accccc cccccc ccccca ccccaa cccaaa ccaaag caaagc aaagct aagctg agctgg gctggt ctggtt tggttt ggtttc gtttca tttcaa ttcaag tcaagc caagcc aagcca agccaa gccaac ccaacc caaccc aacccc acccca ccccat cccatg ccatgg catggc atggcc tggcct ggcctc gcctcc cctcca ctccat tccatg ccatga catgac atgact tgactt gacttt actttt cttttt tttttc ttttca tttcaa ttcaaa tcaaaa caaaaa aaaaag aaaaga aaagat aagata agatat gatatt atatta tattag attaga ttagaa tagaaa agaaaa gaaaaa aaaaac aaaacc aaacca aaccat accatt ccattt catttc atttca tttcat ttcata tcataa cataac ataact taactt aacttt actttg ctttgt tttgtc ttgtca tgtcaa gtcaaa tcaaag caaagt aaagtt aagtta agttaa gttaaa ttaaat taaatt aaatta aattat attata ttatag tatagg ataggc taggct aggcta ggctaa gctaaa ctaaat taaatc aaatcc aatcct atccta tcctat cctata ctatat tatata atatat tatatc atatct tatctt atctta tcttaa cttaat ttaatg taatgg aatggc atggca tggcac ggcaca gcacat cacatg acatgc catgca atgcag tgcagc gcagcg cagcgc agcgca gcgcaa cgcaag gcaagt caagta aagtag agtagg gtaggt taggtc aggtct ggtcta gtctac tctaca ctacaa tacaag acaaga caagac aagacg agacgc gacgct acgcta cgctac gctact ctactt tacttc acttcc cttccc ttcccc tcccct ccccta ccctat cctatc ctatca tatcat atcata tcatag cataga atagaa tagaag agaaga gaagag aagagc agagct gagctt agctta gcttat cttatc ttatca tatcat atcatc tcatct catctt atcttt tctttc ctttca tttcat ttcatg tcatga catgat atgatc tgatca gatcac atcacg tcacgc cacgcc acgccc cgccct gccctc ccctca cctcat ctcata tcataa cataat ataatc taatca aatcat atcatt tcattt catttt attttc ttttcc tttcct ttcctt tcctta ccttat cttatc ttatct tatctg atctgc tctgct ctgctt tgcttc gcttcc cttcct ttccta tcctag cctagt ctagtc tagtcc agtcct gtcctg tcctgt cctgta ctgtac tgtacg gtacgc tacgcc acgccc cgccct gccctt cccttt cctttt cttttc ttttcc tttcct ttccta tcctaa cctaac ctaaca taacac aacact acactc cactca actcac ctcaca tcacaa cacaac acaaca caacaa aacaaa acaaaa caaaac aaaact aaacta aactaa actaac ctaact taacta aactaa actaat ctaata taatac aatact atacta tactaa actaac ctaaca taacat aacatc acatct catctc atctca tctcag ctcaga tcagac cagacg agacgc gacgct acgctc cgctca gctcag ctcagg tcagga caggaa aggaaa ggaaat gaaata aaatag aataga atagaa tagaaa agaaac gaaacc aaaccg aaccgt accgtc ccgtct cgtctg gtctga tctgaa ctgaac tgaact gaacta aactat actatc ctatcc tatcct atcctg tcctgc cctgcc ctgccc tgcccg gcccgc cccgcc ccgcca cgccat gccatc ccatca catcat atcatc tcatcc catcct atccta tcctag cctagt ctagtc tagtcc agtcct gtcctt tcctta ccttat cttatc ttatcg tatcgc atcgcc tcgccc cgccct gccctc ccctcc cctccc ctccca tcccat cccatc ccatcc catccc atccct tcccta ccctac cctacg ctacgc tacgca acgcat cgcatc gcatcc catcct atcctt tccttt ccttta ctttac tttaca ttacat tacata acataa cataac ataaca taacag aacaga acagac cagacg agacga gacgag acgagg cgaggt gaggtc aggtca ggtcaa gtcaac tcaacg caacga aacgat acgatc cgatcc gatccc atccct tccctc ccctcc cctcct ctcctt tccttt ccttta ctttac tttacc ttacca taccat accatc ccatca catcaa atcaaa tcaaat caaatc aaatca aatcaa atcaat tcaatt caattg aattgg attggc ttggcc tggcca ggccat gccatc ccatca catcaa atcaat tcaatg caatgg aatggt atggta tggtac ggtact gtactg tactga actgaa ctgaac tgaacc gaacct aaccta acctac cctacg ctacga tacgaa acgaat cgaata gaatac aataca atacac tacacc acaccg caccga accgac ccgact cgacta gactac actacg ctacgg tacggc acggcg cggcgg ggcgga gcggac cggact ggacta gactaa actaat ctaatc taatct aatctt atcttc tcttca cttcaa ttcaac tcaact caactc aactcc actcct ctccta tcctac cctaca ctacat tacata acatac catact atactt tacttc acttcc cttccc ttcccc tccccc ccccca ccccat cccatt ccatta cattat attatt ttattc tattcc attcct ttccta tcctag cctaga ctagaa tagaac agaacc gaacca aaccag accagg ccaggc caggcg aggcga ggcgac gcgacc cgacct gacctg acctgc cctgcg ctgcga tgcgac gcgact cgactc gactcc actcct ctcctt tccttg ccttga cttgac ttgacg tgacgt gacgtt acgttg cgttga gttgac ttgaca tgacaa gacaat acaatc caatcg aatcga atcgag tcgagt cgagta gagtag agtagt gtagta tagtac agtact gtactc tactcc actccc ctcccg tcccgg cccggt ccggtt cggttg ggttga gttgaa ttgaag tgaagc gaagcc aagccc agcccc gccccc ccccca ccccat cccatt ccattc cattcg attcgt ttcgta tcgtat cgtata gtataa tataat ataata taataa aataat ataatt taatta aattac attaca ttacat tacatc acatca catcac atcaca tcacaa cacaag acaaga caagac aagacg agacgt gacgtc acgtct cgtctt gtctta tcttac cttaca ttacac tacact acactc cactca actcat ctcatg tcatga catgag atgagc tgagct gagctg agctgt gctgtc ctgtcc tgtccc gtcccc tcccca ccccac cccaca ccacat cacatt acatta cattag attagg ttaggc taggct aggctt ggctta gcttaa cttaaa ttaaaa taaaaa aaaaac aaaaca aaacag aacaga acagat cagatg agatgc gatgca atgcaa tgcaat gcaatt caattc aattcc attccc ttcccg tcccgg cccgga ccggac cggacg ggacgt gacgtc acgtct cgtcta gtctaa tctaaa ctaaac taaacc aaacca aaccaa accaaa ccaaac caaacc aaacca aaccac accact ccactt cacttt actttc ctttca tttcac ttcact tcactg cactgc actgct ctgcta tgctac gctaca ctacac tacacg acacga cacgac acgacc cgacca gaccag accagg ccaggg cagggg aggggt ggggta gggtat ggtata gtatac tatact atacta tactac actacg ctacgg tacggc acggcc cggcca ggccaa gccaat ccaatg caatgc aatgct atgctc tgctct gctctg ctctga tctgaa ctgaaa tgaaat gaaatc aaatct aatctg atctgt tctgtg ctgtgg tgtgga gtggag tggagc ggagca gagcaa agcaaa gcaaac caaacc aaacca aaccag accagt ccagtt cagttt agtttt gtttta ttttat tttatg ttatgc tatgcc atgccc tgccca gcccat cccatc ccatcg catcgt atcgtc tcgtcc cgtcct gtccta tcctag cctaga ctagaa tagaat agaatt gaatta aattaa attaat ttaatt taattc aattcc attccc ttcccc tcccct ccccta ccctaa cctaaa ctaaaa taaaaa aaaaat aaaatc aaatct aatctt atcttt tctttg ctttga tttgaa ttgaaa tgaaat gaaata aaatag aatagg ataggg tagggc agggcc gggccc ggcccg gcccgt cccgta ccgtat cgtatt gtattt tattta atttac tttacc ttaccc taccct acccta ccctat cctata ctatag tatagc atagca tagcac agcacc gcaccc cacccc accccc ccccct cccctc ccctct cctcta ctctac tctacc ctaccc tacccc accccc ccccct cccctc ccctct cctcta ctctag tctaga ctagag tagagc agagcc gagccc agccca gcccac cccact ccactg cactgt actgta ctgtaa tgtaaa gtaaag taaagc aaagct aagcta agctaa gctaac ctaact taactt aactta acttag cttagc ttagca tagcat agcatt gcatta cattaa attaac ttaacc taacct aacctt accttt cctttt ctttta ttttaa tttaag ttaagt taagtt aagtta agttaa gttaaa ttaaag taaaga aaagat aagatt agatta gattaa attaag ttaaga taagag aagaga agagaa gagaac agaacc gaacca aaccaa accaac ccaaca caacac aacacc acacct cacctc acctct cctctt ctcttt tcttta ctttac tttaca ttacag tacagt acagtg cagtga agtgaa gtgaaa tgaaat gaaatg aaatgc aatgcc atgccc tgcccc gcccca ccccaa cccaac ccaact caacta aactaa actaaa ctaaat taaata aaatac aatact atacta tactac actacc ctaccg taccgt accgta ccgtat cgtatg gtatga tatgac atgacc tgaccc gaccca acccac cccacc ccacca caccat accata ccataa cataat ataatt taatta aattac attacc ttaccc tacccc accccc ccccca ccccat cccata ccatac catact atactc tactcc actcct ctcctt tcctta ccttac cttaca ttacac tacact acacta cactat actatt ctattc tattcc attcct ttcctc tcctca cctcat ctcatc tcatca catcac atcacc tcaccc caccca acccaa cccaac ccaact caacta aactaa actaaa ctaaaa taaaaa aaaaat aaaata aaatat aatatt atatta tattaa attaaa ttaaat taaata aaatac aataca atacaa tacaaa acaaat caaatt aaatta aattac attacc ttacca taccac accacc ccacct caccta acctac cctacc ctacct tacctc acctcc cctccc ctccct tccctc ccctca cctcac ctcacc tcacca caccaa accaaa ccaaag caaagc aaagcc aagccc agccca gcccat cccata ccataa cataaa ataaaa taaaaa aaaaat aaaata aaataa aataaa ataaaa taaaaa aaaaaa aaaaac aaaact aaacta aactat actata ctataa tataac ataaca taacaa aacaaa acaaac caaacc aaaccc aaccct accctg ccctga cctgag ctgaga tgagaa gagaac agaacc gaacca aaccaa accaaa ccaaaa caaaat aaaatg aaatga aatgaa atgaac tgaacg gaacga aacgaa acgaaa cgaaaa gaaaat aaaatc aaatct aatctg atctgt tctgtt ctgttc tgttca gttcac ttcact tcactt cacttc acttca cttcat ttcatt tcattc cattca attcat ttcatt tcattg cattgc attgcc ttgccc tgcccc gccccc ccccca ccccac cccaca ccacaa cacaat acaatc caatcc aatcct atccta tcctag cctagg ctaggc taggcc aggcct ggccta gcctac cctacc ctaccc tacccg acccgc cccgcc ccgccg cgccgc gccgca ccgcag cgcagt gcagta cagtac agtact gtactg tactga actgat ctgatc tgatca gatcat atcatt tcattc cattct attcta ttctat tctatt ctattt tatttc atttcc tttccc ttcccc tccccc ccccct cccctc ccctct cctcta ctctat tctatt ctattg tattga attgat ttgatc tgatcc gatccc atcccc tcccca ccccac cccacc ccacct cacctc acctcc cctcca ctccaa tccaaa ccaaat caaata aaatat aatatc atatct tatctc atctca tctcat ctcatc tcatca catcaa atcaac tcaaca caacaa aacaac acaacc caaccg aaccga accgac ccgact cgacta gactaa actaat ctaatt taatta aattac attacc ttacca taccac accacc ccaccc caccca acccaa cccaac ccaaca caacaa aacaat acaatg caatga aatgac atgact tgacta gactaa actaat ctaatc taatcc aatcca atccaa tccaac ccaact caacta aactaa actaac ctaacc taacct aacctc acctca cctcaa ctcaaa tcaaaa caaaac aaaaca aaacaa aacaaa acaaat caaatg aaatga aatgat atgata tgatag gatagc atagcc tagcca agccat gccata ccatac cataca atacac tacaca acacaa cacaac acaaca caacac aacact acacta cactaa actaag ctaagg taaggg aaggga agggac gggacg ggacga gacgaa acgaac cgaacc gaacct aacctg acctga cctgat ctgatc tgatct gatctc atctct tctctt ctctta tcttat cttata ttatac tatact atacta tactag actagt ctagta tagtat agtatc gtatcc tatcct atcctt tcctta ccttaa cttaat ttaatc taatca aatcat atcatt tcattt catttt attttt ttttta ttttat tttatt ttattg tattgc attgcc ttgcca tgccac gccaca ccacaa cacaac acaact caacta aactaa actaac ctaacc taacct aacctc acctcc cctcct ctcctc tcctcg cctcgg ctcgga tcggac cggact ggactc gactcc actcct ctcctg tcctgc cctgcc ctgcct tgcctc gcctca cctcac ctcact tcactc cactca actcat ctcatt tcattt cattta atttac tttaca ttacac tacacc acacca caccaa accaac ccaacc caacca aaccac accacc ccaccc caccca acccaa cccaac ccaact caacta aactat actatc ctatct tatcta atctat tctata ctataa tataaa ataaac taaacc aaacct aaccta acctag cctagc ctagcc tagcca agccat gccatg ccatgg catggc atggcc tggcca ggccat gccatc ccatcc catccc atcccc tcccct cccctt ccctta ccttat cttatg ttatga tatgag atgagc tgagcg gagcgg agcggg gcgggc cgggcg gggcgc ggcgca gcgcag cgcagt gcagtg cagtga agtgat gtgatt tgatta gattat attata ttatag tatagg ataggc taggct aggctt ggcttt gctttc ctttcg tttcgc ttcgct tcgctc cgctct gctcta ctctaa tctaag ctaaga taagat aagatt agatta gattaa attaaa ttaaaa taaaaa aaaaat aaaatg aaatgc aatgcc atgccc tgccct gcccta ccctag cctagc ctagcc tagccc agccca gcccac cccact ccactt cacttc acttct cttctt ttctta tcttac cttacc ttacca taccac accaca ccacaa cacaag acaagg caaggc aaggca aggcac ggcaca gcacac cacacc acacct caccta acctac cctaca ctacac tacacc acaccc cacccc acccct cccctt ccctta ccttat cttatc ttatcc tatccc atccct tcccta ccctat cctata ctatac tatact atacta tactag actagt ctagtt tagtta agttat gttatt ttatta tattat attatc ttatcg tatcga atcgaa tcgaaa cgaaac gaaacc aaacca aaccat accatc ccatca catcag atcagc tcagcc cagcct agccta gcctac cctact ctactc tactca actcat ctcatt tcattc cattca attcaa ttcaac tcaacc caacca aaccaa accaat ccaata caatag aatagc atagcc tagccc agccct gccctg ccctgg cctggc ctggcc tggccg ggccgt gccgta ccgtac cgtacg gtacgc tacgcc acgcct cgccta gcctaa cctaac ctaacc taaccg aaccgc accgct ccgcta cgctaa gctaac ctaaca taacat aacatt acatta cattac attact ttactg tactgc actgca ctgcag tgcagg gcaggc caggcc aggcca ggccac gccacc ccacct caccta acctac cctact ctactc tactca actcat ctcatg tcatgc catgca atgcac tgcacc gcacct caccta acctaa cctaat ctaatt taattg aattgg attgga ttggaa tggaag ggaagc gaagcg aagcgc agcgcc gcgcca cgccac gccaca ccacac cacact acacta cactag actagc ctagca tagcaa agcaat gcaata caatat aatatc atatca tatcaa atcaac tcaact caacta aactat actatt ctatta tattaa attaac ttaacc taacct aacctt accttc ccttcc cttccc ttccct tccctc ccctct cctcta ctctac tctaca ctacac tacact acactt cactta acttat cttatc ttatca tatcat atcatc tcatct catctt atcttc tcttca cttcac ttcaca tcacaa cacaat acaatt caattc aattct attcta ttctaa tctaat ctaatt taattc aattct attcta ttctac tctact ctactg tactga actgac ctgact tgacta gactat actatc ctatcc tatcct atccta tcctag cctaga ctagaa tagaaa agaaat gaaatc aaatcg aatcgc atcgct tcgctg cgctgt gctgtc ctgtcg tgtcgc gtcgcc tcgcct cgcctt gcctta ccttaa cttaat ttaatc taatcc aatcca atccaa tccaag ccaagc caagcc aagcct agccta gcctac cctacg ctacgt tacgtt acgttt cgtttt gttttt ttttta ttttac tttaca ttacac tacact acactt cacttc acttct cttcta ttctag tctagt ctagta tagtaa agtaag gtaagc taagcc aagcct agcctc gcctct cctcta ctctac tctacc ctacct tacctg acctgc cctgca ctgcac tgcacg gcacga cacgac acgaca cgacaa gacaac acaaca caacac aacaca acacat cacata acataa cataat ataatg taatga aatgac atgacc tgaccc gaccca acccac cccacc ccacca caccaa accaat ccaatc caatca aatcac atcaca tcacat cacatg acatgc catgcc atgcct tgccta gcctat cctatc ctatca tatcat atcata tcatat catata atatag tatagt atagta tagtaa agtaaa gtaaaa taaaac aaaacc aaaccc aaccca acccag cccagc ccagcc cagccc agccca gcccat cccatg ccatgg catggc atggcc tggccc ggcccc gcccct ccccta ccctaa cctaac ctaaca taacag aacagg acaggg cagggg aggggc ggggcc gggccc ggccct gccctc ccctct cctctc ctctca tctcag ctcagc tcagcc cagccc agccct gccctc ccctcc cctcct ctccta tcctaa cctaat ctaatg taatga aatgac atgacc tgacct gacctc acctcc cctccg ctccgg tccggc ccggcc cggcct ggccta gcctag cctagc ctagcc tagcca agccat gccatg ccatgt catgtg atgtga tgtgat gtgatt tgattt gatttc atttca tttcac ttcact tcactt cacttc acttcc cttcca ttccac tccact ccactc cactcc actcca ctccac tccaca ccacaa cacaac acaacc caaccc aaccct accctc ccctcc cctcct ctcctc tcctca cctcat ctcata tcatac catact atacta tactag actagg ctaggc taggcc aggcct ggccta gcctac cctact ctacta tactaa actaac ctaacc taacca aaccaa accaac ccaaca caacac aacaca acacac cacact acacta cactaa actaac ctaacc taacca aaccat accata ccatat catata atatac tatacc atacca taccaa accaat ccaatg caatga aatgat atgatg tgatgg gatggc atggcg tggcgc ggcgcg gcgcga cgcgat gcgatg cgatgt gatgta atgtaa tgtaac gtaaca taacac aacacg acacga cacgag acgaga cgagaa gagaaa agaaag gaaagc aaagca aagcac agcaca gcacat cacata acatac catacc atacca taccaa accaag ccaagg caaggc aaggcc aggcca ggccac gccacc ccacca caccac accaca ccacac cacaca acacac cacacc acacca caccac accacc ccacct cacctg acctgt cctgtc ctgtcc tgtcca gtccag tccaga ccagaa cagaaa agaaag gaaagg aaaggc aaggcc aggcct ggcctt gccttc ccttcg cttcga ttcgat tcgata cgatac gatacg atacgg tacggg acggga cgggat gggata ggataa gataat ataatc taatcc aatcct atccta tcctat cctatt ctattt tattta atttat tttatt ttatta tattac attacc ttacct tacctc acctca cctcag ctcaga tcagaa cagaag agaagt gaagtt aagttt agtttt gttttt tttttt tttttt tttttc ttttct tttctt ttcttc tcttcg cttcgc ttcgca tcgcag cgcagg gcagga caggat aggatt ggattt gatttt attttt tttttc ttttct tttctg ttctga tctgag ctgagc tgagcc gagcct agcctt gccttt cctttt ctttta ttttac tttacc ttacca taccac accact ccactc cactcc actcca ctccag tccagc ccagcc cagcct agccta gcctag cctagc ctagct tagctc agctcc gctccc ctccca tcccac cccacc ccaccc cacccc accccc cccccc ccccca ccccaa cccaac ccaact caacta aactag actagg ctaggg tagggg aggggg ggggga ggggac gggaca ggacac gacact acactg cactgg actggc ctggcc tggccc ggcccc gccccc ccccca ccccaa cccaac ccaaca caacag aacagg acaggc caggca aggcat ggcatc gcatca catcac atcacc tcaccc cacccc accccg ccccgc cccgct ccgcta cgctaa gctaaa ctaaat taaatc aaatcc aatccc atcccc tcccct ccccta ccctag cctaga ctagaa tagaag agaagt gaagtc aagtcc agtccc gtccca tcccac cccact ccactc cactcc actcct ctccta tcctaa cctaaa ctaaac taaaca aaacac aacaca acacat cacatc acatcc catccg atccgt tccgta ccgtat cgtatt gtatta tattac attact ttactc tactcg actcgc ctcgca tcgcat cgcatc gcatca catcag atcagg tcaggg cagggg aggggt ggggta gggtat ggtatc gtatca tatcaa atcaat tcaatc caatca aatcac atcacc tcacct cacctg acctga cctgag ctgagc tgagct gagctc agctca gctcac ctcacc\n"
     ]
    }
   ],
   "source": [
    "df_kmers_texts = list(df_kmers['words'])\n",
    "for item in range(len(df_kmers)):\n",
    "    df_kmers_texts[item] = ' '.join(df_kmers_texts[item])\n",
    "y_data = df_kmers.iloc[:, 0].values\n",
    "print(df_kmers_texts[2])\n"
   ]
  },
  {
   "cell_type": "code",
   "execution_count": 37,
   "metadata": {},
   "outputs": [
    {
     "name": "stdout",
     "output_type": "stream",
     "text": [
      "50000\n"
     ]
    }
   ],
   "source": [
    "print(len(df_kmers_texts))"
   ]
  },
  {
   "cell_type": "code",
   "execution_count": 30,
   "metadata": {},
   "outputs": [
    {
     "name": "stdout",
     "output_type": "stream",
     "text": [
      "(50000, 262113)\n"
     ]
    }
   ],
   "source": [
    "from sklearn.feature_extraction.text import CountVectorizer\n",
    "cv = CountVectorizer(ngram_range=(4,4))\n",
    "X = cv.fit_transform(df_kmers_texts)\n",
    "print(X.shape)\n"
   ]
  },
  {
   "cell_type": "code",
   "execution_count": 31,
   "metadata": {},
   "outputs": [
    {
     "data": {
      "text/plain": [
       "<AxesSubplot:>"
      ]
     },
     "execution_count": 31,
     "metadata": {},
     "output_type": "execute_result"
    },
    {
     "data": {
      "image/png": "[encoded data removed]",
      "text/plain": [
       "<Figure size 432x288 with 1 Axes>"
      ]
     },
     "metadata": {
      "needs_background": "light"
     },
     "output_type": "display_data"
    }
   ],
   "source": [
    "df_kmers['labels'].value_counts().sort_index().plot.bar()"
   ]
  },
  {
   "cell_type": "code",
   "execution_count": null,
   "metadata": {},
   "outputs": [],
   "source": [
    "df_kmers.to_csv('dataset_kmer_6_test.csv.gz'\n",
    "         , sep='|'\n",
    "         , header=True\n",
    "         , index=False\n",
    "         , chunksize=100000\n",
    "         , compression='gzip'\n",
    "         , encoding='utf-8')"
   ]
  },
  {
   "cell_type": "code",
   "execution_count": 32,
   "metadata": {},
   "outputs": [],
   "source": [
    "from sklearn.model_selection import train_test_split\n",
    "X_train, X_test, y_train, y_test = train_test_split(X, \n",
    "                                                    y_data, \n",
    "                                                    test_size = 0.20, \n",
    "                                                    random_state=42)"
   ]
  },
  {
   "cell_type": "code",
   "execution_count": 33,
   "metadata": {},
   "outputs": [
    {
     "name": "stdout",
     "output_type": "stream",
     "text": [
      "(40000, 262113)\n",
      "(10000, 262113)\n"
     ]
    }
   ],
   "source": [
    "print(X_train.shape)\n",
    "print(X_test.shape)"
   ]
  },
  {
   "cell_type": "markdown",
   "metadata": {},
   "source": [
    "Testing a Naive_Bayes Classifier"
   ]
  },
  {
   "cell_type": "code",
   "execution_count": 34,
   "metadata": {},
   "outputs": [
    {
     "data": {
      "text/plain": [
       "MultinomialNB(alpha=0.1)"
      ]
     },
     "execution_count": 34,
     "metadata": {},
     "output_type": "execute_result"
    }
   ],
   "source": [
    "from sklearn.naive_bayes import MultinomialNB\n",
    "classifier = MultinomialNB(alpha=0.1)\n",
    "classifier.fit(X_train, y_train)"
   ]
  },
  {
   "cell_type": "code",
   "execution_count": 35,
   "metadata": {},
   "outputs": [],
   "source": [
    "y_pred = classifier.predict(X_test)"
   ]
  },
  {
   "cell_type": "code",
   "execution_count": 36,
   "metadata": {},
   "outputs": [
    {
     "name": "stdout",
     "output_type": "stream",
     "text": [
      "Confusion matrix\n",
      "\n",
      "Predicted  chr1  chr2\n",
      "Actual               \n",
      "chr1       6912  1778\n",
      "chr2        977   333\n",
      "accuracy = 0.725 \n",
      "precision = 0.782 \n",
      "recall = 0.725 \n",
      "f1 = 0.750\n"
     ]
    }
   ],
   "source": [
    "from sklearn.metrics import accuracy_score, f1_score, precision_score, recall_score\n",
    "print(\"Confusion matrix\\n\")\n",
    "print(pd.crosstab(pd.Series(y_test, name='Actual'), pd.Series(y_pred, name='Predicted')))\n",
    "def get_metrics(y_test, y_predicted):\n",
    "    accuracy = accuracy_score(y_test, y_predicted)\n",
    "    precision = precision_score(y_test, y_predicted, average='weighted')\n",
    "    recall = recall_score(y_test, y_predicted, average='weighted')\n",
    "    f1 = f1_score(y_test, y_predicted, average='weighted')\n",
    "    return accuracy, precision, recall, f1\n",
    "accuracy, precision, recall, f1 = get_metrics(y_test, y_pred)\n",
    "print(\"accuracy = %.3f \\nprecision = %.3f \\nrecall = %.3f \\nf1 = %.3f\" % (accuracy, precision, recall, f1))"
   ]
  },
  {
   "cell_type": "code",
   "execution_count": null,
   "metadata": {},
   "outputs": [],
   "source": []
  }
 ],
 "metadata": {
  "kernelspec": {
   "display_name": "Python 3",
   "language": "python",
   "name": "python3"
  },
  "language_info": {
   "codemirror_mode": {
    "name": "ipython",
    "version": 3
   },
   "file_extension": ".py",
   "mimetype": "text/x-python",
   "name": "python",
   "nbconvert_exporter": "python",
   "pygments_lexer": "ipython3",
   "version": "3.8.5"
  }
 },
 "nbformat": 4,
 "nbformat_minor": 4
}
