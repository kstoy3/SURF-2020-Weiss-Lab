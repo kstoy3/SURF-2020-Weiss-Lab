{
 "cells": [
  {
   "cell_type": "code",
   "execution_count": 1,
   "metadata": {},
   "outputs": [],
   "source": [
    "%load_ext tensorboard\n",
    "import tensorflow as tf\n",
    "import datetime\n",
    "import keras\n",
    "\n",
    "import numpy as np\n",
    "import pandas as pd\n",
    "from keras.models import Sequential, Model, load_model\n",
    "from keras.layers import Input ,Dense, Dropout, Activation, LSTM, Conv1D\n",
    "from keras.layers import Lambda, Convolution1D, MaxPooling1D, Flatten, Reshape, BatchNormalization\n",
    "from keras.layers.wrappers import TimeDistributed\n",
    "from keras.layers.pooling import GlobalAveragePooling1D\n",
    "from keras.optimizers import SGD, Adam\n",
    "from keras.utils import np_utils\n",
    "from keras.callbacks import ModelCheckpoint, EarlyStopping, TensorBoard\n",
    "from keras.metrics import categorical_crossentropy, binary_crossentropy\n",
    "\n",
    "#from spp.SpatialPyramidPooling import SpatialPyramidPooling\n",
    "\n",
    "#For data saving\n",
    "import pickle\n",
    "import random\n",
    "#other imports\n",
    "import gzip\n",
    "import glob\n",
    "import os\n",
    "import keras.backend as K\n",
    "import os\n",
    "import time \n",
    "#cwd = os.path.dirname(os.path.realpath(\"SURF_001_TwoClass13.ipynb\"))"
   ]
  },
  {
   "cell_type": "code",
   "execution_count": null,
   "metadata": {},
   "outputs": [],
   "source": [
    "dense_layer = 1\n",
    "layer_size = 64 \n",
    "conv_layer = 2\n",
    "seq_length = 1000\n",
    "base_pair = 4\n",
    "num_strides = 1\n",
    "pool_size = 4\n",
    "\n",
    "epochs = 100\n",
    "batch_size = 1\n",
    "val_batch_size = 40"
   ]
  },
  {
   "cell_type": "code",
   "execution_count": null,
   "metadata": {},
   "outputs": [],
   "source": [
    "# Loads the weights\n",
    "\n",
    "\n",
    "checkpoint_path = \"../training_1/dataset14_run1.ckpt\"\n",
    "checkpoint_dir = os.path.dirname(checkpoint_path)\n",
    "\n",
    "cp_callback = tf.keras.callbacks.ModelCheckpoint(filepath=checkpoint_path,\n",
    "                                             save_weights_only=True,\n",
    "                                             verbose=1)\n",
    "\n",
    "earlystop = tf.keras.callbacks.EarlyStopping(\n",
    "monitor='val_loss', min_delta=0, patience=10, verbose=0, mode='auto',\n",
    "baseline=None, restore_best_weights=False)\n",
    "\n",
    "#Model\n",
    "model = tf.keras.models.Sequential([      \n",
    "\n",
    "    tf.keras.layers.Conv1D(64, (4), activation='relu', input_shape=(28, 28, 1)),\n",
    "    tf.keras.layers.MaxPooling1D(4),\n",
    "    tf.keras.layers.Conv1D(64, (3), activation='relu'),\n",
    "    tf.keras.layers.MaxPooling1D(4),\n",
    "    tf.keras.layers.Flatten(),\n",
    "    tf.keras.layers.Dense(128, activation='relu'),\n",
    "    tf.keras.layers.Dense(2, activation='softmax')       \n",
    "])\n",
    "model.compile(optimizer='adam',\n",
    "          loss='categorical_crossentropy',\n",
    "          metrics=['accuracy'])\n",
    "\n",
    "#model.load_weights(\"../training_1/dataset14_run1.ckpt\")\n",
    "\n",
    "# Re-evaluate the model\n",
    "#loss,acc = model.evaluate(test_images,  test_labels, verbose=2)\n",
    "#print(\"Restored model, accuracy: {:5.2f}%\".format(100*acc))"
   ]
  },
  {
   "cell_type": "code",
   "execution_count": null,
   "metadata": {},
   "outputs": [],
   "source": [
    "with open('../partition_train_val_a.dat', 'rb') as f:\n",
    "    partition = pickle.load(f)\n",
    "train_samples_IDs = partition['train']\n",
    "val_samples_IDs = partition['validation']\n",
    "IDs = partition['labels']"
   ]
  },
  {
   "cell_type": "code",
   "execution_count": null,
   "metadata": {},
   "outputs": [],
   "source": [
    "predicted = []\n",
    "Y_val_expected = []\n",
    "count_input_val = 0\n",
    "num_val_seq = len(val_samples)\n",
    "done = False\n",
    "while count_input_val < num_val_seq and not(done):\n",
    "    X_val = np.zeros((1, 1000, 4), dtype=np.int8)\n",
    "    if count_input_val < (num_val_seq - 1):\n",
    "        for i in range(0, 1):\n",
    "            a = val_samples[count_input_val]\n",
    "            X_val[i, :, :] = np.load('../model_11_data_4/' + val_samples[count_input_val] + '.npy') \n",
    "            count_input_val += 1\n",
    "        predict = (model.predict_classes(X_val))\n",
    "        for label in predict:\n",
    "            predicted.append(label)\n",
    "    else:\n",
    "        done = True\n",
    "    if count_input_val == 16200:\n",
    "        done = True\n",
    "    print(count_input_val)\n",
    "print(len(predicted))\n",
    "print(predicted[0])"
   ]
  },
  {
   "cell_type": "code",
   "execution_count": null,
   "metadata": {},
   "outputs": [],
   "source": [
    "expected = []\n",
    "\n",
    "for label in val_samples:\n",
    "    expected.append(labels[label][0][0])\n",
    "print(expected[0])\n",
    "print(len(expected))\n"
   ]
  },
  {
   "cell_type": "code",
   "execution_count": null,
   "metadata": {},
   "outputs": [],
   "source": [
    "# Example of a confusion matrix in Python\n",
    "from sklearn.metrics import confusion_matrix\n",
    " \n",
    "results = confusion_matrix(expected[0:13400], predicted)\n",
    "print(results)\n",
    "# Printing the precision and recall, among other metrics\n",
    "#print(metrics.classification_report(y_act, y_pred, labels=[\"a\", \n",
    "#\"b\"]))"
   ]
  },
  {
   "cell_type": "code",
   "execution_count": null,
   "metadata": {},
   "outputs": [],
   "source": [
    "import seaborn as sns\n",
    "\n",
    "sns.heatmap(results/np.sum(results), annot=True, \n",
    "            fmt='.2%', cmap='Blues')\n",
    "print(model.summary)"
   ]
  }
 ],
 "metadata": {
  "kernelspec": {
   "display_name": "Python 3",
   "language": "python",
   "name": "python3"
  },
  "language_info": {
   "codemirror_mode": {
    "name": "ipython",
    "version": 3
   },
   "file_extension": ".py",
   "mimetype": "text/x-python",
   "name": "python",
   "nbconvert_exporter": "python",
   "pygments_lexer": "ipython3",
   "version": "3.8.3"
  }
 },
 "nbformat": 4,
 "nbformat_minor": 4
}
