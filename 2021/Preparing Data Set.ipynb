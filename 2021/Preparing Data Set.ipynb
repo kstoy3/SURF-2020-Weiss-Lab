{
 "cells": [
  {
   "cell_type": "code",
   "execution_count": 1,
   "metadata": {},
   "outputs": [
    {
     "name": "stdout",
     "output_type": "stream",
     "text": [
      "Requirement already satisfied: xgboost in c:\\programdata\\anaconda3\\lib\\site-packages (1.3.3)\n",
      "Requirement already satisfied: scipy in c:\\programdata\\anaconda3\\lib\\site-packages (from xgboost) (1.5.2)\n",
      "Requirement already satisfied: numpy in c:\\programdata\\anaconda3\\lib\\site-packages (from xgboost) (1.19.2)\n",
      "Note: you may need to restart the kernel to use updated packages.\n"
     ]
    }
   ],
   "source": [
    "pip install xgboost"
   ]
  },
  {
   "cell_type": "code",
   "execution_count": 2,
   "metadata": {},
   "outputs": [
    {
     "name": "stdout",
     "output_type": "stream",
     "text": [
      "Requirement already satisfied: keras in c:\\programdata\\anaconda3\\lib\\site-packages (2.4.3)\n",
      "Requirement already satisfied: scipy>=0.14 in c:\\programdata\\anaconda3\\lib\\site-packages (from keras) (1.5.2)\n",
      "Requirement already satisfied: pyyaml in c:\\programdata\\anaconda3\\lib\\site-packages (from keras) (5.3.1)\n",
      "Requirement already satisfied: numpy>=1.9.1 in c:\\programdata\\anaconda3\\lib\\site-packages (from keras) (1.19.2)\n",
      "Requirement already satisfied: h5py in c:\\programdata\\anaconda3\\lib\\site-packages (from keras) (2.10.0)\n",
      "Requirement already satisfied: six in c:\\programdata\\anaconda3\\lib\\site-packages (from h5py->keras) (1.15.0)\n",
      "Note: you may need to restart the kernel to use updated packages.\n"
     ]
    }
   ],
   "source": [
    "pip install keras"
   ]
  },
  {
   "cell_type": "code",
   "execution_count": 3,
   "metadata": {},
   "outputs": [
    {
     "name": "stdout",
     "output_type": "stream",
     "text": [
      "Requirement already satisfied: tensorflow in c:\\users\\kriss\\appdata\\roaming\\python\\python38\\site-packages (2.4.1)\n",
      "Requirement already satisfied: keras-preprocessing~=1.1.2 in c:\\users\\kriss\\appdata\\roaming\\python\\python38\\site-packages (from tensorflow) (1.1.2)\n",
      "Requirement already satisfied: h5py~=2.10.0 in c:\\programdata\\anaconda3\\lib\\site-packages (from tensorflow) (2.10.0)\n",
      "Requirement already satisfied: six~=1.15.0 in c:\\programdata\\anaconda3\\lib\\site-packages (from tensorflow) (1.15.0)\n",
      "Requirement already satisfied: gast==0.3.3 in c:\\users\\kriss\\appdata\\roaming\\python\\python38\\site-packages (from tensorflow) (0.3.3)\n",
      "Requirement already satisfied: flatbuffers~=1.12.0 in c:\\users\\kriss\\appdata\\roaming\\python\\python38\\site-packages (from tensorflow) (1.12)\n",
      "Requirement already satisfied: astunparse~=1.6.3 in c:\\users\\kriss\\appdata\\roaming\\python\\python38\\site-packages (from tensorflow) (1.6.3)\n",
      "Requirement already satisfied: numpy~=1.19.2 in c:\\programdata\\anaconda3\\lib\\site-packages (from tensorflow) (1.19.2)\n",
      "Requirement already satisfied: wrapt~=1.12.1 in c:\\users\\kriss\\appdata\\roaming\\python\\python38\\site-packages (from tensorflow) (1.12.1)\n",
      "Requirement already satisfied: tensorboard~=2.4 in c:\\users\\kriss\\appdata\\roaming\\python\\python38\\site-packages (from tensorflow) (2.4.1)\n",
      "Requirement already satisfied: grpcio~=1.32.0 in c:\\users\\kriss\\appdata\\roaming\\python\\python38\\site-packages (from tensorflow) (1.32.0)\n",
      "Requirement already satisfied: typing-extensions~=3.7.4 in c:\\programdata\\anaconda3\\lib\\site-packages (from tensorflow) (3.7.4.3)\n",
      "Requirement already satisfied: protobuf>=3.9.2 in c:\\users\\kriss\\appdata\\roaming\\python\\python38\\site-packages (from tensorflow) (3.15.8)\n",
      "Requirement already satisfied: opt-einsum~=3.3.0 in c:\\programdata\\anaconda3\\lib\\site-packages (from tensorflow) (3.3.0)\n",
      "Requirement already satisfied: google-pasta~=0.2 in c:\\users\\kriss\\appdata\\roaming\\python\\python38\\site-packages (from tensorflow) (0.2.0)\n",
      "Requirement already satisfied: absl-py~=0.10 in c:\\programdata\\anaconda3\\lib\\site-packages (from tensorflow) (0.12.0)\n",
      "Requirement already satisfied: tensorflow-estimator<2.5.0,>=2.4.0 in c:\\users\\kriss\\appdata\\roaming\\python\\python38\\site-packages (from tensorflow) (2.4.0)\n",
      "Requirement already satisfied: wheel~=0.35 in c:\\programdata\\anaconda3\\lib\\site-packages (from tensorflow) (0.35.1)\n",
      "Requirement already satisfied: termcolor~=1.1.0 in c:\\users\\kriss\\appdata\\roaming\\python\\python38\\site-packages (from tensorflow) (1.1.0)\n",
      "Requirement already satisfied: requests<3,>=2.21.0 in c:\\programdata\\anaconda3\\lib\\site-packages (from tensorboard~=2.4->tensorflow) (2.24.0)\n",
      "Requirement already satisfied: werkzeug>=0.11.15 in c:\\programdata\\anaconda3\\lib\\site-packages (from tensorboard~=2.4->tensorflow) (1.0.1)\n",
      "Requirement already satisfied: google-auth-oauthlib<0.5,>=0.4.1 in c:\\users\\kriss\\appdata\\roaming\\python\\python38\\site-packages (from tensorboard~=2.4->tensorflow) (0.4.4)\n",
      "Requirement already satisfied: markdown>=2.6.8 in c:\\users\\kriss\\appdata\\roaming\\python\\python38\\site-packages (from tensorboard~=2.4->tensorflow) (3.3.4)\n",
      "Requirement already satisfied: google-auth<2,>=1.6.3 in c:\\users\\kriss\\appdata\\roaming\\python\\python38\\site-packages (from tensorboard~=2.4->tensorflow) (1.29.0)\n",
      "Requirement already satisfied: tensorboard-plugin-wit>=1.6.0 in c:\\users\\kriss\\appdata\\roaming\\python\\python38\\site-packages (from tensorboard~=2.4->tensorflow) (1.8.0)\n",
      "Requirement already satisfied: setuptools>=41.0.0 in c:\\programdata\\anaconda3\\lib\\site-packages (from tensorboard~=2.4->tensorflow) (50.3.1.post20201107)\n",
      "Requirement already satisfied: certifi>=2017.4.17 in c:\\programdata\\anaconda3\\lib\\site-packages (from requests<3,>=2.21.0->tensorboard~=2.4->tensorflow) (2020.6.20)\n",
      "Requirement already satisfied: urllib3!=1.25.0,!=1.25.1,<1.26,>=1.21.1 in c:\\programdata\\anaconda3\\lib\\site-packages (from requests<3,>=2.21.0->tensorboard~=2.4->tensorflow) (1.25.11)\n",
      "Requirement already satisfied: idna<3,>=2.5 in c:\\programdata\\anaconda3\\lib\\site-packages (from requests<3,>=2.21.0->tensorboard~=2.4->tensorflow) (2.10)\n",
      "Requirement already satisfied: chardet<4,>=3.0.2 in c:\\programdata\\anaconda3\\lib\\site-packages (from requests<3,>=2.21.0->tensorboard~=2.4->tensorflow) (3.0.4)\n",
      "Requirement already satisfied: requests-oauthlib>=0.7.0 in c:\\users\\kriss\\appdata\\roaming\\python\\python38\\site-packages (from google-auth-oauthlib<0.5,>=0.4.1->tensorboard~=2.4->tensorflow) (1.3.0)\n",
      "Requirement already satisfied: rsa<5,>=3.1.4; python_version >= \"3.6\" in c:\\users\\kriss\\appdata\\roaming\\python\\python38\\site-packages (from google-auth<2,>=1.6.3->tensorboard~=2.4->tensorflow) (4.7.2)\n",
      "Requirement already satisfied: pyasn1-modules>=0.2.1 in c:\\users\\kriss\\appdata\\roaming\\python\\python38\\site-packages (from google-auth<2,>=1.6.3->tensorboard~=2.4->tensorflow) (0.2.8)\n",
      "Requirement already satisfied: cachetools<5.0,>=2.0.0 in c:\\users\\kriss\\appdata\\roaming\\python\\python38\\site-packages (from google-auth<2,>=1.6.3->tensorboard~=2.4->tensorflow) (4.2.1)\n",
      "Requirement already satisfied: oauthlib>=3.0.0 in c:\\users\\kriss\\appdata\\roaming\\python\\python38\\site-packages (from requests-oauthlib>=0.7.0->google-auth-oauthlib<0.5,>=0.4.1->tensorboard~=2.4->tensorflow) (3.1.0)\n",
      "Requirement already satisfied: pyasn1>=0.1.3 in c:\\users\\kriss\\appdata\\roaming\\python\\python38\\site-packages (from rsa<5,>=3.1.4; python_version >= \"3.6\"->google-auth<2,>=1.6.3->tensorboard~=2.4->tensorflow) (0.4.8)\n",
      "Note: you may need to restart the kernel to use updated packages.\n"
     ]
    }
   ],
   "source": [
    "pip install tensorflow --user\n"
   ]
  },
  {
   "cell_type": "code",
   "execution_count": 4,
   "metadata": {},
   "outputs": [],
   "source": [
    "import datetime\n",
    "import keras\n",
    "import numpy as np\n",
    "import pandas as pd\n",
    "from keras.models import Sequential, Model, load_model\n",
    "from keras.layers import Input ,Dense, Dropout, Activation, LSTM, Conv1D\n",
    "from keras.layers import Lambda, Convolution1D, MaxPooling1D, Flatten, Reshape, BatchNormalization\n",
    "from keras.layers.wrappers import TimeDistributed\n",
    "from keras.layers.pooling import GlobalAveragePooling1D\n",
    "from keras.optimizers import SGD, Adam\n",
    "from keras.utils import np_utils\n",
    "from keras.callbacks import ModelCheckpoint, EarlyStopping, TensorBoard\n",
    "from keras.metrics import categorical_crossentropy, binary_crossentropy\n",
    "\n",
    "#from spp.SpatialPyramidPooling import SpatialPyramidPooling\n",
    "\n",
    "#For data saving\n",
    "import pickle\n",
    "import random\n",
    "#other imports\n",
    "import gzip\n",
    "import glob\n",
    "import os\n",
    "import keras.backend as K\n",
    "import os\n",
    "import time \n",
    "#cwd = os.path.dirname(os.path.realpath(\"SURF_001_TwoClass13.ipynb\"))"
   ]
  },
  {
   "cell_type": "code",
   "execution_count": 5,
   "metadata": {},
   "outputs": [],
   "source": [
    "from Bio import SeqIO\n",
    "from Bio.Seq import Seq\n",
    "from Bio.SeqRecord import SeqRecord\n",
    "from collections import defaultdict\n",
    "import numpy as np\n",
    "import pandas as pd\n",
    "import random\n",
    "# read names and postions from bed file\n",
    "positions = defaultdict(list)\n",
    "extra = []\n",
    "with open('../../Data/Seq_indexes.bed') as f:\n",
    "    for line in f:\n",
    "        name, start, stop, label = line.split()\n",
    "        extra.append(label)\n",
    "        positions[name].append((int(start), int(stop), label))\n",
    "\n",
    "# parse faste file and turn into dictionary\n",
    "records = SeqIO.to_dict(SeqIO.parse(open('../../Data/chr1.fa'), 'fasta'))"
   ]
  },
  {
   "cell_type": "code",
   "execution_count": 6,
   "metadata": {},
   "outputs": [],
   "source": [
    "import matplotlib.pyplot as plt\n",
    "import numpy as np"
   ]
  },
  {
   "cell_type": "markdown",
   "metadata": {},
   "source": [
    "Extracting Fasta to tabular\n",
    "https://stackoverflow.com/questions/30503543/python-extract-dna-sequence-from-fasta-file-using-bed-file\n",
    "https://biopython.org/wiki/SeqIO"
   ]
  },
  {
   "cell_type": "code",
   "execution_count": 18,
   "metadata": {},
   "outputs": [
    {
     "name": "stdout",
     "output_type": "stream",
     "text": [
      "[25, 17, 8, 7, 19, 21, 5, 15, 12, 16, 24, 2, 1, 6, 23, 3, 4, 22, 14, 13, 10, 20, 11, 18, 9]\n",
      "[168080, 106359, 78895, 47756, 44035, 37291, 33690, 30854, 23960, 21534, 20941, 19399, 15326, 15247, 15066, 13707, 11127, 10407, 8313, 7537, 6177, 4995, 4088, 3850, 2875]\n",
      "[1, 2, 3, 4, 5, 6, 7, 8, 9, 10, 11, 12, 13, 14, 15, 16, 17, 18, 19, 20, 21, 22, 23, 24, 25]\n",
      "[15326, 19399, 13707, 11127, 33690, 15247, 47756, 78895, 2875, 6177, 4088, 23960, 7537, 8313, 30854, 21534, 106359, 3850, 44035, 4995, 37291, 10407, 15066, 20941, 168080]\n"
     ]
    },
    {
     "data": {
      "image/png": "[encoded data removed]",
      "text/plain": [
       "<Figure size 432x288 with 1 Axes>"
      ]
     },
     "metadata": {
      "needs_background": "light"
     },
     "output_type": "display_data"
    },
    {
     "name": "stdout",
     "output_type": "stream",
     "text": [
      "Total Num Seq: 751509\n"
     ]
    }
   ],
   "source": [
    "labels = df_data['labels'].value_counts()\n",
    "labels_num = (labels.index).tolist()\n",
    "labels_freq = labels.tolist()\n",
    "print(labels_num)\n",
    "print(labels_freq)\n",
    "count = 0\n",
    "for x, y in sorted(zip(labels_num, labels_freq)):\n",
    "    labels_num[count] = x\n",
    "    labels_freq[count] = y \n",
    "    count += 1\n",
    "print(labels_num)\n",
    "print(labels_freq)\n",
    "\n",
    "labels = labels_num\n",
    "\n",
    "plt.bar(labels_num,labels_freq, align = 'center')\n",
    "plt.ylabel('Freq')\n",
    "plt.xlabel('HMM Model Labels')\n",
    "plt.title('Freq of Each Category of DNA Labels')\n",
    "plt.show()\n",
    "print(\"Total Num Seq: \" + str(sum(labels_freq)))"
   ]
  },
  {
   "cell_type": "code",
   "execution_count": 185,
   "metadata": {},
   "outputs": [
    {
     "name": "stdout",
     "output_type": "stream",
     "text": [
      "['chr1', 'chr2', 'chr3', 'chr4', 'chr5', 'chr6', 'chr7', 'chr8', 'chr9', 'chr10', 'chr11', 'chr12', 'chr13', 'chr14', 'chr15', 'chr16', 'chr17', 'chr18', 'chr19', 'chr20', 'chr21', 'chr22', 'chrX']\n",
      "(10000, 10600, '21_Het')\n"
     ]
    }
   ],
   "source": [
    "chromosomes = []\n",
    "for i in range(1, 23):\n",
    "    chromosomes.append('chr' + str(i))\n",
    "chromosomes.append('chrX')\n",
    "print(chromosomes)\n",
    "\n",
    "print(positions[chromosomes[0]][0])"
   ]
  },
  {
   "cell_type": "code",
   "execution_count": 17,
   "metadata": {},
   "outputs": [
    {
     "data": {
      "text/plain": [
       "\"\\n# Checking which Letters are in the Sequences\\nletters = {}\\nfor seq in df['seq'].values:\\n    if len(seq) < 1000:\\n        for letter in seq:\\n            if letter not in letters:\\n                letters[letter] = 1\\nprint(letters)\\n\""
      ]
     },
     "execution_count": 17,
     "metadata": {},
     "output_type": "execute_result"
    }
   ],
   "source": [
    "'''\n",
    "# Checking which Letters are in the Sequences\n",
    "letters = {}\n",
    "for seq in df['seq'].values:\n",
    "    if len(seq) < 1000:\n",
    "        for letter in seq:\n",
    "            if letter not in letters:\n",
    "                letters[letter] = 1\n",
    "print(letters)\n",
    "'''"
   ]
  },
  {
   "cell_type": "code",
   "execution_count": 7,
   "metadata": {},
   "outputs": [],
   "source": [
    "def save_file(name, df):\n",
    "    df.to_csv(name\n",
    "         , sep='|'\n",
    "         , header=True\n",
    "         , index=False\n",
    "         , chunksize=100000\n",
    "         , compression='gzip'\n",
    "         , encoding='utf-8')"
   ]
  },
  {
   "cell_type": "markdown",
   "metadata": {},
   "source": [
    "### Opening the Datafiles \n",
    "###### And making sequences lowercase"
   ]
  },
  {
   "cell_type": "code",
   "execution_count": 49,
   "metadata": {},
   "outputs": [
    {
     "name": "stdout",
     "output_type": "stream",
     "text": [
      "       chrom                                                seq     label\n",
      "0       chr1  Ntaaccctaaccctaaccctaaccctaaccctaaccctaaccctaa...    21_Het\n",
      "1       chr1  tgaggagaacgcaactccgccgttgcaaaggcgcgccgcgccggcg...  25_Quies\n",
      "2       chr1  ATCTTATCTTTATATGATTCCCTTGCTGCCTGGAGATTGACATTTC...  25_Quies\n",
      "3       chr1  ATTAAGTACACATCTTATTTTCCAGTGATAATGCTACCGGCAAATT...  25_Quies\n",
      "4       chr1  GCCTGATTCATGGCTgaaatcacgtttgaccagctatgtgtgtctc...  25_Quies\n",
      "...      ...                                                ...       ...\n",
      "751504  chrX  ATCTCTCTCAAATTGACCTAATTGGTTTCATTCTCAGCAAAATGAC...    21_Het\n",
      "751505  chrX  CCCCTGTTCACCTCAGCCCTGCACCCTTTCACCCTCCTGTAAGCCC...  25_Quies\n",
      "751506  chrX  gtgtgtgtatgtctgtgtgtgtgtgtttatgtgtgtgtgtctgtgt...    21_Het\n",
      "751507  chrX  tttgtgtgtgtgtgtctcgtgtgtgtgtgtctgtgtgtatctgtgt...  25_Quies\n",
      "751508  chrX  ttggggttggggttggggttagggtttgggtttagggttggggtag...    21_Het\n",
      "\n",
      "[751509 rows x 3 columns]\n"
     ]
    }
   ],
   "source": [
    "def get_data():\n",
    "    d = {}\n",
    "    count = 0\n",
    "\n",
    "    for chrom in chromosomes:\n",
    "        records = SeqIO.to_dict(SeqIO.parse(open('../../Data/' + (chrom) + '.fa'), 'fasta'))\n",
    "        long_seq_record = records[chrom]\n",
    "        long_seq = long_seq_record.seq\n",
    "        chrom_seq = str(long_seq)\n",
    "        for (start, stop, label) in positions[chrom]:\n",
    "            d[count] = {\"chrom\": chrom, \"seq\": chrom_seq[start-1:stop], \"label\": label}\n",
    "            count += 1\n",
    "    df = df.from_dict(d, \"index\")\n",
    "    print(df)\n",
    "    return df\n",
    "df = get_data()"
   ]
  },
  {
   "cell_type": "code",
   "execution_count": 51,
   "metadata": {},
   "outputs": [],
   "source": [
    "# Saving the data\n",
    "df.to_csv('output_123.csv.gz'\n",
    "         , sep='|'\n",
    "         , header=True\n",
    "         , index=False\n",
    "         , chunksize=100000\n",
    "         , compression='gzip'\n",
    "         , encoding='utf-8')"
   ]
  },
  {
   "cell_type": "code",
   "execution_count": 112,
   "metadata": {},
   "outputs": [
    {
     "name": "stdout",
     "output_type": "stream",
     "text": [
      "       chrom                                                seq     label\n",
      "0       chr1  ntaaccctaaccctaaccctaaccctaaccctaaccctaaccctaa...    21_Het\n",
      "1       chr1  tgaggagaacgcaactccgccgttgcaaaggcgcgccgcgccggcg...  25_Quies\n",
      "2       chr1  atcttatctttatatgattcccttgctgcctggagattgacatttc...  25_Quies\n",
      "3       chr1  attaagtacacatcttattttccagtgataatgctaccggcaaatt...  25_Quies\n",
      "4       chr1  gcctgattcatggctgaaatcacgtttgaccagctatgtgtgtctc...  25_Quies\n",
      "...      ...                                                ...       ...\n",
      "751504  chrX  ATCTCTCTCAAATTGACCTAATTGGTTTCATTCTCAGCAAAATGAC...    21_Het\n",
      "751505  chrX  CCCCTGTTCACCTCAGCCCTGCACCCTTTCACCCTCCTGTAAGCCC...  25_Quies\n",
      "751506  chrX  gtgtgtgtatgtctgtgtgtgtgtgtttatgtgtgtgtgtctgtgt...    21_Het\n",
      "751507  chrX  tttgtgtgtgtgtgtctcgtgtgtgtgtgtctgtgtgtatctgtgt...  25_Quies\n",
      "751508  chrX  ttggggttggggttggggttagggtttgggtttagggttggggtag...    21_Het\n",
      "\n",
      "[751509 rows x 3 columns]\n",
      "atcttatctttatatgattcccttgctgcctggagattgacatttccttggggataatctggtcataggattggtgaaggtggaagggaggcaacctccaaaggtggggccctctgctcacctgggacagggagggcctgaggtaggtgtctgtgtgggctggggaggaggatgggagcagtgcttctagatgtttccact\n",
      "       chrom                                                seq     label\n",
      "0       chr1  ntaaccctaaccctaaccctaaccctaaccctaaccctaaccctaa...    21_Het\n",
      "1       chr1  tgaggagaacgcaactccgccgttgcaaaggcgcgccgcgccggcg...  25_Quies\n",
      "2       chr1  atcttatctttatatgattcccttgctgcctggagattgacatttc...  25_Quies\n",
      "3       chr1  attaagtacacatcttattttccagtgataatgctaccggcaaatt...  25_Quies\n",
      "4       chr1  gcctgattcatggctgaaatcacgtttgaccagctatgtgtgtctc...  25_Quies\n",
      "...      ...                                                ...       ...\n",
      "751504  chrX  atctctctcaaattgacctaattggtttcattctcagcaaaatgac...    21_Het\n",
      "751505  chrX  cccctgttcacctcagccctgcaccctttcaccctcctgtaagccc...  25_Quies\n",
      "751506  chrX  gtgtgtgtatgtctgtgtgtgtgtgtttatgtgtgtgtgtctgtgt...    21_Het\n",
      "751507  chrX  tttgtgtgtgtgtgtctcgtgtgtgtgtgtctgtgtgtatctgtgt...  25_Quies\n",
      "751508  chrX  ttggggttggggttggggttagggtttgggtttagggttggggtag...    21_Het\n",
      "\n",
      "[751509 rows x 3 columns]\n"
     ]
    }
   ],
   "source": [
    "print(df)\n",
    "def to_lower(df):\n",
    "    \"\"\"\n",
    "    Makes all the sequences in the df lowercase\n",
    "    \n",
    "    @return df with lowercase 'seq' column\n",
    "    \"\"\"\n",
    "    count = 0\n",
    "    for i in range(len(df['seq'].values)):\n",
    "        if i == 2:\n",
    "            print(df['seq'][i])\n",
    "        df['seq'][i] = df['seq'][i].lower()\n",
    "        count += 1\n",
    "    return df\n",
    "df = to_lower(df)\n",
    "print(df)"
   ]
  },
  {
   "cell_type": "code",
   "execution_count": 114,
   "metadata": {},
   "outputs": [],
   "source": [
    "# Save the lower case sequence\n",
    "save_file('genome_lower.csv.gz')"
   ]
  },
  {
   "cell_type": "markdown",
   "metadata": {},
   "source": [
    "### Opening the lower case Seq"
   ]
  },
  {
   "cell_type": "code",
   "execution_count": 6,
   "metadata": {},
   "outputs": [],
   "source": [
    "df = pd.read_csv('../../Data/genome_lower.csv.gz', compression='gzip', sep =\"|\")"
   ]
  },
  {
   "cell_type": "code",
   "execution_count": 7,
   "metadata": {},
   "outputs": [
    {
     "name": "stdout",
     "output_type": "stream",
     "text": [
      "       chrom                                                seq     label\n",
      "0       chr1  ntaaccctaaccctaaccctaaccctaaccctaaccctaaccctaa...    21_Het\n",
      "1       chr1  tgaggagaacgcaactccgccgttgcaaaggcgcgccgcgccggcg...  25_Quies\n",
      "2       chr1  atcttatctttatatgattcccttgctgcctggagattgacatttc...  25_Quies\n",
      "3       chr1  attaagtacacatcttattttccagtgataatgctaccggcaaatt...  25_Quies\n",
      "4       chr1  gcctgattcatggctgaaatcacgtttgaccagctatgtgtgtctc...  25_Quies\n",
      "...      ...                                                ...       ...\n",
      "751504  chrX  atctctctcaaattgacctaattggtttcattctcagcaaaatgac...    21_Het\n",
      "751505  chrX  cccctgttcacctcagccctgcaccctttcaccctcctgtaagccc...  25_Quies\n",
      "751506  chrX  gtgtgtgtatgtctgtgtgtgtgtgtttatgtgtgtgtgtctgtgt...    21_Het\n",
      "751507  chrX  tttgtgtgtgtgtgtctcgtgtgtgtgtgtctgtgtgtatctgtgt...  25_Quies\n",
      "751508  chrX  ttggggttggggttggggttagggtttgggtttagggttggggtag...    21_Het\n",
      "\n",
      "[751509 rows x 3 columns]\n"
     ]
    }
   ],
   "source": [
    "print(df)"
   ]
  },
  {
   "cell_type": "markdown",
   "metadata": {},
   "source": [
    "### Changing Labels to Numbers"
   ]
  },
  {
   "cell_type": "code",
   "execution_count": 8,
   "metadata": {},
   "outputs": [
    {
     "name": "stdout",
     "output_type": "stream",
     "text": [
      "25\n",
      "[21, 25, 25, 25, 25, 19, 25, 25, 25, 19]\n"
     ]
    }
   ],
   "source": [
    "labels_25 = {'1_TssA': 1, '2_PromU': 2, '3_PromD1':3, '4_PromD2':4, \"5_Tx5'\":5, '6_Tx':6, \\\n",
    "          \"7_Tx3'\":7, '8_TxWk':8, '9_TxReg':9, \"10_TxEnh5'\":10, \"11_TxEnh3'\":11, '12_TxEnhW':12, \\\n",
    "          '13_EnhA1':13, '14_EnhA2':14, '15_EnhAF':15, '16_EnhW1':16, '17_EnhW2':17, '18_EnhAc':18,\\\n",
    "          '19_DNase':19, '20_ZNF/Rpts':20, '21_Het':21, '22_PromP':22, '23_PromBiv':23, \\\n",
    "          '24_ReprPC':24, '25_Quies':25}\n",
    "print(len(labels_25))\n",
    "from sklearn import preprocessing\n",
    "labels = df['label'].values.tolist()\n",
    "for i, label in enumerate(labels):\n",
    "    labels[i] = labels_25[label]\n",
    "print(labels[0:10])"
   ]
  },
  {
   "cell_type": "code",
   "execution_count": 9,
   "metadata": {},
   "outputs": [
    {
     "name": "stdout",
     "output_type": "stream",
     "text": [
      "       chrom                                                seq     label\n",
      "0       chr1  ntaaccctaaccctaaccctaaccctaaccctaaccctaaccctaa...    21_Het\n",
      "1       chr1  tgaggagaacgcaactccgccgttgcaaaggcgcgccgcgccggcg...  25_Quies\n",
      "2       chr1  atcttatctttatatgattcccttgctgcctggagattgacatttc...  25_Quies\n",
      "3       chr1  attaagtacacatcttattttccagtgataatgctaccggcaaatt...  25_Quies\n",
      "4       chr1  gcctgattcatggctgaaatcacgtttgaccagctatgtgtgtctc...  25_Quies\n",
      "...      ...                                                ...       ...\n",
      "751504  chrX  atctctctcaaattgacctaattggtttcattctcagcaaaatgac...    21_Het\n",
      "751505  chrX  cccctgttcacctcagccctgcaccctttcaccctcctgtaagccc...  25_Quies\n",
      "751506  chrX  gtgtgtgtatgtctgtgtgtgtgtgtttatgtgtgtgtgtctgtgt...    21_Het\n",
      "751507  chrX  tttgtgtgtgtgtgtctcgtgtgtgtgtgtctgtgtgtatctgtgt...  25_Quies\n",
      "751508  chrX  ttggggttggggttggggttagggtttgggtttagggttggggtag...    21_Het\n",
      "\n",
      "[751509 rows x 3 columns]\n",
      "       chrom                                                seq  labels\n",
      "0       chr1  ntaaccctaaccctaaccctaaccctaaccctaaccctaaccctaa...      21\n",
      "1       chr1  tgaggagaacgcaactccgccgttgcaaaggcgcgccgcgccggcg...      25\n",
      "2       chr1  atcttatctttatatgattcccttgctgcctggagattgacatttc...      25\n",
      "3       chr1  attaagtacacatcttattttccagtgataatgctaccggcaaatt...      25\n",
      "4       chr1  gcctgattcatggctgaaatcacgtttgaccagctatgtgtgtctc...      25\n",
      "...      ...                                                ...     ...\n",
      "751504  chrX  atctctctcaaattgacctaattggtttcattctcagcaaaatgac...      21\n",
      "751505  chrX  cccctgttcacctcagccctgcaccctttcaccctcctgtaagccc...      25\n",
      "751506  chrX  gtgtgtgtatgtctgtgtgtgtgtgtttatgtgtgtgtgtctgtgt...      21\n",
      "751507  chrX  tttgtgtgtgtgtgtctcgtgtgtgtgtgtctgtgtgtatctgtgt...      25\n",
      "751508  chrX  ttggggttggggttggggttagggtttgggtttagggttggggtag...      21\n",
      "\n",
      "[751509 rows x 3 columns]\n"
     ]
    }
   ],
   "source": [
    "df_data = df.copy(deep=True)\n",
    "print(df_data)\n",
    "df_data.insert(loc=3, column='labels', value=labels)\n",
    "df_data = df_data.drop(columns=['label'])\n",
    "print(df_data)"
   ]
  },
  {
   "cell_type": "code",
   "execution_count": 16,
   "metadata": {},
   "outputs": [
    {
     "name": "stdout",
     "output_type": "stream",
     "text": [
      "        chrom                                                seq  labels\n",
      "223535   chr5  caggcctctgtgcattcttaggagtgcagactccatggcccagact...      13\n",
      "232543   chr5  tccattgtttaaagcaaacatttcctctgactactcaatagtaaag...      13\n",
      "174384   chr4  agcaccctacggcattcatgccatcatctaaacttcctgtgccgct...      13\n",
      "504771  chr12  ggcttccagctgagcctgcatttttctttgacttccccctcttgcc...      13\n",
      "369065   chr9  ctgtctcaaaaagaaaagagaaaaagaaaaaagcatgttccaggca...      13\n",
      "...       ...                                                ...     ...\n",
      "655288  chr19  gtggcctgggagcaccttcctgagacccctctgcccctcccaacgc...      13\n",
      "243566   chr5  tgagattacccaggatttctcaaccagagatttctcttaccctcta...      13\n",
      "358021   chr8  cttgcttacccttcagggatgctgtaagagccaattaaccatgggt...      13\n",
      "181144   chr4  tactgtctatctcattaaatctccacaggtcctcactaacgctgtc...      13\n",
      "717210  chr22  gacctggctgagctagtttatctcaaaaccagcacatgacttctag...      13\n",
      "\n",
      "[7537 rows x 3 columns]\n"
     ]
    },
    {
     "data": {
      "text/html": [
       "<div>\n",
       "<style scoped>\n",
       "    .dataframe tbody tr th:only-of-type {\n",
       "        vertical-align: middle;\n",
       "    }\n",
       "\n",
       "    .dataframe tbody tr th {\n",
       "        vertical-align: top;\n",
       "    }\n",
       "\n",
       "    .dataframe thead th {\n",
       "        text-align: right;\n",
       "    }\n",
       "</style>\n",
       "<table border=\"1\" class=\"dataframe\">\n",
       "  <thead>\n",
       "    <tr style=\"text-align: right;\">\n",
       "      <th></th>\n",
       "      <th>chrom</th>\n",
       "      <th>seq</th>\n",
       "      <th>labels</th>\n",
       "    </tr>\n",
       "  </thead>\n",
       "  <tbody>\n",
       "    <tr>\n",
       "      <th>223535</th>\n",
       "      <td>chr5</td>\n",
       "      <td>caggcctctgtgcattcttaggagtgcagactccatggcccagact...</td>\n",
       "      <td>13</td>\n",
       "    </tr>\n",
       "    <tr>\n",
       "      <th>232543</th>\n",
       "      <td>chr5</td>\n",
       "      <td>tccattgtttaaagcaaacatttcctctgactactcaatagtaaag...</td>\n",
       "      <td>13</td>\n",
       "    </tr>\n",
       "    <tr>\n",
       "      <th>174384</th>\n",
       "      <td>chr4</td>\n",
       "      <td>agcaccctacggcattcatgccatcatctaaacttcctgtgccgct...</td>\n",
       "      <td>13</td>\n",
       "    </tr>\n",
       "    <tr>\n",
       "      <th>504771</th>\n",
       "      <td>chr12</td>\n",
       "      <td>ggcttccagctgagcctgcatttttctttgacttccccctcttgcc...</td>\n",
       "      <td>13</td>\n",
       "    </tr>\n",
       "    <tr>\n",
       "      <th>369065</th>\n",
       "      <td>chr9</td>\n",
       "      <td>ctgtctcaaaaagaaaagagaaaaagaaaaaagcatgttccaggca...</td>\n",
       "      <td>13</td>\n",
       "    </tr>\n",
       "    <tr>\n",
       "      <th>...</th>\n",
       "      <td>...</td>\n",
       "      <td>...</td>\n",
       "      <td>...</td>\n",
       "    </tr>\n",
       "    <tr>\n",
       "      <th>381562</th>\n",
       "      <td>chr9</td>\n",
       "      <td>aaattgtggagaagtgacaagacaaggaaaatgtgtttgagcttct...</td>\n",
       "      <td>13</td>\n",
       "    </tr>\n",
       "    <tr>\n",
       "      <th>257273</th>\n",
       "      <td>chr6</td>\n",
       "      <td>ggctaggggaggtacccaaatgccattaggatgttgatcccagcca...</td>\n",
       "      <td>13</td>\n",
       "    </tr>\n",
       "    <tr>\n",
       "      <th>404561</th>\n",
       "      <td>chr10</td>\n",
       "      <td>cagtttccccattttccaaccctatggttttcttattctacgtggc...</td>\n",
       "      <td>13</td>\n",
       "    </tr>\n",
       "    <tr>\n",
       "      <th>684084</th>\n",
       "      <td>chr20</td>\n",
       "      <td>ggtccctgctcatttgcatattttcttaccacaccagcatgtgagt...</td>\n",
       "      <td>13</td>\n",
       "    </tr>\n",
       "    <tr>\n",
       "      <th>602182</th>\n",
       "      <td>chr16</td>\n",
       "      <td>taacgctgaattataactgtatttgtacccagaacctggcatgcaa...</td>\n",
       "      <td>13</td>\n",
       "    </tr>\n",
       "  </tbody>\n",
       "</table>\n",
       "<p>1000 rows × 3 columns</p>\n",
       "</div>"
      ],
      "text/plain": [
       "        chrom                                                seq  labels\n",
       "223535   chr5  caggcctctgtgcattcttaggagtgcagactccatggcccagact...      13\n",
       "232543   chr5  tccattgtttaaagcaaacatttcctctgactactcaatagtaaag...      13\n",
       "174384   chr4  agcaccctacggcattcatgccatcatctaaacttcctgtgccgct...      13\n",
       "504771  chr12  ggcttccagctgagcctgcatttttctttgacttccccctcttgcc...      13\n",
       "369065   chr9  ctgtctcaaaaagaaaagagaaaaagaaaaaagcatgttccaggca...      13\n",
       "...       ...                                                ...     ...\n",
       "381562   chr9  aaattgtggagaagtgacaagacaaggaaaatgtgtttgagcttct...      13\n",
       "257273   chr6  ggctaggggaggtacccaaatgccattaggatgttgatcccagcca...      13\n",
       "404561  chr10  cagtttccccattttccaaccctatggttttcttattctacgtggc...      13\n",
       "684084  chr20  ggtccctgctcatttgcatattttcttaccacaccagcatgtgagt...      13\n",
       "602182  chr16  taacgctgaattataactgtatttgtacccagaacctggcatgcaa...      13\n",
       "\n",
       "[1000 rows x 3 columns]"
      ]
     },
     "execution_count": 16,
     "metadata": {},
     "output_type": "execute_result"
    }
   ],
   "source": [
    "### This is just for making the df smaller for testing it out\n",
    "\n",
    "df_1 = df_data.loc[df_data['labels'] == 13]\n",
    "for i in range(100):\n",
    "    df_1 = df_1.sample(frac = 1)\n",
    "print(df_1)\n",
    "df_1 = df_1.head(1000)\n",
    "df_1"
   ]
  },
  {
   "cell_type": "code",
   "execution_count": 17,
   "metadata": {},
   "outputs": [
    {
     "data": {
      "text/html": [
       "<div>\n",
       "<style scoped>\n",
       "    .dataframe tbody tr th:only-of-type {\n",
       "        vertical-align: middle;\n",
       "    }\n",
       "\n",
       "    .dataframe tbody tr th {\n",
       "        vertical-align: top;\n",
       "    }\n",
       "\n",
       "    .dataframe thead th {\n",
       "        text-align: right;\n",
       "    }\n",
       "</style>\n",
       "<table border=\"1\" class=\"dataframe\">\n",
       "  <thead>\n",
       "    <tr style=\"text-align: right;\">\n",
       "      <th></th>\n",
       "      <th>chrom</th>\n",
       "      <th>seq</th>\n",
       "      <th>labels</th>\n",
       "    </tr>\n",
       "  </thead>\n",
       "  <tbody>\n",
       "    <tr>\n",
       "      <th>117820</th>\n",
       "      <td>chr2</td>\n",
       "      <td>cccttgcccccacaggcttgaaagtgcctgatcccgctccctggcc...</td>\n",
       "      <td>21</td>\n",
       "    </tr>\n",
       "    <tr>\n",
       "      <th>340464</th>\n",
       "      <td>chr8</td>\n",
       "      <td>ttgataaaatttaaactgaaaaatgcagtattgggggataatctaa...</td>\n",
       "      <td>25</td>\n",
       "    </tr>\n",
       "    <tr>\n",
       "      <th>484365</th>\n",
       "      <td>chr12</td>\n",
       "      <td>ttcccaaggagttctaggagttcctcagaggagcttcaggctgttg...</td>\n",
       "      <td>25</td>\n",
       "    </tr>\n",
       "    <tr>\n",
       "      <th>34105</th>\n",
       "      <td>chr1</td>\n",
       "      <td>caggcaaagaagcatttgtaactaagtcaacaactacctattgact...</td>\n",
       "      <td>25</td>\n",
       "    </tr>\n",
       "    <tr>\n",
       "      <th>355538</th>\n",
       "      <td>chr8</td>\n",
       "      <td>gaaaagagggtaaaagagcctttttactcagtggtcttcaagtttt...</td>\n",
       "      <td>10</td>\n",
       "    </tr>\n",
       "    <tr>\n",
       "      <th>...</th>\n",
       "      <td>...</td>\n",
       "      <td>...</td>\n",
       "      <td>...</td>\n",
       "    </tr>\n",
       "    <tr>\n",
       "      <th>233085</th>\n",
       "      <td>chr5</td>\n",
       "      <td>tttaagtacatgcattctaaggttcctattggctctaaaacctctc...</td>\n",
       "      <td>25</td>\n",
       "    </tr>\n",
       "    <tr>\n",
       "      <th>730239</th>\n",
       "      <td>chrX</td>\n",
       "      <td>ctgtattaacccactcccaatccagatggtggtggggtttgctatt...</td>\n",
       "      <td>17</td>\n",
       "    </tr>\n",
       "    <tr>\n",
       "      <th>750646</th>\n",
       "      <td>chrX</td>\n",
       "      <td>tctgtgggggccagcggcttaggctcccatgtgtgtcccagggcga...</td>\n",
       "      <td>21</td>\n",
       "    </tr>\n",
       "    <tr>\n",
       "      <th>605943</th>\n",
       "      <td>chr17</td>\n",
       "      <td>cctggattccaccaggggcatcttagtccccagcggggcatttaaa...</td>\n",
       "      <td>22</td>\n",
       "    </tr>\n",
       "    <tr>\n",
       "      <th>714890</th>\n",
       "      <td>chr22</td>\n",
       "      <td>ttaaaatggtgaattttatgttacatacattttaatgtacatgtta...</td>\n",
       "      <td>7</td>\n",
       "    </tr>\n",
       "  </tbody>\n",
       "</table>\n",
       "<p>1000 rows × 3 columns</p>\n",
       "</div>"
      ],
      "text/plain": [
       "        chrom                                                seq  labels\n",
       "117820   chr2  cccttgcccccacaggcttgaaagtgcctgatcccgctccctggcc...      21\n",
       "340464   chr8  ttgataaaatttaaactgaaaaatgcagtattgggggataatctaa...      25\n",
       "484365  chr12  ttcccaaggagttctaggagttcctcagaggagcttcaggctgttg...      25\n",
       "34105    chr1  caggcaaagaagcatttgtaactaagtcaacaactacctattgact...      25\n",
       "355538   chr8  gaaaagagggtaaaagagcctttttactcagtggtcttcaagtttt...      10\n",
       "...       ...                                                ...     ...\n",
       "233085   chr5  tttaagtacatgcattctaaggttcctattggctctaaaacctctc...      25\n",
       "730239   chrX  ctgtattaacccactcccaatccagatggtggtggggtttgctatt...      17\n",
       "750646   chrX  tctgtgggggccagcggcttaggctcccatgtgtgtcccagggcga...      21\n",
       "605943  chr17  cctggattccaccaggggcatcttagtccccagcggggcatttaaa...      22\n",
       "714890  chr22  ttaaaatggtgaattttatgttacatacattttaatgtacatgtta...       7\n",
       "\n",
       "[1000 rows x 3 columns]"
      ]
     },
     "execution_count": 17,
     "metadata": {},
     "output_type": "execute_result"
    }
   ],
   "source": [
    "df_0 = df_data.loc[df_data['labels'] != 13]\n",
    "for i in range(100):\n",
    "    df_0 = df_0.sample(frac = 1)\n",
    "df_0 = df_0.head(1000)\n",
    "df_0"
   ]
  },
  {
   "cell_type": "markdown",
   "metadata": {},
   "source": [
    "### Split DNA sequences into size of choice"
   ]
  },
  {
   "cell_type": "code",
   "execution_count": 18,
   "metadata": {},
   "outputs": [],
   "source": [
    "def split_dna(seq, maxlen):\n",
    "    \"\"\"\n",
    "    @ param seq: string of a sequence\n",
    "    @ param maxlen: int for max length of sequence\n",
    "    \n",
    "    Note a sequences is of lowercase a,t,c,g,n \n",
    "    I wrote\n",
    "    @ return seqs: array of sequences of seq broken down into maxlen sizes\n",
    "    and padded with N's\n",
    "    \"\"\"\n",
    "    seqs = []\n",
    "    while len(seq) > 0:\n",
    "        if len(seq) >= maxlen:\n",
    "            seqs.append(seq[0:maxlen])\n",
    "            seq = seq[maxlen:]\n",
    "        else:\n",
    "            seqs.append(seq + 'n' * (maxlen - len(seq)))\n",
    "            seq = ''\n",
    "    return seqs"
   ]
  },
  {
   "cell_type": "code",
   "execution_count": 19,
   "metadata": {},
   "outputs": [],
   "source": [
    "def get_reverse(seq):\n",
    "    '''\n",
    "    @return the reverse of the given string\n",
    "    '''\n",
    "    return seq[::-1]"
   ]
  },
  {
   "cell_type": "code",
   "execution_count": 20,
   "metadata": {},
   "outputs": [],
   "source": [
    "def split_seq_df(df_data, size):\n",
    "    '''\n",
    "    \n",
    "    @df with seq split to a chosen size and reveresed sequences\n",
    "    '''\n",
    "    d = {}\n",
    "    count = 0\n",
    "    for chrom, seq, label in zip(df_data['chrom'], df_data['seq'], df_data['labels']):\n",
    "        for seq_split in split_dna(seq, size):\n",
    "            if \"n\" not in seq_split:\n",
    "                d[count] = {\"chrom\": chrom, \"seq\": seq_split, \"label\": label}\n",
    "                count += 1\n",
    "                # TODO: Add this once everything works\n",
    "                #d[count] = {\"chrom\": chrom, \"seq\": get_reverse(seq_split), \"label\": label}\n",
    "                #count += 1\n",
    "    df = pd.DataFrame.from_dict(d, \"index\")\n",
    "    return df"
   ]
  },
  {
   "cell_type": "code",
   "execution_count": 21,
   "metadata": {},
   "outputs": [],
   "source": [
    "df_1 = split_seq_df(df_1, 200)"
   ]
  },
  {
   "cell_type": "code",
   "execution_count": 22,
   "metadata": {},
   "outputs": [],
   "source": [
    "df_0 = split_seq_df(df_0, 200)"
   ]
  },
  {
   "cell_type": "code",
   "execution_count": 23,
   "metadata": {},
   "outputs": [
    {
     "data": {
      "text/html": [
       "<div>\n",
       "<style scoped>\n",
       "    .dataframe tbody tr th:only-of-type {\n",
       "        vertical-align: middle;\n",
       "    }\n",
       "\n",
       "    .dataframe tbody tr th {\n",
       "        vertical-align: top;\n",
       "    }\n",
       "\n",
       "    .dataframe thead th {\n",
       "        text-align: right;\n",
       "    }\n",
       "</style>\n",
       "<table border=\"1\" class=\"dataframe\">\n",
       "  <thead>\n",
       "    <tr style=\"text-align: right;\">\n",
       "      <th></th>\n",
       "      <th>chrom</th>\n",
       "      <th>seq</th>\n",
       "      <th>label</th>\n",
       "    </tr>\n",
       "  </thead>\n",
       "  <tbody>\n",
       "    <tr>\n",
       "      <th>0</th>\n",
       "      <td>chr5</td>\n",
       "      <td>caggcctctgtgcattcttaggagtgcagactccatggcccagact...</td>\n",
       "      <td>13</td>\n",
       "    </tr>\n",
       "    <tr>\n",
       "      <th>1</th>\n",
       "      <td>chr5</td>\n",
       "      <td>tccattgtttaaagcaaacatttcctctgactactcaatagtaaag...</td>\n",
       "      <td>13</td>\n",
       "    </tr>\n",
       "    <tr>\n",
       "      <th>2</th>\n",
       "      <td>chr5</td>\n",
       "      <td>acaacagaaatgagactctgcagcaaggctctggggatgcagatgg...</td>\n",
       "      <td>13</td>\n",
       "    </tr>\n",
       "    <tr>\n",
       "      <th>3</th>\n",
       "      <td>chr5</td>\n",
       "      <td>agttacaagtatttcaataacgtgcttagagaccagctcttttctg...</td>\n",
       "      <td>13</td>\n",
       "    </tr>\n",
       "    <tr>\n",
       "      <th>4</th>\n",
       "      <td>chr5</td>\n",
       "      <td>ctgctttactgtctatttctatatactctgtgtgtaaatacgtgtg...</td>\n",
       "      <td>13</td>\n",
       "    </tr>\n",
       "    <tr>\n",
       "      <th>...</th>\n",
       "      <td>...</td>\n",
       "      <td>...</td>\n",
       "      <td>...</td>\n",
       "    </tr>\n",
       "    <tr>\n",
       "      <th>2567</th>\n",
       "      <td>chr6</td>\n",
       "      <td>ggggtggcatattttagtctcccacaagagccactccaaactaaga...</td>\n",
       "      <td>13</td>\n",
       "    </tr>\n",
       "    <tr>\n",
       "      <th>2568</th>\n",
       "      <td>chr6</td>\n",
       "      <td>aaagatatttctttgccctattttgaaatggctgcctcagggcccg...</td>\n",
       "      <td>13</td>\n",
       "    </tr>\n",
       "    <tr>\n",
       "      <th>2569</th>\n",
       "      <td>chr10</td>\n",
       "      <td>cagtttccccattttccaaccctatggttttcttattctacgtggc...</td>\n",
       "      <td>13</td>\n",
       "    </tr>\n",
       "    <tr>\n",
       "      <th>2570</th>\n",
       "      <td>chr20</td>\n",
       "      <td>ggtccctgctcatttgcatattttcttaccacaccagcatgtgagt...</td>\n",
       "      <td>13</td>\n",
       "    </tr>\n",
       "    <tr>\n",
       "      <th>2571</th>\n",
       "      <td>chr16</td>\n",
       "      <td>taacgctgaattataactgtatttgtacccagaacctggcatgcaa...</td>\n",
       "      <td>13</td>\n",
       "    </tr>\n",
       "  </tbody>\n",
       "</table>\n",
       "<p>2572 rows × 3 columns</p>\n",
       "</div>"
      ],
      "text/plain": [
       "      chrom                                                seq  label\n",
       "0      chr5  caggcctctgtgcattcttaggagtgcagactccatggcccagact...     13\n",
       "1      chr5  tccattgtttaaagcaaacatttcctctgactactcaatagtaaag...     13\n",
       "2      chr5  acaacagaaatgagactctgcagcaaggctctggggatgcagatgg...     13\n",
       "3      chr5  agttacaagtatttcaataacgtgcttagagaccagctcttttctg...     13\n",
       "4      chr5  ctgctttactgtctatttctatatactctgtgtgtaaatacgtgtg...     13\n",
       "...     ...                                                ...    ...\n",
       "2567   chr6  ggggtggcatattttagtctcccacaagagccactccaaactaaga...     13\n",
       "2568   chr6  aaagatatttctttgccctattttgaaatggctgcctcagggcccg...     13\n",
       "2569  chr10  cagtttccccattttccaaccctatggttttcttattctacgtggc...     13\n",
       "2570  chr20  ggtccctgctcatttgcatattttcttaccacaccagcatgtgagt...     13\n",
       "2571  chr16  taacgctgaattataactgtatttgtacccagaacctggcatgcaa...     13\n",
       "\n",
       "[2572 rows x 3 columns]"
      ]
     },
     "execution_count": 23,
     "metadata": {},
     "output_type": "execute_result"
    }
   ],
   "source": [
    "df_1"
   ]
  },
  {
   "cell_type": "code",
   "execution_count": 25,
   "metadata": {},
   "outputs": [
    {
     "data": {
      "text/html": [
       "<div>\n",
       "<style scoped>\n",
       "    .dataframe tbody tr th:only-of-type {\n",
       "        vertical-align: middle;\n",
       "    }\n",
       "\n",
       "    .dataframe tbody tr th {\n",
       "        vertical-align: top;\n",
       "    }\n",
       "\n",
       "    .dataframe thead th {\n",
       "        text-align: right;\n",
       "    }\n",
       "</style>\n",
       "<table border=\"1\" class=\"dataframe\">\n",
       "  <thead>\n",
       "    <tr style=\"text-align: right;\">\n",
       "      <th></th>\n",
       "      <th>chrom</th>\n",
       "      <th>seq</th>\n",
       "      <th>label</th>\n",
       "    </tr>\n",
       "  </thead>\n",
       "  <tbody>\n",
       "    <tr>\n",
       "      <th>0</th>\n",
       "      <td>chr2</td>\n",
       "      <td>cccttgcccccacaggcttgaaagtgcctgatcccgctccctggcc...</td>\n",
       "      <td>21</td>\n",
       "    </tr>\n",
       "    <tr>\n",
       "      <th>1</th>\n",
       "      <td>chr2</td>\n",
       "      <td>gcacaggagggagcccaaatggggactgagagtggctcagggcatg...</td>\n",
       "      <td>21</td>\n",
       "    </tr>\n",
       "    <tr>\n",
       "      <th>2</th>\n",
       "      <td>chr2</td>\n",
       "      <td>ggctggaagtgaaaacttacggtgctatttttgggcccacccatgg...</td>\n",
       "      <td>21</td>\n",
       "    </tr>\n",
       "    <tr>\n",
       "      <th>3</th>\n",
       "      <td>chr2</td>\n",
       "      <td>ccactgtgggtgtcctctctgctgagaactggacactcattgggat...</td>\n",
       "      <td>21</td>\n",
       "    </tr>\n",
       "    <tr>\n",
       "      <th>4</th>\n",
       "      <td>chr2</td>\n",
       "      <td>ggactgaaagagctgtaatgcaaacagggctgaaacatgccccttg...</td>\n",
       "      <td>21</td>\n",
       "    </tr>\n",
       "    <tr>\n",
       "      <th>...</th>\n",
       "      <td>...</td>\n",
       "      <td>...</td>\n",
       "      <td>...</td>\n",
       "    </tr>\n",
       "    <tr>\n",
       "      <th>2567</th>\n",
       "      <td>chr5</td>\n",
       "      <td>tttcgatatttctgcagctgttgtaacagtttcccatgagtggggg...</td>\n",
       "      <td>25</td>\n",
       "    </tr>\n",
       "    <tr>\n",
       "      <th>2568</th>\n",
       "      <td>chr5</td>\n",
       "      <td>taattaaataaattctgaaggctctctgtattcaagtctaaaaatt...</td>\n",
       "      <td>25</td>\n",
       "    </tr>\n",
       "    <tr>\n",
       "      <th>2569</th>\n",
       "      <td>chr5</td>\n",
       "      <td>aataataaaatgccagcagtaggagtccctacgtaaataaatctgc...</td>\n",
       "      <td>25</td>\n",
       "    </tr>\n",
       "    <tr>\n",
       "      <th>2570</th>\n",
       "      <td>chr5</td>\n",
       "      <td>atctctctctccctcctgccctccccagtccttgccaacttcttat...</td>\n",
       "      <td>25</td>\n",
       "    </tr>\n",
       "    <tr>\n",
       "      <th>2571</th>\n",
       "      <td>chr5</td>\n",
       "      <td>caaagggttcattggatgtacacaattatcaaaagcactggcccca...</td>\n",
       "      <td>25</td>\n",
       "    </tr>\n",
       "  </tbody>\n",
       "</table>\n",
       "<p>2572 rows × 3 columns</p>\n",
       "</div>"
      ],
      "text/plain": [
       "     chrom                                                seq  label\n",
       "0     chr2  cccttgcccccacaggcttgaaagtgcctgatcccgctccctggcc...     21\n",
       "1     chr2  gcacaggagggagcccaaatggggactgagagtggctcagggcatg...     21\n",
       "2     chr2  ggctggaagtgaaaacttacggtgctatttttgggcccacccatgg...     21\n",
       "3     chr2  ccactgtgggtgtcctctctgctgagaactggacactcattgggat...     21\n",
       "4     chr2  ggactgaaagagctgtaatgcaaacagggctgaaacatgccccttg...     21\n",
       "...    ...                                                ...    ...\n",
       "2567  chr5  tttcgatatttctgcagctgttgtaacagtttcccatgagtggggg...     25\n",
       "2568  chr5  taattaaataaattctgaaggctctctgtattcaagtctaaaaatt...     25\n",
       "2569  chr5  aataataaaatgccagcagtaggagtccctacgtaaataaatctgc...     25\n",
       "2570  chr5  atctctctctccctcctgccctccccagtccttgccaacttcttat...     25\n",
       "2571  chr5  caaagggttcattggatgtacacaattatcaaaagcactggcccca...     25\n",
       "\n",
       "[2572 rows x 3 columns]"
      ]
     },
     "execution_count": 25,
     "metadata": {},
     "output_type": "execute_result"
    }
   ],
   "source": [
    "df_0 = df_0.head(2572)\n",
    "df_0"
   ]
  },
  {
   "cell_type": "code",
   "execution_count": 28,
   "metadata": {},
   "outputs": [],
   "source": [
    "save_file('../../Data/genome_split_200_2572samples_class1.csv.gz', df_1)"
   ]
  },
  {
   "cell_type": "code",
   "execution_count": 29,
   "metadata": {},
   "outputs": [],
   "source": [
    "save_file('../../Data/genome_split_200_2572samples_class0.csv.gz', df_0)"
   ]
  },
  {
   "cell_type": "code",
   "execution_count": 8,
   "metadata": {},
   "outputs": [],
   "source": [
    "df_1 = pd.read_csv('../../Data/genome_split_200_2572samples_class1.csv.gz', compression='gzip', sep =\"|\")"
   ]
  },
  {
   "cell_type": "code",
   "execution_count": 9,
   "metadata": {},
   "outputs": [],
   "source": [
    "df_0 = pd.read_csv('../../Data/genome_split_200_2572samples_class0.csv.gz', compression='gzip', sep =\"|\")"
   ]
  },
  {
   "cell_type": "markdown",
   "metadata": {},
   "source": [
    "### Where I can start from 4_18_2021 ^^^"
   ]
  },
  {
   "cell_type": "markdown",
   "metadata": {},
   "source": [
    "### Onehot encode the sequences "
   ]
  },
  {
   "cell_type": "code",
   "execution_count": 10,
   "metadata": {},
   "outputs": [],
   "source": [
    "def str_to_list(x):\n",
    "  return list(x)"
   ]
  },
  {
   "cell_type": "code",
   "execution_count": 11,
   "metadata": {},
   "outputs": [
    {
     "data": {
      "text/html": [
       "<div>\n",
       "<style scoped>\n",
       "    .dataframe tbody tr th:only-of-type {\n",
       "        vertical-align: middle;\n",
       "    }\n",
       "\n",
       "    .dataframe tbody tr th {\n",
       "        vertical-align: top;\n",
       "    }\n",
       "\n",
       "    .dataframe thead th {\n",
       "        text-align: right;\n",
       "    }\n",
       "</style>\n",
       "<table border=\"1\" class=\"dataframe\">\n",
       "  <thead>\n",
       "    <tr style=\"text-align: right;\">\n",
       "      <th></th>\n",
       "      <th>chrom</th>\n",
       "      <th>seq</th>\n",
       "      <th>label</th>\n",
       "    </tr>\n",
       "  </thead>\n",
       "  <tbody>\n",
       "    <tr>\n",
       "      <th>0</th>\n",
       "      <td>chr2</td>\n",
       "      <td>[c, c, c, t, t, g, c, c, c, c, c, a, c, a, g, ...</td>\n",
       "      <td>21</td>\n",
       "    </tr>\n",
       "    <tr>\n",
       "      <th>1</th>\n",
       "      <td>chr2</td>\n",
       "      <td>[g, c, a, c, a, g, g, a, g, g, g, a, g, c, c, ...</td>\n",
       "      <td>21</td>\n",
       "    </tr>\n",
       "    <tr>\n",
       "      <th>2</th>\n",
       "      <td>chr2</td>\n",
       "      <td>[g, g, c, t, g, g, a, a, g, t, g, a, a, a, a, ...</td>\n",
       "      <td>21</td>\n",
       "    </tr>\n",
       "    <tr>\n",
       "      <th>3</th>\n",
       "      <td>chr2</td>\n",
       "      <td>[c, c, a, c, t, g, t, g, g, g, t, g, t, c, c, ...</td>\n",
       "      <td>21</td>\n",
       "    </tr>\n",
       "    <tr>\n",
       "      <th>4</th>\n",
       "      <td>chr2</td>\n",
       "      <td>[g, g, a, c, t, g, a, a, a, g, a, g, c, t, g, ...</td>\n",
       "      <td>21</td>\n",
       "    </tr>\n",
       "    <tr>\n",
       "      <th>...</th>\n",
       "      <td>...</td>\n",
       "      <td>...</td>\n",
       "      <td>...</td>\n",
       "    </tr>\n",
       "    <tr>\n",
       "      <th>2567</th>\n",
       "      <td>chr5</td>\n",
       "      <td>[t, t, t, c, g, a, t, a, t, t, t, c, t, g, c, ...</td>\n",
       "      <td>25</td>\n",
       "    </tr>\n",
       "    <tr>\n",
       "      <th>2568</th>\n",
       "      <td>chr5</td>\n",
       "      <td>[t, a, a, t, t, a, a, a, t, a, a, a, t, t, c, ...</td>\n",
       "      <td>25</td>\n",
       "    </tr>\n",
       "    <tr>\n",
       "      <th>2569</th>\n",
       "      <td>chr5</td>\n",
       "      <td>[a, a, t, a, a, t, a, a, a, a, t, g, c, c, a, ...</td>\n",
       "      <td>25</td>\n",
       "    </tr>\n",
       "    <tr>\n",
       "      <th>2570</th>\n",
       "      <td>chr5</td>\n",
       "      <td>[a, t, c, t, c, t, c, t, c, t, c, c, c, t, c, ...</td>\n",
       "      <td>25</td>\n",
       "    </tr>\n",
       "    <tr>\n",
       "      <th>2571</th>\n",
       "      <td>chr5</td>\n",
       "      <td>[c, a, a, a, g, g, g, t, t, c, a, t, t, g, g, ...</td>\n",
       "      <td>25</td>\n",
       "    </tr>\n",
       "  </tbody>\n",
       "</table>\n",
       "<p>2572 rows × 3 columns</p>\n",
       "</div>"
      ],
      "text/plain": [
       "     chrom                                                seq  label\n",
       "0     chr2  [c, c, c, t, t, g, c, c, c, c, c, a, c, a, g, ...     21\n",
       "1     chr2  [g, c, a, c, a, g, g, a, g, g, g, a, g, c, c, ...     21\n",
       "2     chr2  [g, g, c, t, g, g, a, a, g, t, g, a, a, a, a, ...     21\n",
       "3     chr2  [c, c, a, c, t, g, t, g, g, g, t, g, t, c, c, ...     21\n",
       "4     chr2  [g, g, a, c, t, g, a, a, a, g, a, g, c, t, g, ...     21\n",
       "...    ...                                                ...    ...\n",
       "2567  chr5  [t, t, t, c, g, a, t, a, t, t, t, c, t, g, c, ...     25\n",
       "2568  chr5  [t, a, a, t, t, a, a, a, t, a, a, a, t, t, c, ...     25\n",
       "2569  chr5  [a, a, t, a, a, t, a, a, a, a, t, g, c, c, a, ...     25\n",
       "2570  chr5  [a, t, c, t, c, t, c, t, c, t, c, c, c, t, c, ...     25\n",
       "2571  chr5  [c, a, a, a, g, g, g, t, t, c, a, t, t, g, g, ...     25\n",
       "\n",
       "[2572 rows x 3 columns]"
      ]
     },
     "execution_count": 11,
     "metadata": {},
     "output_type": "execute_result"
    }
   ],
   "source": [
    "df_1['seq'] = df_1['seq'].apply(str_to_list)\n",
    "df_1\n",
    "\n",
    "df_0['seq'] = df_0['seq'].apply(str_to_list)\n",
    "df_0"
   ]
  },
  {
   "cell_type": "code",
   "execution_count": 13,
   "metadata": {},
   "outputs": [
    {
     "data": {
      "text/html": [
       "<div>\n",
       "<style scoped>\n",
       "    .dataframe tbody tr th:only-of-type {\n",
       "        vertical-align: middle;\n",
       "    }\n",
       "\n",
       "    .dataframe tbody tr th {\n",
       "        vertical-align: top;\n",
       "    }\n",
       "\n",
       "    .dataframe thead th {\n",
       "        text-align: right;\n",
       "    }\n",
       "</style>\n",
       "<table border=\"1\" class=\"dataframe\">\n",
       "  <thead>\n",
       "    <tr style=\"text-align: right;\">\n",
       "      <th></th>\n",
       "      <th>chrom</th>\n",
       "      <th>seq</th>\n",
       "      <th>label</th>\n",
       "    </tr>\n",
       "  </thead>\n",
       "  <tbody>\n",
       "    <tr>\n",
       "      <th>0</th>\n",
       "      <td>chr5</td>\n",
       "      <td>[c, a, g, g, c, c, t, c, t, g, t, g, c, a, t, ...</td>\n",
       "      <td>13</td>\n",
       "    </tr>\n",
       "    <tr>\n",
       "      <th>1</th>\n",
       "      <td>chr5</td>\n",
       "      <td>[t, c, c, a, t, t, g, t, t, t, a, a, a, g, c, ...</td>\n",
       "      <td>13</td>\n",
       "    </tr>\n",
       "    <tr>\n",
       "      <th>2</th>\n",
       "      <td>chr5</td>\n",
       "      <td>[a, c, a, a, c, a, g, a, a, a, t, g, a, g, a, ...</td>\n",
       "      <td>13</td>\n",
       "    </tr>\n",
       "    <tr>\n",
       "      <th>3</th>\n",
       "      <td>chr5</td>\n",
       "      <td>[a, g, t, t, a, c, a, a, g, t, a, t, t, t, c, ...</td>\n",
       "      <td>13</td>\n",
       "    </tr>\n",
       "    <tr>\n",
       "      <th>4</th>\n",
       "      <td>chr5</td>\n",
       "      <td>[c, t, g, c, t, t, t, a, c, t, g, t, c, t, a, ...</td>\n",
       "      <td>13</td>\n",
       "    </tr>\n",
       "    <tr>\n",
       "      <th>...</th>\n",
       "      <td>...</td>\n",
       "      <td>...</td>\n",
       "      <td>...</td>\n",
       "    </tr>\n",
       "    <tr>\n",
       "      <th>5139</th>\n",
       "      <td>chr5</td>\n",
       "      <td>[t, t, t, c, g, a, t, a, t, t, t, c, t, g, c, ...</td>\n",
       "      <td>25</td>\n",
       "    </tr>\n",
       "    <tr>\n",
       "      <th>5140</th>\n",
       "      <td>chr5</td>\n",
       "      <td>[t, a, a, t, t, a, a, a, t, a, a, a, t, t, c, ...</td>\n",
       "      <td>25</td>\n",
       "    </tr>\n",
       "    <tr>\n",
       "      <th>5141</th>\n",
       "      <td>chr5</td>\n",
       "      <td>[a, a, t, a, a, t, a, a, a, a, t, g, c, c, a, ...</td>\n",
       "      <td>25</td>\n",
       "    </tr>\n",
       "    <tr>\n",
       "      <th>5142</th>\n",
       "      <td>chr5</td>\n",
       "      <td>[a, t, c, t, c, t, c, t, c, t, c, c, c, t, c, ...</td>\n",
       "      <td>25</td>\n",
       "    </tr>\n",
       "    <tr>\n",
       "      <th>5143</th>\n",
       "      <td>chr5</td>\n",
       "      <td>[c, a, a, a, g, g, g, t, t, c, a, t, t, g, g, ...</td>\n",
       "      <td>25</td>\n",
       "    </tr>\n",
       "  </tbody>\n",
       "</table>\n",
       "<p>5144 rows × 3 columns</p>\n",
       "</div>"
      ],
      "text/plain": [
       "     chrom                                                seq  label\n",
       "0     chr5  [c, a, g, g, c, c, t, c, t, g, t, g, c, a, t, ...     13\n",
       "1     chr5  [t, c, c, a, t, t, g, t, t, t, a, a, a, g, c, ...     13\n",
       "2     chr5  [a, c, a, a, c, a, g, a, a, a, t, g, a, g, a, ...     13\n",
       "3     chr5  [a, g, t, t, a, c, a, a, g, t, a, t, t, t, c, ...     13\n",
       "4     chr5  [c, t, g, c, t, t, t, a, c, t, g, t, c, t, a, ...     13\n",
       "...    ...                                                ...    ...\n",
       "5139  chr5  [t, t, t, c, g, a, t, a, t, t, t, c, t, g, c, ...     25\n",
       "5140  chr5  [t, a, a, t, t, a, a, a, t, a, a, a, t, t, c, ...     25\n",
       "5141  chr5  [a, a, t, a, a, t, a, a, a, a, t, g, c, c, a, ...     25\n",
       "5142  chr5  [a, t, c, t, c, t, c, t, c, t, c, c, c, t, c, ...     25\n",
       "5143  chr5  [c, a, a, a, g, g, g, t, t, c, a, t, t, g, g, ...     25\n",
       "\n",
       "[5144 rows x 3 columns]"
      ]
     },
     "execution_count": 13,
     "metadata": {},
     "output_type": "execute_result"
    }
   ],
   "source": [
    "df = df_1.append(df_0, ignore_index = True)\n",
    "df "
   ]
  },
  {
   "cell_type": "code",
   "execution_count": 14,
   "metadata": {},
   "outputs": [],
   "source": [
    "def onehot(df_sample):\n",
    "    X = df_sample['seq'].to_numpy()\n",
    "    data = []\n",
    "    count_i = 0\n",
    "    for i, lst in enumerate(X):\n",
    "        list2 = []\n",
    "        for k, num in enumerate(lst):\n",
    "            if num == 'a':\n",
    "                list2.append([1, 0, 0, 0])\n",
    "            elif num == 'g':\n",
    "                list2.append([0, 1, 0, 0])\n",
    "            elif num == 'c':\n",
    "                list2.append([0, 0, 1, 0])\n",
    "            elif num == 't':\n",
    "                list2.append([0, 0, 0, 1])\n",
    "            else:\n",
    "                print(\"uh oh\")\n",
    "        data.append(list2)\n",
    "        count_i += 1\n",
    "    print(len(data))\n",
    "    print(count_i)\n",
    "    print(len(data[1]))\n",
    "    return np.array(data)"
   ]
  },
  {
   "cell_type": "code",
   "execution_count": 15,
   "metadata": {},
   "outputs": [],
   "source": [
    "def label_encode(df_sample):\n",
    "    X = df_sample['seq'].to_numpy()\n",
    "    data = []\n",
    "    count_i = 0\n",
    "    for i, lst in enumerate(X):\n",
    "        list2 = []\n",
    "        for k, num in enumerate(lst):\n",
    "            if num == 'a':\n",
    "                list2.append(1)\n",
    "            elif num == 'g':\n",
    "                list2.append(2)\n",
    "            elif num == 'c':\n",
    "                list2.append(3)\n",
    "            elif num == 't':\n",
    "                list2.append(4)\n",
    "            else:\n",
    "                print(\"uh oh\")\n",
    "        data.append(list2)\n",
    "        count_i += 1\n",
    "    print(len(data))\n",
    "    print(count_i)\n",
    "    print(len(data[1]))\n",
    "    return np.array(data)"
   ]
  },
  {
   "cell_type": "code",
   "execution_count": 16,
   "metadata": {},
   "outputs": [
    {
     "name": "stdout",
     "output_type": "stream",
     "text": [
      "5144\n",
      "5144\n",
      "200\n",
      "(5144, 200)\n"
     ]
    }
   ],
   "source": [
    "X = label_encode(df)\n",
    "print(X.shape)"
   ]
  },
  {
   "cell_type": "code",
   "execution_count": 17,
   "metadata": {},
   "outputs": [
    {
     "name": "stdout",
     "output_type": "stream",
     "text": [
      "5144\n"
     ]
    }
   ],
   "source": [
    "Y = []\n",
    "for i in range(len(df_1)):\n",
    "    Y.append(1)\n",
    "for i in range(len(df_0)):\n",
    "    Y.append(0)\n",
    "Y = np.array(Y)\n",
    "print(len(Y))"
   ]
  },
  {
   "cell_type": "markdown",
   "metadata": {},
   "source": [
    "### Models: XGB BOOST"
   ]
  },
  {
   "cell_type": "code",
   "execution_count": 18,
   "metadata": {},
   "outputs": [],
   "source": [
    "from numpy import loadtxt\n",
    "from xgboost import XGBClassifier\n",
    "from sklearn.model_selection import train_test_split\n",
    "from sklearn.metrics import accuracy_score\n"
   ]
  },
  {
   "cell_type": "code",
   "execution_count": 19,
   "metadata": {},
   "outputs": [
    {
     "name": "stderr",
     "output_type": "stream",
     "text": [
      "C:\\ProgramData\\Anaconda3\\lib\\site-packages\\xgboost\\sklearn.py:888: UserWarning: The use of label encoder in XGBClassifier is deprecated and will be removed in a future release. To remove this warning, do the following: 1) Pass option use_label_encoder=False when constructing XGBClassifier object; and 2) Encode your labels (y) as integers starting with 0, i.e. 0, 1, 2, ..., [num_class - 1].\n",
      "  warnings.warn(label_encoder_deprecation_msg, UserWarning)\n"
     ]
    },
    {
     "name": "stdout",
     "output_type": "stream",
     "text": [
      "[03:52:25] WARNING: C:/Users/Administrator/workspace/xgboost-win64_release_1.3.0/src/learner.cc:1061: Starting in XGBoost 1.3.0, the default evaluation metric used with the objective 'binary:logistic' was changed from 'error' to 'logloss'. Explicitly set eval_metric if you'd like to restore the old behavior.\n",
      "Accuracy: 54.48%\n"
     ]
    }
   ],
   "source": [
    "# First XGBoost model for Pima Indians dataset\n",
    "\n",
    "seed = 7\n",
    "test_size = 0.33\n",
    "X_train, X_test, y_train, y_test = train_test_split(X, Y, test_size=test_size, random_state=seed)\n",
    "# fit model no training data\n",
    "model = XGBClassifier()\n",
    "model.fit(X_train, y_train)\n",
    "# make predictions for test data\n",
    "y_pred = model.predict(X_test)\n",
    "predictions = [round(value) for value in y_pred]\n",
    "# evaluate predictions\n",
    "accuracy = accuracy_score(y_test, predictions)\n",
    "print(\"Accuracy: %.2f%%\" % (accuracy * 100.0))"
   ]
  },
  {
   "cell_type": "markdown",
   "metadata": {},
   "source": [
    "### Models: CNN"
   ]
  },
  {
   "cell_type": "markdown",
   "metadata": {},
   "source": [
    "#### Working on :"
   ]
  },
  {
   "cell_type": "code",
   "execution_count": null,
   "metadata": {},
   "outputs": [],
   "source": [
    "df_1 = split_seq_df(df, 5000)"
   ]
  },
  {
   "cell_type": "code",
   "execution_count": null,
   "metadata": {},
   "outputs": [],
   "source": [
    "df_data = df.drop(df.loc[\"n\" in df['seq']].index, inplace=False)"
   ]
  },
  {
   "cell_type": "code",
   "execution_count": 39,
   "metadata": {},
   "outputs": [
    {
     "ename": "KeyboardInterrupt",
     "evalue": "",
     "output_type": "error",
     "traceback": [
      "\u001b[1;31m---------------------------------------------------------------------------\u001b[0m",
      "\u001b[1;31mKeyboardInterrupt\u001b[0m                         Traceback (most recent call last)",
      "\u001b[1;32m<ipython-input-39-b340f8914d37>\u001b[0m in \u001b[0;36m<module>\u001b[1;34m\u001b[0m\n\u001b[1;32m----> 1\u001b[1;33m \u001b[0msave_file\u001b[0m\u001b[1;33m(\u001b[0m\u001b[1;34m'genome_split_5000.csv.gz'\u001b[0m\u001b[1;33m)\u001b[0m\u001b[1;33m\u001b[0m\u001b[1;33m\u001b[0m\u001b[0m\n\u001b[0m",
      "\u001b[1;32m<ipython-input-30-949719ecdbba>\u001b[0m in \u001b[0;36msave_file\u001b[1;34m(name)\u001b[0m\n\u001b[0;32m      1\u001b[0m \u001b[1;32mdef\u001b[0m \u001b[0msave_file\u001b[0m\u001b[1;33m(\u001b[0m\u001b[0mname\u001b[0m\u001b[1;33m)\u001b[0m\u001b[1;33m:\u001b[0m\u001b[1;33m\u001b[0m\u001b[1;33m\u001b[0m\u001b[0m\n\u001b[1;32m----> 2\u001b[1;33m     df.to_csv(name\n\u001b[0m\u001b[0;32m      3\u001b[0m          \u001b[1;33m,\u001b[0m \u001b[0msep\u001b[0m\u001b[1;33m=\u001b[0m\u001b[1;34m'|'\u001b[0m\u001b[1;33m\u001b[0m\u001b[1;33m\u001b[0m\u001b[0m\n\u001b[0;32m      4\u001b[0m          \u001b[1;33m,\u001b[0m \u001b[0mheader\u001b[0m\u001b[1;33m=\u001b[0m\u001b[1;32mTrue\u001b[0m\u001b[1;33m\u001b[0m\u001b[1;33m\u001b[0m\u001b[0m\n\u001b[0;32m      5\u001b[0m          \u001b[1;33m,\u001b[0m \u001b[0mindex\u001b[0m\u001b[1;33m=\u001b[0m\u001b[1;32mFalse\u001b[0m\u001b[1;33m\u001b[0m\u001b[1;33m\u001b[0m\u001b[0m\n",
      "\u001b[1;32mC:\\ProgramData\\Anaconda3\\lib\\site-packages\\pandas\\core\\generic.py\u001b[0m in \u001b[0;36mto_csv\u001b[1;34m(self, path_or_buf, sep, na_rep, float_format, columns, header, index, index_label, mode, encoding, compression, quoting, quotechar, line_terminator, chunksize, date_format, doublequote, escapechar, decimal, errors)\u001b[0m\n\u001b[0;32m   3168\u001b[0m             \u001b[0mdecimal\u001b[0m\u001b[1;33m=\u001b[0m\u001b[0mdecimal\u001b[0m\u001b[1;33m,\u001b[0m\u001b[1;33m\u001b[0m\u001b[1;33m\u001b[0m\u001b[0m\n\u001b[0;32m   3169\u001b[0m         )\n\u001b[1;32m-> 3170\u001b[1;33m         \u001b[0mformatter\u001b[0m\u001b[1;33m.\u001b[0m\u001b[0msave\u001b[0m\u001b[1;33m(\u001b[0m\u001b[1;33m)\u001b[0m\u001b[1;33m\u001b[0m\u001b[1;33m\u001b[0m\u001b[0m\n\u001b[0m\u001b[0;32m   3171\u001b[0m \u001b[1;33m\u001b[0m\u001b[0m\n\u001b[0;32m   3172\u001b[0m         \u001b[1;32mif\u001b[0m \u001b[0mpath_or_buf\u001b[0m \u001b[1;32mis\u001b[0m \u001b[1;32mNone\u001b[0m\u001b[1;33m:\u001b[0m\u001b[1;33m\u001b[0m\u001b[1;33m\u001b[0m\u001b[0m\n",
      "\u001b[1;32mC:\\ProgramData\\Anaconda3\\lib\\site-packages\\pandas\\io\\formats\\csvs.py\u001b[0m in \u001b[0;36msave\u001b[1;34m(self)\u001b[0m\n\u001b[0;32m    204\u001b[0m             )\n\u001b[0;32m    205\u001b[0m \u001b[1;33m\u001b[0m\u001b[0m\n\u001b[1;32m--> 206\u001b[1;33m             \u001b[0mself\u001b[0m\u001b[1;33m.\u001b[0m\u001b[0m_save\u001b[0m\u001b[1;33m(\u001b[0m\u001b[1;33m)\u001b[0m\u001b[1;33m\u001b[0m\u001b[1;33m\u001b[0m\u001b[0m\n\u001b[0m\u001b[0;32m    207\u001b[0m \u001b[1;33m\u001b[0m\u001b[0m\n\u001b[0;32m    208\u001b[0m         \u001b[1;32mfinally\u001b[0m\u001b[1;33m:\u001b[0m\u001b[1;33m\u001b[0m\u001b[1;33m\u001b[0m\u001b[0m\n",
      "\u001b[1;32mC:\\ProgramData\\Anaconda3\\lib\\site-packages\\pandas\\io\\formats\\csvs.py\u001b[0m in \u001b[0;36m_save\u001b[1;34m(self)\u001b[0m\n\u001b[0;32m    326\u001b[0m                 \u001b[1;32mbreak\u001b[0m\u001b[1;33m\u001b[0m\u001b[1;33m\u001b[0m\u001b[0m\n\u001b[0;32m    327\u001b[0m \u001b[1;33m\u001b[0m\u001b[0m\n\u001b[1;32m--> 328\u001b[1;33m             \u001b[0mself\u001b[0m\u001b[1;33m.\u001b[0m\u001b[0m_save_chunk\u001b[0m\u001b[1;33m(\u001b[0m\u001b[0mstart_i\u001b[0m\u001b[1;33m,\u001b[0m \u001b[0mend_i\u001b[0m\u001b[1;33m)\u001b[0m\u001b[1;33m\u001b[0m\u001b[1;33m\u001b[0m\u001b[0m\n\u001b[0m\u001b[0;32m    329\u001b[0m \u001b[1;33m\u001b[0m\u001b[0m\n\u001b[0;32m    330\u001b[0m     \u001b[1;32mdef\u001b[0m \u001b[0m_save_chunk\u001b[0m\u001b[1;33m(\u001b[0m\u001b[0mself\u001b[0m\u001b[1;33m,\u001b[0m \u001b[0mstart_i\u001b[0m\u001b[1;33m:\u001b[0m \u001b[0mint\u001b[0m\u001b[1;33m,\u001b[0m \u001b[0mend_i\u001b[0m\u001b[1;33m:\u001b[0m \u001b[0mint\u001b[0m\u001b[1;33m)\u001b[0m \u001b[1;33m->\u001b[0m \u001b[1;32mNone\u001b[0m\u001b[1;33m:\u001b[0m\u001b[1;33m\u001b[0m\u001b[1;33m\u001b[0m\u001b[0m\n",
      "\u001b[1;32mC:\\ProgramData\\Anaconda3\\lib\\site-packages\\pandas\\io\\formats\\csvs.py\u001b[0m in \u001b[0;36m_save_chunk\u001b[1;34m(self, start_i, end_i)\u001b[0m\n\u001b[0;32m    360\u001b[0m         )\n\u001b[0;32m    361\u001b[0m \u001b[1;33m\u001b[0m\u001b[0m\n\u001b[1;32m--> 362\u001b[1;33m         \u001b[0mlibwriters\u001b[0m\u001b[1;33m.\u001b[0m\u001b[0mwrite_csv_rows\u001b[0m\u001b[1;33m(\u001b[0m\u001b[0mself\u001b[0m\u001b[1;33m.\u001b[0m\u001b[0mdata\u001b[0m\u001b[1;33m,\u001b[0m \u001b[0mix\u001b[0m\u001b[1;33m,\u001b[0m \u001b[0mself\u001b[0m\u001b[1;33m.\u001b[0m\u001b[0mnlevels\u001b[0m\u001b[1;33m,\u001b[0m \u001b[0mself\u001b[0m\u001b[1;33m.\u001b[0m\u001b[0mcols\u001b[0m\u001b[1;33m,\u001b[0m \u001b[0mself\u001b[0m\u001b[1;33m.\u001b[0m\u001b[0mwriter\u001b[0m\u001b[1;33m)\u001b[0m\u001b[1;33m\u001b[0m\u001b[1;33m\u001b[0m\u001b[0m\n\u001b[0m",
      "\u001b[1;32mpandas\\_libs\\writers.pyx\u001b[0m in \u001b[0;36mpandas._libs.writers.write_csv_rows\u001b[1;34m()\u001b[0m\n",
      "\u001b[1;32mC:\\ProgramData\\Anaconda3\\lib\\gzip.py\u001b[0m in \u001b[0;36mwrite\u001b[1;34m(self, data)\u001b[0m\n\u001b[0;32m    278\u001b[0m \u001b[1;33m\u001b[0m\u001b[0m\n\u001b[0;32m    279\u001b[0m         \u001b[1;32mif\u001b[0m \u001b[0mlength\u001b[0m \u001b[1;33m>\u001b[0m \u001b[1;36m0\u001b[0m\u001b[1;33m:\u001b[0m\u001b[1;33m\u001b[0m\u001b[1;33m\u001b[0m\u001b[0m\n\u001b[1;32m--> 280\u001b[1;33m             \u001b[0mself\u001b[0m\u001b[1;33m.\u001b[0m\u001b[0mfileobj\u001b[0m\u001b[1;33m.\u001b[0m\u001b[0mwrite\u001b[0m\u001b[1;33m(\u001b[0m\u001b[0mself\u001b[0m\u001b[1;33m.\u001b[0m\u001b[0mcompress\u001b[0m\u001b[1;33m.\u001b[0m\u001b[0mcompress\u001b[0m\u001b[1;33m(\u001b[0m\u001b[0mdata\u001b[0m\u001b[1;33m)\u001b[0m\u001b[1;33m)\u001b[0m\u001b[1;33m\u001b[0m\u001b[1;33m\u001b[0m\u001b[0m\n\u001b[0m\u001b[0;32m    281\u001b[0m             \u001b[0mself\u001b[0m\u001b[1;33m.\u001b[0m\u001b[0msize\u001b[0m \u001b[1;33m+=\u001b[0m \u001b[0mlength\u001b[0m\u001b[1;33m\u001b[0m\u001b[1;33m\u001b[0m\u001b[0m\n\u001b[0;32m    282\u001b[0m             \u001b[0mself\u001b[0m\u001b[1;33m.\u001b[0m\u001b[0mcrc\u001b[0m \u001b[1;33m=\u001b[0m \u001b[0mzlib\u001b[0m\u001b[1;33m.\u001b[0m\u001b[0mcrc32\u001b[0m\u001b[1;33m(\u001b[0m\u001b[0mdata\u001b[0m\u001b[1;33m,\u001b[0m \u001b[0mself\u001b[0m\u001b[1;33m.\u001b[0m\u001b[0mcrc\u001b[0m\u001b[1;33m)\u001b[0m\u001b[1;33m\u001b[0m\u001b[1;33m\u001b[0m\u001b[0m\n",
      "\u001b[1;31mKeyboardInterrupt\u001b[0m: "
     ]
    }
   ],
   "source": [
    "save_file('genome_split_5000.csv.gz')"
   ]
  },
  {
   "cell_type": "code",
   "execution_count": 47,
   "metadata": {},
   "outputs": [],
   "source": [
    "df = split_seq_df(df, 200)"
   ]
  },
  {
   "cell_type": "code",
   "execution_count": 48,
   "metadata": {},
   "outputs": [],
   "source": [
    "save_file('genome_split_200_head.csv.gz')"
   ]
  },
  {
   "cell_type": "code",
   "execution_count": 56,
   "metadata": {},
   "outputs": [
    {
     "ename": "FileNotFoundError",
     "evalue": "[Errno 2] No such file or directory: '../../Data/genome_split_200.csv.gz'",
     "output_type": "error",
     "traceback": [
      "\u001b[1;31m---------------------------------------------------------------------------\u001b[0m",
      "\u001b[1;31mFileNotFoundError\u001b[0m                         Traceback (most recent call last)",
      "\u001b[1;32m<ipython-input-56-93363a9504fa>\u001b[0m in \u001b[0;36m<module>\u001b[1;34m\u001b[0m\n\u001b[1;32m----> 1\u001b[1;33m \u001b[0mdf\u001b[0m \u001b[1;33m=\u001b[0m \u001b[0mpd\u001b[0m\u001b[1;33m.\u001b[0m\u001b[0mread_csv\u001b[0m\u001b[1;33m(\u001b[0m\u001b[1;34m'../../Data/genome_split_200.csv.gz'\u001b[0m\u001b[1;33m,\u001b[0m \u001b[0mcompression\u001b[0m\u001b[1;33m=\u001b[0m\u001b[1;34m'gzip'\u001b[0m\u001b[1;33m,\u001b[0m \u001b[0msep\u001b[0m \u001b[1;33m=\u001b[0m\u001b[1;34m\"|\"\u001b[0m\u001b[1;33m)\u001b[0m\u001b[1;33m\u001b[0m\u001b[1;33m\u001b[0m\u001b[0m\n\u001b[0m",
      "\u001b[1;32mC:\\ProgramData\\Anaconda3\\lib\\site-packages\\pandas\\io\\parsers.py\u001b[0m in \u001b[0;36mread_csv\u001b[1;34m(filepath_or_buffer, sep, delimiter, header, names, index_col, usecols, squeeze, prefix, mangle_dupe_cols, dtype, engine, converters, true_values, false_values, skipinitialspace, skiprows, skipfooter, nrows, na_values, keep_default_na, na_filter, verbose, skip_blank_lines, parse_dates, infer_datetime_format, keep_date_col, date_parser, dayfirst, cache_dates, iterator, chunksize, compression, thousands, decimal, lineterminator, quotechar, quoting, doublequote, escapechar, comment, encoding, dialect, error_bad_lines, warn_bad_lines, delim_whitespace, low_memory, memory_map, float_precision)\u001b[0m\n\u001b[0;32m    684\u001b[0m     )\n\u001b[0;32m    685\u001b[0m \u001b[1;33m\u001b[0m\u001b[0m\n\u001b[1;32m--> 686\u001b[1;33m     \u001b[1;32mreturn\u001b[0m \u001b[0m_read\u001b[0m\u001b[1;33m(\u001b[0m\u001b[0mfilepath_or_buffer\u001b[0m\u001b[1;33m,\u001b[0m \u001b[0mkwds\u001b[0m\u001b[1;33m)\u001b[0m\u001b[1;33m\u001b[0m\u001b[1;33m\u001b[0m\u001b[0m\n\u001b[0m\u001b[0;32m    687\u001b[0m \u001b[1;33m\u001b[0m\u001b[0m\n\u001b[0;32m    688\u001b[0m \u001b[1;33m\u001b[0m\u001b[0m\n",
      "\u001b[1;32mC:\\ProgramData\\Anaconda3\\lib\\site-packages\\pandas\\io\\parsers.py\u001b[0m in \u001b[0;36m_read\u001b[1;34m(filepath_or_buffer, kwds)\u001b[0m\n\u001b[0;32m    450\u001b[0m \u001b[1;33m\u001b[0m\u001b[0m\n\u001b[0;32m    451\u001b[0m     \u001b[1;31m# Create the parser.\u001b[0m\u001b[1;33m\u001b[0m\u001b[1;33m\u001b[0m\u001b[1;33m\u001b[0m\u001b[0m\n\u001b[1;32m--> 452\u001b[1;33m     \u001b[0mparser\u001b[0m \u001b[1;33m=\u001b[0m \u001b[0mTextFileReader\u001b[0m\u001b[1;33m(\u001b[0m\u001b[0mfp_or_buf\u001b[0m\u001b[1;33m,\u001b[0m \u001b[1;33m**\u001b[0m\u001b[0mkwds\u001b[0m\u001b[1;33m)\u001b[0m\u001b[1;33m\u001b[0m\u001b[1;33m\u001b[0m\u001b[0m\n\u001b[0m\u001b[0;32m    453\u001b[0m \u001b[1;33m\u001b[0m\u001b[0m\n\u001b[0;32m    454\u001b[0m     \u001b[1;32mif\u001b[0m \u001b[0mchunksize\u001b[0m \u001b[1;32mor\u001b[0m \u001b[0miterator\u001b[0m\u001b[1;33m:\u001b[0m\u001b[1;33m\u001b[0m\u001b[1;33m\u001b[0m\u001b[0m\n",
      "\u001b[1;32mC:\\ProgramData\\Anaconda3\\lib\\site-packages\\pandas\\io\\parsers.py\u001b[0m in \u001b[0;36m__init__\u001b[1;34m(self, f, engine, **kwds)\u001b[0m\n\u001b[0;32m    944\u001b[0m             \u001b[0mself\u001b[0m\u001b[1;33m.\u001b[0m\u001b[0moptions\u001b[0m\u001b[1;33m[\u001b[0m\u001b[1;34m\"has_index_names\"\u001b[0m\u001b[1;33m]\u001b[0m \u001b[1;33m=\u001b[0m \u001b[0mkwds\u001b[0m\u001b[1;33m[\u001b[0m\u001b[1;34m\"has_index_names\"\u001b[0m\u001b[1;33m]\u001b[0m\u001b[1;33m\u001b[0m\u001b[1;33m\u001b[0m\u001b[0m\n\u001b[0;32m    945\u001b[0m \u001b[1;33m\u001b[0m\u001b[0m\n\u001b[1;32m--> 946\u001b[1;33m         \u001b[0mself\u001b[0m\u001b[1;33m.\u001b[0m\u001b[0m_make_engine\u001b[0m\u001b[1;33m(\u001b[0m\u001b[0mself\u001b[0m\u001b[1;33m.\u001b[0m\u001b[0mengine\u001b[0m\u001b[1;33m)\u001b[0m\u001b[1;33m\u001b[0m\u001b[1;33m\u001b[0m\u001b[0m\n\u001b[0m\u001b[0;32m    947\u001b[0m \u001b[1;33m\u001b[0m\u001b[0m\n\u001b[0;32m    948\u001b[0m     \u001b[1;32mdef\u001b[0m \u001b[0mclose\u001b[0m\u001b[1;33m(\u001b[0m\u001b[0mself\u001b[0m\u001b[1;33m)\u001b[0m\u001b[1;33m:\u001b[0m\u001b[1;33m\u001b[0m\u001b[1;33m\u001b[0m\u001b[0m\n",
      "\u001b[1;32mC:\\ProgramData\\Anaconda3\\lib\\site-packages\\pandas\\io\\parsers.py\u001b[0m in \u001b[0;36m_make_engine\u001b[1;34m(self, engine)\u001b[0m\n\u001b[0;32m   1176\u001b[0m     \u001b[1;32mdef\u001b[0m \u001b[0m_make_engine\u001b[0m\u001b[1;33m(\u001b[0m\u001b[0mself\u001b[0m\u001b[1;33m,\u001b[0m \u001b[0mengine\u001b[0m\u001b[1;33m=\u001b[0m\u001b[1;34m\"c\"\u001b[0m\u001b[1;33m)\u001b[0m\u001b[1;33m:\u001b[0m\u001b[1;33m\u001b[0m\u001b[1;33m\u001b[0m\u001b[0m\n\u001b[0;32m   1177\u001b[0m         \u001b[1;32mif\u001b[0m \u001b[0mengine\u001b[0m \u001b[1;33m==\u001b[0m \u001b[1;34m\"c\"\u001b[0m\u001b[1;33m:\u001b[0m\u001b[1;33m\u001b[0m\u001b[1;33m\u001b[0m\u001b[0m\n\u001b[1;32m-> 1178\u001b[1;33m             \u001b[0mself\u001b[0m\u001b[1;33m.\u001b[0m\u001b[0m_engine\u001b[0m \u001b[1;33m=\u001b[0m \u001b[0mCParserWrapper\u001b[0m\u001b[1;33m(\u001b[0m\u001b[0mself\u001b[0m\u001b[1;33m.\u001b[0m\u001b[0mf\u001b[0m\u001b[1;33m,\u001b[0m \u001b[1;33m**\u001b[0m\u001b[0mself\u001b[0m\u001b[1;33m.\u001b[0m\u001b[0moptions\u001b[0m\u001b[1;33m)\u001b[0m\u001b[1;33m\u001b[0m\u001b[1;33m\u001b[0m\u001b[0m\n\u001b[0m\u001b[0;32m   1179\u001b[0m         \u001b[1;32melse\u001b[0m\u001b[1;33m:\u001b[0m\u001b[1;33m\u001b[0m\u001b[1;33m\u001b[0m\u001b[0m\n\u001b[0;32m   1180\u001b[0m             \u001b[1;32mif\u001b[0m \u001b[0mengine\u001b[0m \u001b[1;33m==\u001b[0m \u001b[1;34m\"python\"\u001b[0m\u001b[1;33m:\u001b[0m\u001b[1;33m\u001b[0m\u001b[1;33m\u001b[0m\u001b[0m\n",
      "\u001b[1;32mC:\\ProgramData\\Anaconda3\\lib\\site-packages\\pandas\\io\\parsers.py\u001b[0m in \u001b[0;36m__init__\u001b[1;34m(self, src, **kwds)\u001b[0m\n\u001b[0;32m   2006\u001b[0m         \u001b[0mkwds\u001b[0m\u001b[1;33m[\u001b[0m\u001b[1;34m\"usecols\"\u001b[0m\u001b[1;33m]\u001b[0m \u001b[1;33m=\u001b[0m \u001b[0mself\u001b[0m\u001b[1;33m.\u001b[0m\u001b[0musecols\u001b[0m\u001b[1;33m\u001b[0m\u001b[1;33m\u001b[0m\u001b[0m\n\u001b[0;32m   2007\u001b[0m \u001b[1;33m\u001b[0m\u001b[0m\n\u001b[1;32m-> 2008\u001b[1;33m         \u001b[0mself\u001b[0m\u001b[1;33m.\u001b[0m\u001b[0m_reader\u001b[0m \u001b[1;33m=\u001b[0m \u001b[0mparsers\u001b[0m\u001b[1;33m.\u001b[0m\u001b[0mTextReader\u001b[0m\u001b[1;33m(\u001b[0m\u001b[0msrc\u001b[0m\u001b[1;33m,\u001b[0m \u001b[1;33m**\u001b[0m\u001b[0mkwds\u001b[0m\u001b[1;33m)\u001b[0m\u001b[1;33m\u001b[0m\u001b[1;33m\u001b[0m\u001b[0m\n\u001b[0m\u001b[0;32m   2009\u001b[0m         \u001b[0mself\u001b[0m\u001b[1;33m.\u001b[0m\u001b[0munnamed_cols\u001b[0m \u001b[1;33m=\u001b[0m \u001b[0mself\u001b[0m\u001b[1;33m.\u001b[0m\u001b[0m_reader\u001b[0m\u001b[1;33m.\u001b[0m\u001b[0munnamed_cols\u001b[0m\u001b[1;33m\u001b[0m\u001b[1;33m\u001b[0m\u001b[0m\n\u001b[0;32m   2010\u001b[0m \u001b[1;33m\u001b[0m\u001b[0m\n",
      "\u001b[1;32mpandas\\_libs\\parsers.pyx\u001b[0m in \u001b[0;36mpandas._libs.parsers.TextReader.__cinit__\u001b[1;34m()\u001b[0m\n",
      "\u001b[1;32mpandas\\_libs\\parsers.pyx\u001b[0m in \u001b[0;36mpandas._libs.parsers.TextReader._setup_parser_source\u001b[1;34m()\u001b[0m\n",
      "\u001b[1;32mC:\\ProgramData\\Anaconda3\\lib\\gzip.py\u001b[0m in \u001b[0;36m__init__\u001b[1;34m(self, filename, mode, compresslevel, fileobj, mtime)\u001b[0m\n\u001b[0;32m    171\u001b[0m             \u001b[0mmode\u001b[0m \u001b[1;33m+=\u001b[0m \u001b[1;34m'b'\u001b[0m\u001b[1;33m\u001b[0m\u001b[1;33m\u001b[0m\u001b[0m\n\u001b[0;32m    172\u001b[0m         \u001b[1;32mif\u001b[0m \u001b[0mfileobj\u001b[0m \u001b[1;32mis\u001b[0m \u001b[1;32mNone\u001b[0m\u001b[1;33m:\u001b[0m\u001b[1;33m\u001b[0m\u001b[1;33m\u001b[0m\u001b[0m\n\u001b[1;32m--> 173\u001b[1;33m             \u001b[0mfileobj\u001b[0m \u001b[1;33m=\u001b[0m \u001b[0mself\u001b[0m\u001b[1;33m.\u001b[0m\u001b[0mmyfileobj\u001b[0m \u001b[1;33m=\u001b[0m \u001b[0mbuiltins\u001b[0m\u001b[1;33m.\u001b[0m\u001b[0mopen\u001b[0m\u001b[1;33m(\u001b[0m\u001b[0mfilename\u001b[0m\u001b[1;33m,\u001b[0m \u001b[0mmode\u001b[0m \u001b[1;32mor\u001b[0m \u001b[1;34m'rb'\u001b[0m\u001b[1;33m)\u001b[0m\u001b[1;33m\u001b[0m\u001b[1;33m\u001b[0m\u001b[0m\n\u001b[0m\u001b[0;32m    174\u001b[0m         \u001b[1;32mif\u001b[0m \u001b[0mfilename\u001b[0m \u001b[1;32mis\u001b[0m \u001b[1;32mNone\u001b[0m\u001b[1;33m:\u001b[0m\u001b[1;33m\u001b[0m\u001b[1;33m\u001b[0m\u001b[0m\n\u001b[0;32m    175\u001b[0m             \u001b[0mfilename\u001b[0m \u001b[1;33m=\u001b[0m \u001b[0mgetattr\u001b[0m\u001b[1;33m(\u001b[0m\u001b[0mfileobj\u001b[0m\u001b[1;33m,\u001b[0m \u001b[1;34m'name'\u001b[0m\u001b[1;33m,\u001b[0m \u001b[1;34m''\u001b[0m\u001b[1;33m)\u001b[0m\u001b[1;33m\u001b[0m\u001b[1;33m\u001b[0m\u001b[0m\n",
      "\u001b[1;31mFileNotFoundError\u001b[0m: [Errno 2] No such file or directory: '../../Data/genome_split_200.csv.gz'"
     ]
    }
   ],
   "source": [
    "df = pd.read_csv('../../Data/genome_split_200.csv.gz', compression='gzip', sep =\"|\")"
   ]
  },
  {
   "cell_type": "markdown",
   "metadata": {},
   "source": [
    "### Remove all values with 20% N or more"
   ]
  },
  {
   "cell_type": "code",
   "execution_count": null,
   "metadata": {},
   "outputs": [],
   "source": [
    "# As of now, I remove all values with N (see split_seq_df() function)"
   ]
  },
  {
   "cell_type": "markdown",
   "metadata": {},
   "source": [
    "### Changing all labels\n",
    "#### 1 if label 13 and 0 if not label 13"
   ]
  },
  {
   "cell_type": "code",
   "execution_count": 108,
   "metadata": {},
   "outputs": [
    {
     "ename": "KeyError",
     "evalue": "'labels'",
     "output_type": "error",
     "traceback": [
      "\u001b[1;31m---------------------------------------------------------------------------\u001b[0m",
      "\u001b[1;31mKeyError\u001b[0m                                  Traceback (most recent call last)",
      "\u001b[1;32mC:\\ProgramData\\Anaconda3\\lib\\site-packages\\pandas\\core\\indexes\\base.py\u001b[0m in \u001b[0;36mget_loc\u001b[1;34m(self, key, method, tolerance)\u001b[0m\n\u001b[0;32m   2894\u001b[0m             \u001b[1;32mtry\u001b[0m\u001b[1;33m:\u001b[0m\u001b[1;33m\u001b[0m\u001b[1;33m\u001b[0m\u001b[0m\n\u001b[1;32m-> 2895\u001b[1;33m                 \u001b[1;32mreturn\u001b[0m \u001b[0mself\u001b[0m\u001b[1;33m.\u001b[0m\u001b[0m_engine\u001b[0m\u001b[1;33m.\u001b[0m\u001b[0mget_loc\u001b[0m\u001b[1;33m(\u001b[0m\u001b[0mcasted_key\u001b[0m\u001b[1;33m)\u001b[0m\u001b[1;33m\u001b[0m\u001b[1;33m\u001b[0m\u001b[0m\n\u001b[0m\u001b[0;32m   2896\u001b[0m             \u001b[1;32mexcept\u001b[0m \u001b[0mKeyError\u001b[0m \u001b[1;32mas\u001b[0m \u001b[0merr\u001b[0m\u001b[1;33m:\u001b[0m\u001b[1;33m\u001b[0m\u001b[1;33m\u001b[0m\u001b[0m\n",
      "\u001b[1;32mpandas\\_libs\\index.pyx\u001b[0m in \u001b[0;36mpandas._libs.index.IndexEngine.get_loc\u001b[1;34m()\u001b[0m\n",
      "\u001b[1;32mpandas\\_libs\\index.pyx\u001b[0m in \u001b[0;36mpandas._libs.index.IndexEngine.get_loc\u001b[1;34m()\u001b[0m\n",
      "\u001b[1;32mpandas\\_libs\\hashtable_class_helper.pxi\u001b[0m in \u001b[0;36mpandas._libs.hashtable.PyObjectHashTable.get_item\u001b[1;34m()\u001b[0m\n",
      "\u001b[1;32mpandas\\_libs\\hashtable_class_helper.pxi\u001b[0m in \u001b[0;36mpandas._libs.hashtable.PyObjectHashTable.get_item\u001b[1;34m()\u001b[0m\n",
      "\u001b[1;31mKeyError\u001b[0m: 'labels'",
      "\nThe above exception was the direct cause of the following exception:\n",
      "\u001b[1;31mKeyError\u001b[0m                                  Traceback (most recent call last)",
      "\u001b[1;32m<ipython-input-108-330c9101105a>\u001b[0m in \u001b[0;36m<module>\u001b[1;34m\u001b[0m\n\u001b[1;32m----> 1\u001b[1;33m \u001b[0mdf_1\u001b[0m\u001b[1;33m[\u001b[0m\u001b[1;34m'labels'\u001b[0m\u001b[1;33m]\u001b[0m \u001b[1;33m=\u001b[0m \u001b[0mdf_1\u001b[0m\u001b[1;33m[\u001b[0m\u001b[1;34m'labels'\u001b[0m\u001b[1;33m]\u001b[0m\u001b[1;33m.\u001b[0m\u001b[0mreplace\u001b[0m\u001b[1;33m(\u001b[0m\u001b[1;33m[\u001b[0m\u001b[1;34m'13'\u001b[0m\u001b[1;33m]\u001b[0m\u001b[1;33m,\u001b[0m\u001b[1;34m'1'\u001b[0m\u001b[1;33m)\u001b[0m\u001b[1;33m\u001b[0m\u001b[1;33m\u001b[0m\u001b[0m\n\u001b[0m\u001b[0;32m      2\u001b[0m \u001b[0mdf_1\u001b[0m\u001b[1;33m.\u001b[0m\u001b[0mhead\u001b[0m\u001b[1;33m(\u001b[0m\u001b[1;33m)\u001b[0m\u001b[1;33m\u001b[0m\u001b[1;33m\u001b[0m\u001b[0m\n",
      "\u001b[1;32mC:\\ProgramData\\Anaconda3\\lib\\site-packages\\pandas\\core\\frame.py\u001b[0m in \u001b[0;36m__getitem__\u001b[1;34m(self, key)\u001b[0m\n\u001b[0;32m   2900\u001b[0m             \u001b[1;32mif\u001b[0m \u001b[0mself\u001b[0m\u001b[1;33m.\u001b[0m\u001b[0mcolumns\u001b[0m\u001b[1;33m.\u001b[0m\u001b[0mnlevels\u001b[0m \u001b[1;33m>\u001b[0m \u001b[1;36m1\u001b[0m\u001b[1;33m:\u001b[0m\u001b[1;33m\u001b[0m\u001b[1;33m\u001b[0m\u001b[0m\n\u001b[0;32m   2901\u001b[0m                 \u001b[1;32mreturn\u001b[0m \u001b[0mself\u001b[0m\u001b[1;33m.\u001b[0m\u001b[0m_getitem_multilevel\u001b[0m\u001b[1;33m(\u001b[0m\u001b[0mkey\u001b[0m\u001b[1;33m)\u001b[0m\u001b[1;33m\u001b[0m\u001b[1;33m\u001b[0m\u001b[0m\n\u001b[1;32m-> 2902\u001b[1;33m             \u001b[0mindexer\u001b[0m \u001b[1;33m=\u001b[0m \u001b[0mself\u001b[0m\u001b[1;33m.\u001b[0m\u001b[0mcolumns\u001b[0m\u001b[1;33m.\u001b[0m\u001b[0mget_loc\u001b[0m\u001b[1;33m(\u001b[0m\u001b[0mkey\u001b[0m\u001b[1;33m)\u001b[0m\u001b[1;33m\u001b[0m\u001b[1;33m\u001b[0m\u001b[0m\n\u001b[0m\u001b[0;32m   2903\u001b[0m             \u001b[1;32mif\u001b[0m \u001b[0mis_integer\u001b[0m\u001b[1;33m(\u001b[0m\u001b[0mindexer\u001b[0m\u001b[1;33m)\u001b[0m\u001b[1;33m:\u001b[0m\u001b[1;33m\u001b[0m\u001b[1;33m\u001b[0m\u001b[0m\n\u001b[0;32m   2904\u001b[0m                 \u001b[0mindexer\u001b[0m \u001b[1;33m=\u001b[0m \u001b[1;33m[\u001b[0m\u001b[0mindexer\u001b[0m\u001b[1;33m]\u001b[0m\u001b[1;33m\u001b[0m\u001b[1;33m\u001b[0m\u001b[0m\n",
      "\u001b[1;32mC:\\ProgramData\\Anaconda3\\lib\\site-packages\\pandas\\core\\indexes\\base.py\u001b[0m in \u001b[0;36mget_loc\u001b[1;34m(self, key, method, tolerance)\u001b[0m\n\u001b[0;32m   2895\u001b[0m                 \u001b[1;32mreturn\u001b[0m \u001b[0mself\u001b[0m\u001b[1;33m.\u001b[0m\u001b[0m_engine\u001b[0m\u001b[1;33m.\u001b[0m\u001b[0mget_loc\u001b[0m\u001b[1;33m(\u001b[0m\u001b[0mcasted_key\u001b[0m\u001b[1;33m)\u001b[0m\u001b[1;33m\u001b[0m\u001b[1;33m\u001b[0m\u001b[0m\n\u001b[0;32m   2896\u001b[0m             \u001b[1;32mexcept\u001b[0m \u001b[0mKeyError\u001b[0m \u001b[1;32mas\u001b[0m \u001b[0merr\u001b[0m\u001b[1;33m:\u001b[0m\u001b[1;33m\u001b[0m\u001b[1;33m\u001b[0m\u001b[0m\n\u001b[1;32m-> 2897\u001b[1;33m                 \u001b[1;32mraise\u001b[0m \u001b[0mKeyError\u001b[0m\u001b[1;33m(\u001b[0m\u001b[0mkey\u001b[0m\u001b[1;33m)\u001b[0m \u001b[1;32mfrom\u001b[0m \u001b[0merr\u001b[0m\u001b[1;33m\u001b[0m\u001b[1;33m\u001b[0m\u001b[0m\n\u001b[0m\u001b[0;32m   2898\u001b[0m \u001b[1;33m\u001b[0m\u001b[0m\n\u001b[0;32m   2899\u001b[0m         \u001b[1;32mif\u001b[0m \u001b[0mtolerance\u001b[0m \u001b[1;32mis\u001b[0m \u001b[1;32mnot\u001b[0m \u001b[1;32mNone\u001b[0m\u001b[1;33m:\u001b[0m\u001b[1;33m\u001b[0m\u001b[1;33m\u001b[0m\u001b[0m\n",
      "\u001b[1;31mKeyError\u001b[0m: 'labels'"
     ]
    }
   ],
   "source": [
    "df_1['labels'] = df_1['labels'].replace(['13'],'1')\n",
    "df_1.head()"
   ]
  },
  {
   "cell_type": "code",
   "execution_count": null,
   "metadata": {},
   "outputs": [],
   "source": [
    "to_change = range(0, 23)\n",
    "to_change = to_change.pop(13)\n",
    "to_change"
   ]
  },
  {
   "cell_type": "code",
   "execution_count": null,
   "metadata": {},
   "outputs": [],
   "source": [
    "for num in to_change:\n",
    "    df_0['labels'] = df_0['labels'].replace([str(num)],'0')\n",
    "df_0.head()"
   ]
  },
  {
   "cell_type": "code",
   "execution_count": null,
   "metadata": {},
   "outputs": [],
   "source": [
    "not_index_13 = {}\n",
    "for num in df.index[df['label'] == 0].tolist():\n",
    "    not_index_13[num] = 1 = {}\n"
   ]
  },
  {
   "cell_type": "code",
   "execution_count": null,
   "metadata": {},
   "outputs": [],
   "source": [
    "save_file('genome_split_200_onehotlabels.csv.gz')"
   ]
  },
  {
   "cell_type": "code",
   "execution_count": null,
   "metadata": {},
   "outputs": [],
   "source": [
    "df = pd.read_csv('../../Data/genome_split_200_onehotlabels.csv.gz', compression='gzip', sep =\"|\")"
   ]
  },
  {
   "cell_type": "code",
   "execution_count": null,
   "metadata": {},
   "outputs": [],
   "source": [
    "df_data = df"
   ]
  },
  {
   "cell_type": "code",
   "execution_count": null,
   "metadata": {},
   "outputs": [],
   "source": [
    "index_other = random.choices(nums, k=len(index_13))\n",
    "index_other"
   ]
  },
  {
   "cell_type": "code",
   "execution_count": null,
   "metadata": {},
   "outputs": [],
   "source": [
    "d = {}\n",
    "count = 0\n",
    "index = 0\n",
    "for chrom, seq in zip(df['chrom'], df['seq']):\n",
    "    if index in index_other:\n",
    "        d[count] = {\"chrom\": chrom, \"seq\": seq, \"label\": 0}\n",
    "        count += 1\n",
    "    elif i in dict_keys:\n",
    "        d[count] = {\"chrom\": chrom, \"seq\": seq, \"label\": 1}\n",
    "        count += 1\n",
    "    index += 1\n",
    "\n",
    "df_2 = df.from_dict(d, \"index\")\n",
    "df_2"
   ]
  },
  {
   "cell_type": "markdown",
   "metadata": {},
   "source": [
    "K-mers Created\n",
    "https://github.com/krishnaik06/DNA-Sequencing-Classifier/blob/master/DNA%20Sequencing%20and%20applying%20Classifier.ipynb"
   ]
  },
  {
   "cell_type": "code",
   "execution_count": null,
   "metadata": {},
   "outputs": [],
   "source": [
    "def getKmers(sequence, size=5):\n",
    "    return [sequence[x:x+size].lower() for x in range(len(sequence) - size + 1)]"
   ]
  },
  {
   "cell_type": "code",
   "execution_count": null,
   "metadata": {},
   "outputs": [],
   "source": [
    "df_data = df_data.head(n=50000)\n",
    "df_data"
   ]
  },
  {
   "cell_type": "code",
   "execution_count": null,
   "metadata": {},
   "outputs": [],
   "source": [
    "df_kmers = df_data\n",
    "df_kmers['words'] = df_data.apply(lambda x: getKmers(x['seq']), axis=1)\n",
    "df_kmers = df_kmers.drop('seq', axis=1)"
   ]
  },
  {
   "cell_type": "code",
   "execution_count": null,
   "metadata": {},
   "outputs": [],
   "source": [
    "df_kmers.head()"
   ]
  },
  {
   "cell_type": "code",
   "execution_count": null,
   "metadata": {},
   "outputs": [],
   "source": [
    "count = 0\n",
    "for word in df_kmers['words']:\n",
    "    if count == 1:\n",
    "        print(word)\n",
    "    count += 1\n",
    "    \n",
    "y_data = df_kmers.iloc[:, 0].values\n",
    "print(y_data[0:10])"
   ]
  },
  {
   "cell_type": "code",
   "execution_count": null,
   "metadata": {},
   "outputs": [],
   "source": [
    "df_kmers_texts = list(df_kmers['words'])\n",
    "for item in range(len(df_kmers)):\n",
    "    df_kmers_texts[item] = ' '.join(df_kmers_texts[item])\n",
    "y_data = df_kmers.iloc[:, 0].values\n",
    "\n",
    "print(df_kmers_texts[2])\n"
   ]
  },
  {
   "cell_type": "code",
   "execution_count": 1,
   "metadata": {},
   "outputs": [
    {
     "ename": "NameError",
     "evalue": "name 'df_kmers_texts' is not defined",
     "output_type": "error",
     "traceback": [
      "\u001b[1;31m---------------------------------------------------------------------------\u001b[0m",
      "\u001b[1;31mNameError\u001b[0m                                 Traceback (most recent call last)",
      "\u001b[1;32m<ipython-input-1-42f5caa3b0eb>\u001b[0m in \u001b[0;36m<module>\u001b[1;34m\u001b[0m\n\u001b[1;32m----> 1\u001b[1;33m \u001b[0mtype\u001b[0m\u001b[1;33m(\u001b[0m\u001b[0mdf_kmers_texts\u001b[0m\u001b[1;33m)\u001b[0m\u001b[1;33m\u001b[0m\u001b[1;33m\u001b[0m\u001b[0m\n\u001b[0m",
      "\u001b[1;31mNameError\u001b[0m: name 'df_kmers_texts' is not defined"
     ]
    }
   ],
   "source": [
    "type(df_kmers_texts)"
   ]
  },
  {
   "cell_type": "code",
   "execution_count": null,
   "metadata": {},
   "outputs": [],
   "source": [
    "df_kmers.to_csv('dataset_200_kmer.csv.gz'\n",
    "         , sep='|'\n",
    "         , header=True\n",
    "         , index=False\n",
    "         , chunksize=100000\n",
    "         , compression='gzip'\n",
    "         , encoding='utf-8')"
   ]
  },
  {
   "cell_type": "code",
   "execution_count": 37,
   "metadata": {},
   "outputs": [
    {
     "name": "stdout",
     "output_type": "stream",
     "text": [
      "50000\n"
     ]
    }
   ],
   "source": [
    "print(len(df_kmers_texts))"
   ]
  },
  {
   "cell_type": "code",
   "execution_count": null,
   "metadata": {},
   "outputs": [],
   "source": [
    "from sklearn.feature_extraction.text import CountVectorizer\n",
    "cv = CountVectorizer(ngram_range=(4,4))\n",
    "X = cv.fit_transform(df_kmers_texts)\n",
    "print(X.shape)\n"
   ]
  },
  {
   "cell_type": "code",
   "execution_count": 31,
   "metadata": {},
   "outputs": [
    {
     "data": {
      "text/plain": [
       "<AxesSubplot:>"
      ]
     },
     "execution_count": 31,
     "metadata": {},
     "output_type": "execute_result"
    },
    {
     "data": {
      "image/png": "[encoded data removed]",
      "text/plain": [
       "<Figure size 432x288 with 1 Axes>"
      ]
     },
     "metadata": {
      "needs_background": "light"
     },
     "output_type": "display_data"
    }
   ],
   "source": [
    "df_kmers['labels'].value_counts().sort_index().plot.bar()"
   ]
  },
  {
   "cell_type": "code",
   "execution_count": 32,
   "metadata": {},
   "outputs": [],
   "source": [
    "from sklearn.model_selection import train_test_split\n",
    "X_train, X_test, y_train, y_test = train_test_split(X, \n",
    "                                                    y_data, \n",
    "                                                    test_size = 0.20, \n",
    "                                                    random_state=42)"
   ]
  },
  {
   "cell_type": "code",
   "execution_count": 33,
   "metadata": {},
   "outputs": [
    {
     "name": "stdout",
     "output_type": "stream",
     "text": [
      "(40000, 262113)\n",
      "(10000, 262113)\n"
     ]
    }
   ],
   "source": [
    "print(X_train.shape)\n",
    "print(X_test.shape)"
   ]
  },
  {
   "cell_type": "markdown",
   "metadata": {},
   "source": [
    "Testing a Naive_Bayes Classifier"
   ]
  },
  {
   "cell_type": "code",
   "execution_count": 34,
   "metadata": {},
   "outputs": [
    {
     "data": {
      "text/plain": [
       "MultinomialNB(alpha=0.1)"
      ]
     },
     "execution_count": 34,
     "metadata": {},
     "output_type": "execute_result"
    }
   ],
   "source": [
    "from sklearn.naive_bayes import MultinomialNB\n",
    "classifier = MultinomialNB(alpha=0.1)\n",
    "classifier.fit(X_train, y_train)"
   ]
  },
  {
   "cell_type": "code",
   "execution_count": 35,
   "metadata": {},
   "outputs": [],
   "source": [
    "y_pred = classifier.predict(X_test)"
   ]
  },
  {
   "cell_type": "code",
   "execution_count": 36,
   "metadata": {},
   "outputs": [
    {
     "name": "stdout",
     "output_type": "stream",
     "text": [
      "Confusion matrix\n",
      "\n",
      "Predicted  chr1  chr2\n",
      "Actual               \n",
      "chr1       6912  1778\n",
      "chr2        977   333\n",
      "accuracy = 0.725 \n",
      "precision = 0.782 \n",
      "recall = 0.725 \n",
      "f1 = 0.750\n"
     ]
    }
   ],
   "source": [
    "from sklearn.metrics import accuracy_score, f1_score, precision_score, recall_score\n",
    "print(\"Confusion matrix\\n\")\n",
    "print(pd.crosstab(pd.Series(y_test, name='Actual'), pd.Series(y_pred, name='Predicted')))\n",
    "def get_metrics(y_test, y_predicted):\n",
    "    accuracy = accuracy_score(y_test, y_predicted)\n",
    "    precision = precision_score(y_test, y_predicted, average='weighted')\n",
    "    recall = recall_score(y_test, y_predicted, average='weighted')\n",
    "    f1 = f1_score(y_test, y_predicted, average='weighted')\n",
    "    return accuracy, precision, recall, f1\n",
    "accuracy, precision, recall, f1 = get_metrics(y_test, y_pred)\n",
    "print(\"accuracy = %.3f \\nprecision = %.3f \\nrecall = %.3f \\nf1 = %.3f\" % (accuracy, precision, recall, f1))"
   ]
  },
  {
   "cell_type": "code",
   "execution_count": null,
   "metadata": {},
   "outputs": [],
   "source": []
  }
 ],
 "metadata": {
  "kernelspec": {
   "display_name": "Python 3",
   "language": "python",
   "name": "python3"
  },
  "language_info": {
   "codemirror_mode": {
    "name": "ipython",
    "version": 3
   },
   "file_extension": ".py",
   "mimetype": "text/x-python",
   "name": "python",
   "nbconvert_exporter": "python",
   "pygments_lexer": "ipython3",
   "version": "3.8.5"
  }
 },
 "nbformat": 4,
 "nbformat_minor": 4
}
